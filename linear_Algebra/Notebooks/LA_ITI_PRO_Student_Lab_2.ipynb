{
 "cells": [
  {
   "cell_type": "markdown",
   "metadata": {},
   "source": [
    "# LAB 2: Solving a System of Linear Equations, Eigenvalues, and Eigenvectors\n",
    "\n",
    "In this lab you will use python to study the following topics:\n",
    "\n",
    "- How to calculate the inverse of a matrix using numpy.\n",
    "\n",
    "- How to calculate the determinant of a matrix using numpy.\n",
    "\n",
    "- How to solve a system of linear equations.\n",
    "\n",
    "- Determination of eigenvalues and eigenvectors using numpy."
   ]
  },
  {
   "cell_type": "markdown",
   "metadata": {},
   "source": [
    "# First: you should run this cell"
   ]
  },
  {
   "cell_type": "code",
   "execution_count": null,
   "metadata": {},
   "outputs": [],
   "source": [
    "# Make all numpy available via shorter 'np' prefix\n",
    "import numpy as np\n",
    "\n",
    "#import plotter\n",
    "import matplotlib.pyplot as plt"
   ]
  },
  {
   "cell_type": "markdown",
   "metadata": {},
   "source": [
    "# Question 1 : Determinant and Inverse\n",
    "\n",
    "Use [numpy.linalg.inv](https://numpy.org/doc/stable/reference/generated/numpy.linalg.inv.html) and [numpy.linalg.det](https://numpy.org/doc/stable/reference/generated/numpy.linalg.det.html) to calculate the determinant and the inverse for the following matrices:\n",
    "\n",
    "$A = \\begin{bmatrix} 1 & 2   \\\\ 3 & 4   \\\\ \\end{bmatrix}$,\n",
    "$B = \\begin{bmatrix} 1 & 2   \\\\ 3 & 6   \\\\ \\end{bmatrix}$, \n",
    "$C = \\begin{bmatrix} 1 & 2 & 4  \\\\ 2 & -1 & 3 \\\\ 4 & 0 & 1  \\\\ \\end{bmatrix}$,\n",
    "and $D = \\begin{bmatrix} 1 & 2 & 5  \\\\ 2 & 3 & 7 \\\\ 1 & 1 & 2  \\\\ \\end{bmatrix}$"
   ]
  },
  {
   "cell_type": "code",
   "execution_count": null,
   "metadata": {},
   "outputs": [],
   "source": [
    "#type your code here:\n"
   ]
  },
  {
   "cell_type": "markdown",
   "metadata": {},
   "source": [
    "# Question 2 : Solving $Ax = b$\n",
    "\n",
    "Solve $Ax = b$ using the inverse of $A$ for the following systems of linear equations:\n",
    "\n",
    "1) $x + 2y = -1$; $3x + 4y = 1$\n",
    "\n",
    "2) $3x - 2y + z = 7$; $x + z = 2$; $-2y - z = 3$"
   ]
  },
  {
   "cell_type": "code",
   "execution_count": null,
   "metadata": {},
   "outputs": [],
   "source": [
    "#type your code here:\n"
   ]
  },
  {
   "cell_type": "markdown",
   "metadata": {},
   "source": [
    "# Question 3 : Eigenvalues and Eigenvectors\n",
    "\n",
    "a) Use [numpy.linalg.eig](https://numpy.org/doc/stable/reference/generated/numpy.linalg.eig.html) to obtain the eigenvalues of `A` as follows:\n",
    "    - `w, v = np.linalg.eig(A)`. Where `w` are the eigenvalues and `v`the normalized (unit “length”) eigenvectors, such that the column `v[:,i]` is the eigenvector corresponding to the eigenvalue `w[i]`.\n",
    "    \n",
    "$A = \\begin{bmatrix} 1 & 2   \\\\ 4 & 3   \\\\ \\end{bmatrix}$\n",
    "\n",
    "- Plot the vectors $v_i$ and $Av_i$, where $v_i$ are the eigenvectors of $A$"
   ]
  },
  {
   "cell_type": "code",
   "execution_count": null,
   "metadata": {},
   "outputs": [],
   "source": [
    "#type your code here:\n"
   ]
  },
  {
   "cell_type": "markdown",
   "metadata": {},
   "source": [
    "B) Obtain the eigenvalues and the eigenvectors for $B$\n",
    "\n",
    "$B = \\begin{bmatrix} 5 & 4 & 9  \\\\ 1 & 4 & 0 \\\\ 9 & 5 & 5  \\\\ \\end{bmatrix}$"
   ]
  },
  {
   "cell_type": "code",
   "execution_count": null,
   "metadata": {},
   "outputs": [],
   "source": [
    "#type your code here:\n"
   ]
  }
 ],
 "metadata": {
  "kernelspec": {
   "display_name": "Python 3",
   "language": "python",
   "name": "python3"
  },
  "language_info": {
   "codemirror_mode": {
    "name": "ipython",
    "version": 3
   },
   "file_extension": ".py",
   "mimetype": "text/x-python",
   "name": "python",
   "nbconvert_exporter": "python",
   "pygments_lexer": "ipython3",
   "version": "3.8.5"
  }
 },
 "nbformat": 4,
 "nbformat_minor": 4
}
