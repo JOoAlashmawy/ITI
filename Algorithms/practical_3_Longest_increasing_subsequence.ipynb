{
 "cells": [
  {
   "cell_type": "code",
   "execution_count": 50,
   "metadata": {},
   "outputs": [],
   "source": [
    "    # I understood from here \n",
    "    # https://www.youtube.com/watch?v=mouCn3CFpgg\n",
    "    # https://upload.wikimedia.org/wikipedia/commons/1/1d/LISDemo.gif"
   ]
  },
  {
   "cell_type": "code",
   "execution_count": 52,
   "metadata": {},
   "outputs": [],
   "source": [
    "def Longest_increasing_subsequence(myList):\n",
    "    LIS = 0\n",
    "    new_list = [1]*len(myList)\n",
    "    for i in range(len(myList)):\n",
    "#         new_list.append(myList[i])\n",
    "        for j in range(i):\n",
    "            if myList[j]<myList[i] and new_list[i] <= new_list[j]:\n",
    "                new_list[i] = new_list[j] + 1\n",
    "\n",
    "#         print(new_list,LIS)\n",
    "\n",
    "    LIS = max(new_list)\n",
    "    \n",
    "    return LIS"
   ]
  },
  {
   "cell_type": "code",
   "execution_count": null,
   "metadata": {},
   "outputs": [],
   "source": []
  },
  {
   "cell_type": "code",
   "execution_count": 53,
   "metadata": {},
   "outputs": [
    {
     "name": "stdout",
     "output_type": "stream",
     "text": [
      "3\n"
     ]
    }
   ],
   "source": [
    "print(Longest_increasing_subsequence([5, 8, 7, 1, 9]))  # the answer is 3"
   ]
  },
  {
   "cell_type": "code",
   "execution_count": 54,
   "metadata": {},
   "outputs": [
    {
     "name": "stdout",
     "output_type": "stream",
     "text": [
      "6\n"
     ]
    }
   ],
   "source": [
    "print(Longest_increasing_subsequence([0,8,4,12,2,10,6,14,1,9,5,13,3,11,7,15])) #the answer is 6"
   ]
  },
  {
   "cell_type": "code",
   "execution_count": null,
   "metadata": {},
   "outputs": [],
   "source": []
  },
  {
   "cell_type": "code",
   "execution_count": null,
   "metadata": {},
   "outputs": [],
   "source": []
  },
  {
   "cell_type": "code",
   "execution_count": null,
   "metadata": {},
   "outputs": [],
   "source": []
  }
 ],
 "metadata": {
  "kernelspec": {
   "display_name": "Python 3",
   "language": "python",
   "name": "python3"
  },
  "language_info": {
   "codemirror_mode": {
    "name": "ipython",
    "version": 3
   },
   "file_extension": ".py",
   "mimetype": "text/x-python",
   "name": "python",
   "nbconvert_exporter": "python",
   "pygments_lexer": "ipython3",
   "version": "3.7.4"
  }
 },
 "nbformat": 4,
 "nbformat_minor": 2
}
