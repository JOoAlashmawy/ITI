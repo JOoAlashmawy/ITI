{
 "cells": [
  {
   "cell_type": "markdown",
   "metadata": {},
   "source": [
    "# Q1"
   ]
  },
  {
   "cell_type": "code",
   "execution_count": 2,
   "metadata": {},
   "outputs": [],
   "source": [
    "def linearSearch(l,num):\n",
    "    for i in range(len(l)):\n",
    "        if(l[i]==num):\n",
    "            return i\n",
    "        \n",
    "    return \"Not in the list\"    "
   ]
  },
  {
   "cell_type": "code",
   "execution_count": 4,
   "metadata": {},
   "outputs": [
    {
     "name": "stdout",
     "output_type": "stream",
     "text": [
      "4\n",
      "Not in the list\n"
     ]
    }
   ],
   "source": [
    "l = [1,2,3,4,5,6,7,8,9]\n",
    "\n",
    "print(linearSearch(l,5))\n",
    "\n",
    "print(linearSearch(l,10))"
   ]
  },
  {
   "cell_type": "markdown",
   "metadata": {},
   "source": [
    "# Q2"
   ]
  },
  {
   "cell_type": "code",
   "execution_count": 9,
   "metadata": {},
   "outputs": [],
   "source": [
    "def binarySearch(l, start, last, num):\n",
    "    mid = (last + start)//2\n",
    "    \n",
    "    if (last > start):\n",
    "        if(l[mid] == num):\n",
    "            return mid\n",
    "        elif(l[mid] > num):\n",
    "            return binarySearch(l, start, mid - 1, num )\n",
    "        else:\n",
    "            return binarySearch(l, mid + 1, last, num )\n",
    "    else:\n",
    "        return \"Not in the list\""
   ]
  },
  {
   "cell_type": "code",
   "execution_count": 10,
   "metadata": {},
   "outputs": [
    {
     "name": "stdout",
     "output_type": "stream",
     "text": [
      "4\n",
      "Not in the list\n"
     ]
    }
   ],
   "source": [
    "l = [1,2,3,4,5,6,7,8,9]\n",
    "\n",
    "print(binarySearch(l, 0, len(l)-1, 5))\n",
    "\n",
    "print(binarySearch(l, 0, len(l)-1, 10))"
   ]
  },
  {
   "cell_type": "markdown",
   "metadata": {},
   "source": [
    "\n",
    "# 3"
   ]
  },
  {
   "cell_type": "code",
   "execution_count": 23,
   "metadata": {},
   "outputs": [],
   "source": [
    "def GCD_merge_sort(l):\n",
    "\n",
    "    if len(l) <= 1:\n",
    "        return l\n",
    "    else:\n",
    "        mid = len(l) // 2\n",
    "\n",
    "        left = l[:mid]\n",
    "        right = l[mid:]\n",
    "\n",
    "        left_sorted, right_sorted = GCD_merge_sort(left), GCD_merge_sort(right)\n",
    "\n",
    "        sorted_nums =  merge(left_sorted, right_sorted)\n",
    "    \n",
    "    return sorted_nums"
   ]
  },
  {
   "cell_type": "code",
   "execution_count": 25,
   "metadata": {},
   "outputs": [],
   "source": [
    "def merge(nums1, nums2):\n",
    "    merged = []\n",
    "    \n",
    "    i, j = 0, 0\n",
    "    \n",
    "    while i < len(nums1) and j < len(nums2):        \n",
    "        \n",
    "        if nums1[i] <= nums2[j]:\n",
    "            merged.append(nums1[i])\n",
    "            i += 1 \n",
    "        else:\n",
    "            merged.append(nums2[j])\n",
    "            j += 1\n",
    "    \n",
    "    nums1_tail = nums1[i:]\n",
    "    nums2_tail = nums2[j:] #one from them 0\n",
    "    \n",
    "    return merged + nums1_tail + nums2_tail"
   ]
  },
  {
   "cell_type": "code",
   "execution_count": 26,
   "metadata": {},
   "outputs": [
    {
     "name": "stdout",
     "output_type": "stream",
     "text": [
      "[1, 2, 3, 4, 4, 5, 6, 7, 8, 9, 10]\n"
     ]
    }
   ],
   "source": [
    "l = [5,4,7,8,9,2,1,4,6,3,10]\n",
    "print(GCD_merge_sort(l))"
   ]
  },
  {
   "cell_type": "code",
   "execution_count": null,
   "metadata": {},
   "outputs": [],
   "source": []
  }
 ],
 "metadata": {
  "kernelspec": {
   "display_name": "Python 3",
   "language": "python",
   "name": "python3"
  },
  "language_info": {
   "codemirror_mode": {
    "name": "ipython",
    "version": 3
   },
   "file_extension": ".py",
   "mimetype": "text/x-python",
   "name": "python",
   "nbconvert_exporter": "python",
   "pygments_lexer": "ipython3",
   "version": "3.7.4"
  }
 },
 "nbformat": 4,
 "nbformat_minor": 2
}
