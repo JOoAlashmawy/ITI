{
 "cells": [
  {
   "cell_type": "code",
   "execution_count": 3,
   "metadata": {},
   "outputs": [
    {
     "name": "stdout",
     "output_type": "stream",
     "text": [
      "Collecting pymongo\n",
      "  Downloading https://files.pythonhosted.org/packages/f0/f6/73614cad83e38099d3464107660f2038497d24ba0b76de5a21fee9ef85ad/pymongo-3.12.0-cp37-cp37m-win_amd64.whl (396kB)\n",
      "Installing collected packages: pymongo\n",
      "Successfully installed pymongo-3.12.0\n",
      "Note: you may need to restart the kernel to use updated packages.\n"
     ]
    }
   ],
   "source": [
    "pip install pymongo"
   ]
  },
  {
   "cell_type": "code",
   "execution_count": 1,
   "metadata": {},
   "outputs": [],
   "source": [
    "from pymongo import MongoClient"
   ]
  },
  {
   "cell_type": "markdown",
   "metadata": {},
   "source": [
    "# Connecting to MongoDB"
   ]
  },
  {
   "cell_type": "code",
   "execution_count": 3,
   "metadata": {},
   "outputs": [],
   "source": [
    "client = MongoClient(\"mongodb://localhost:27017\")"
   ]
  },
  {
   "cell_type": "code",
   "execution_count": 4,
   "metadata": {},
   "outputs": [],
   "source": [
    "db = client.local"
   ]
  },
  {
   "cell_type": "markdown",
   "metadata": {},
   "source": [
    "# Helper functions"
   ]
  },
  {
   "cell_type": "code",
   "execution_count": 7,
   "metadata": {},
   "outputs": [],
   "source": [
    "def print_cursor(c):\n",
    "    for i in cursor:\n",
    "        print(i)"
   ]
  },
  {
   "cell_type": "markdown",
   "metadata": {},
   "source": [
    "---\n",
    "# Insert Documents"
   ]
  },
  {
   "cell_type": "code",
   "execution_count": 8,
   "metadata": {},
   "outputs": [],
   "source": [
    "client.drop_database(\"local\")"
   ]
  },
  {
   "cell_type": "markdown",
   "metadata": {},
   "source": [
    "## Insert a Single Document"
   ]
  },
  {
   "cell_type": "code",
   "execution_count": 9,
   "metadata": {},
   "outputs": [
    {
     "name": "stdout",
     "output_type": "stream",
     "text": [
      "{'_id': ObjectId('611d17cd9acce6d87c8166ce'), 'item': 'canvas', 'qty': 100, 'tags': ['cotton'], 'size': {'h': 28, 'w': 35.5, 'uom': 'cm'}}\n"
     ]
    }
   ],
   "source": [
    "db.inventory.insert_one(\n",
    "    {\"item\": \"canvas\",\n",
    "     \"qty\": 100,\n",
    "     \"tags\": [\"cotton\"],\n",
    "     \"size\": {\"h\": 28, \"w\": 35.5, \"uom\": \"cm\"}})\n",
    "\n",
    "cursor = db.inventory.find({\"item\": \"canvas\"})\n",
    "print_cursor(cursor)"
   ]
  },
  {
   "cell_type": "markdown",
   "metadata": {},
   "source": [
    "## Insert Multiple Documents"
   ]
  },
  {
   "cell_type": "code",
   "execution_count": 10,
   "metadata": {},
   "outputs": [
    {
     "name": "stdout",
     "output_type": "stream",
     "text": [
      "{'_id': ObjectId('611d17cd9acce6d87c8166ce'), 'item': 'canvas', 'qty': 100, 'tags': ['cotton'], 'size': {'h': 28, 'w': 35.5, 'uom': 'cm'}}\n",
      "{'_id': ObjectId('611d17cf9acce6d87c8166cf'), 'item': 'journal', 'qty': 25, 'tags': ['blank', 'red'], 'size': {'h': 14, 'w': 21, 'uom': 'cm'}}\n",
      "{'_id': ObjectId('611d17cf9acce6d87c8166d0'), 'item': 'mat', 'qty': 85, 'tags': ['gray'], 'size': {'h': 27.9, 'w': 35.5, 'uom': 'cm'}}\n",
      "{'_id': ObjectId('611d17cf9acce6d87c8166d1'), 'item': 'mousepad', 'qty': 25, 'tags': ['gel', 'blue'], 'size': {'h': 19, 'w': 22.85, 'uom': 'cm'}}\n"
     ]
    }
   ],
   "source": [
    "db.inventory.insert_many([\n",
    "    {\"item\": \"journal\",\n",
    "     \"qty\": 25,\n",
    "     \"tags\": [\"blank\", \"red\"],\n",
    "     \"size\": {\"h\": 14, \"w\": 21, \"uom\": \"cm\"}},\n",
    "    {\"item\": \"mat\",\n",
    "     \"qty\": 85,\n",
    "     \"tags\": [\"gray\"],\n",
    "     \"size\": {\"h\": 27.9, \"w\": 35.5, \"uom\": \"cm\"}},\n",
    "    {\"item\": \"mousepad\",\n",
    "     \"qty\": 25,\n",
    "     \"tags\": [\"gel\", \"blue\"],\n",
    "     \"size\": {\"h\": 19, \"w\": 22.85, \"uom\": \"cm\"}}])\n",
    "\n",
    "cursor = db.inventory.find()\n",
    "print_cursor(cursor)"
   ]
  },
  {
   "cell_type": "markdown",
   "metadata": {},
   "source": [
    "---\n",
    "# Query Documents"
   ]
  },
  {
   "cell_type": "code",
   "execution_count": 11,
   "metadata": {},
   "outputs": [],
   "source": [
    "# client.drop_database(\"local\")"
   ]
  },
  {
   "cell_type": "markdown",
   "metadata": {},
   "source": [
    "## Select All Documents in a Collection"
   ]
  },
  {
   "cell_type": "code",
   "execution_count": 12,
   "metadata": {},
   "outputs": [
    {
     "name": "stdout",
     "output_type": "stream",
     "text": [
      "{'_id': ObjectId('611d17cd9acce6d87c8166ce'), 'item': 'canvas', 'qty': 100, 'tags': ['cotton'], 'size': {'h': 28, 'w': 35.5, 'uom': 'cm'}}\n",
      "{'_id': ObjectId('611d17cf9acce6d87c8166cf'), 'item': 'journal', 'qty': 25, 'tags': ['blank', 'red'], 'size': {'h': 14, 'w': 21, 'uom': 'cm'}}\n",
      "{'_id': ObjectId('611d17cf9acce6d87c8166d0'), 'item': 'mat', 'qty': 85, 'tags': ['gray'], 'size': {'h': 27.9, 'w': 35.5, 'uom': 'cm'}}\n",
      "{'_id': ObjectId('611d17cf9acce6d87c8166d1'), 'item': 'mousepad', 'qty': 25, 'tags': ['gel', 'blue'], 'size': {'h': 19, 'w': 22.85, 'uom': 'cm'}}\n"
     ]
    }
   ],
   "source": [
    "cursor = db.inventory.find()\n",
    "print_cursor(cursor)"
   ]
  },
  {
   "cell_type": "markdown",
   "metadata": {},
   "source": [
    "## Specify Equality Condition"
   ]
  },
  {
   "cell_type": "code",
   "execution_count": 13,
   "metadata": {},
   "outputs": [
    {
     "name": "stdout",
     "output_type": "stream",
     "text": [
      "{'_id': ObjectId('611d17cf9acce6d87c8166cf'), 'item': 'journal', 'qty': 25, 'tags': ['blank', 'red'], 'size': {'h': 14, 'w': 21, 'uom': 'cm'}}\n"
     ]
    }
   ],
   "source": [
    "cursor = db.inventory.find({'item': 'journal'})\n",
    "print_cursor(cursor)"
   ]
  },
  {
   "cell_type": "markdown",
   "metadata": {},
   "source": [
    "## Specify Conditions Using Query Operators"
   ]
  },
  {
   "cell_type": "code",
   "execution_count": 14,
   "metadata": {},
   "outputs": [
    {
     "name": "stdout",
     "output_type": "stream",
     "text": [
      "{'_id': ObjectId('611d17cf9acce6d87c8166cf'), 'item': 'journal', 'qty': 25, 'tags': ['blank', 'red'], 'size': {'h': 14, 'w': 21, 'uom': 'cm'}}\n",
      "{'_id': ObjectId('611d17cf9acce6d87c8166d0'), 'item': 'mat', 'qty': 85, 'tags': ['gray'], 'size': {'h': 27.9, 'w': 35.5, 'uom': 'cm'}}\n"
     ]
    }
   ],
   "source": [
    "cursor = db.inventory.find({'item': {\"$in\":['journal','mat']}})\n",
    "print_cursor(cursor)"
   ]
  },
  {
   "cell_type": "markdown",
   "metadata": {},
   "source": [
    "## Specify AND Conditions"
   ]
  },
  {
   "cell_type": "code",
   "execution_count": 15,
   "metadata": {},
   "outputs": [
    {
     "name": "stdout",
     "output_type": "stream",
     "text": [
      "{'_id': ObjectId('611d17cf9acce6d87c8166cf'), 'item': 'journal', 'qty': 25, 'tags': ['blank', 'red'], 'size': {'h': 14, 'w': 21, 'uom': 'cm'}}\n"
     ]
    }
   ],
   "source": [
    "cursor = db.inventory.find({'item': {\"$in\":['journal','mat']}, 'qty': 25})\n",
    "print_cursor(cursor)"
   ]
  },
  {
   "cell_type": "markdown",
   "metadata": {},
   "source": [
    "## Specify OR Conditions"
   ]
  },
  {
   "cell_type": "code",
   "execution_count": 16,
   "metadata": {},
   "outputs": [
    {
     "name": "stdout",
     "output_type": "stream",
     "text": [
      "{'_id': ObjectId('611d17cf9acce6d87c8166cf'), 'item': 'journal', 'qty': 25, 'tags': ['blank', 'red'], 'size': {'h': 14, 'w': 21, 'uom': 'cm'}}\n",
      "{'_id': ObjectId('611d17cf9acce6d87c8166d0'), 'item': 'mat', 'qty': 85, 'tags': ['gray'], 'size': {'h': 27.9, 'w': 35.5, 'uom': 'cm'}}\n",
      "{'_id': ObjectId('611d17cf9acce6d87c8166d1'), 'item': 'mousepad', 'qty': 25, 'tags': ['gel', 'blue'], 'size': {'h': 19, 'w': 22.85, 'uom': 'cm'}}\n"
     ]
    }
   ],
   "source": [
    "cursor = db.inventory.find({\"$or\":[{'item': {\"$in\":['journal','mat']}},{'qty': 25}]})\n",
    "print_cursor(cursor)"
   ]
  },
  {
   "cell_type": "markdown",
   "metadata": {},
   "source": [
    "## Specify AND as well as OR Conditions"
   ]
  },
  {
   "cell_type": "code",
   "execution_count": 17,
   "metadata": {},
   "outputs": [
    {
     "name": "stdout",
     "output_type": "stream",
     "text": [
      "{'_id': ObjectId('611d17cf9acce6d87c8166d1'), 'item': 'mousepad', 'qty': 25, 'tags': ['gel', 'blue'], 'size': {'h': 19, 'w': 22.85, 'uom': 'cm'}}\n"
     ]
    }
   ],
   "source": [
    "cursor = db.inventory.find({\n",
    "    'tags': 'blue',\n",
    "    \"$or\":[{'item': {\"$in\":['journal','mat']}},{'qty': 25}]})\n",
    "print_cursor(cursor)"
   ]
  },
  {
   "cell_type": "markdown",
   "metadata": {},
   "source": [
    "---\n",
    "# Query on Embedded/Nested Documents"
   ]
  },
  {
   "cell_type": "code",
   "execution_count": 18,
   "metadata": {},
   "outputs": [],
   "source": [
    "client.drop_database(\"local\")"
   ]
  },
  {
   "cell_type": "code",
   "execution_count": 19,
   "metadata": {},
   "outputs": [
    {
     "name": "stdout",
     "output_type": "stream",
     "text": [
      "{'_id': ObjectId('611d17dc9acce6d87c8166d2'), 'item': 'canvas', 'qty': 100, 'tags': ['cotton'], 'size': {'h': 28, 'w': 35.5, 'uom': 'cm'}}\n",
      "{'_id': ObjectId('611d17dc9acce6d87c8166d3'), 'item': 'journal', 'qty': 25, 'tags': ['blank', 'red'], 'size': {'h': 14, 'w': 21, 'uom': 'cm'}}\n",
      "{'_id': ObjectId('611d17dc9acce6d87c8166d4'), 'item': 'mat', 'qty': 85, 'tags': ['gray'], 'size': {'h': 27.9, 'w': 35.5, 'uom': 'cm'}}\n",
      "{'_id': ObjectId('611d17dc9acce6d87c8166d5'), 'item': 'mousepad', 'qty': 25, 'tags': ['gel', 'blue'], 'size': {'h': 19, 'w': 22.85, 'uom': 'cm'}}\n"
     ]
    }
   ],
   "source": [
    "from bson.son import SON\n",
    "\n",
    "db.inventory.insert_one(\n",
    "    {\"item\": \"canvas\",\n",
    "     \"qty\": 100,\n",
    "     \"tags\": [\"cotton\"],\n",
    "     \"size\": SON([(\"h\", 28),(\"w\", 35.5),(\"uom\", \"cm\")])})\n",
    "\n",
    "db.inventory.insert_many([\n",
    "    {\"item\": \"journal\",\n",
    "     \"qty\": 25,\n",
    "     \"tags\": [\"blank\", \"red\"],\n",
    "     \"size\": SON([(\"h\", 14),(\"w\", 21),(\"uom\", \"cm\")])},\n",
    "    {\"item\": \"mat\",\n",
    "     \"qty\": 85,\n",
    "     \"tags\": [\"gray\"],\n",
    "     \"size\": SON([(\"h\", 27.9),(\"w\", 35.5),(\"uom\", \"cm\")])},\n",
    "    {\"item\": \"mousepad\",\n",
    "     \"qty\": 25,\n",
    "     \"tags\": [\"gel\", \"blue\"],\n",
    "     \"size\": SON([(\"h\", 19),(\"w\", 22.85),(\"uom\", \"cm\")])}])\n",
    "\n",
    "cursor = db.inventory.find()\n",
    "print_cursor(cursor)"
   ]
  },
  {
   "cell_type": "markdown",
   "metadata": {},
   "source": [
    "## Match an Embedded/Nested Document"
   ]
  },
  {
   "cell_type": "code",
   "execution_count": 20,
   "metadata": {},
   "outputs": [
    {
     "name": "stdout",
     "output_type": "stream",
     "text": [
      "{'_id': ObjectId('611d17dc9acce6d87c8166d4'), 'item': 'mat', 'qty': 85, 'tags': ['gray'], 'size': {'h': 27.9, 'w': 35.5, 'uom': 'cm'}}\n"
     ]
    }
   ],
   "source": [
    "cursor = db.inventory.find({\n",
    "\"size\": SON([(\"h\", 27.9),(\"w\", 35.5),(\"uom\", \"cm\")])\n",
    "})\n",
    "print_cursor(cursor)"
   ]
  },
  {
   "cell_type": "markdown",
   "metadata": {},
   "source": [
    "## Query on Nested Field"
   ]
  },
  {
   "cell_type": "code",
   "execution_count": 21,
   "metadata": {},
   "outputs": [],
   "source": [
    "cursor = db.inventory.find({\n",
    "\"size\": SON([(\"w\", 35.5),(\"h\", 27.9),(\"uom\", \"cm\")])\n",
    "})\n",
    "print_cursor(cursor)"
   ]
  },
  {
   "cell_type": "markdown",
   "metadata": {},
   "source": [
    "### Specify Equality Match on a Nested Field"
   ]
  },
  {
   "cell_type": "code",
   "execution_count": 22,
   "metadata": {},
   "outputs": [
    {
     "name": "stdout",
     "output_type": "stream",
     "text": [
      "{'_id': ObjectId('611d17dc9acce6d87c8166d3'), 'item': 'journal', 'qty': 25, 'tags': ['blank', 'red'], 'size': {'h': 14, 'w': 21, 'uom': 'cm'}}\n"
     ]
    }
   ],
   "source": [
    "cursor = db.inventory.find({\n",
    "\"size.h\": 14\n",
    "})\n",
    "print_cursor(cursor)"
   ]
  },
  {
   "cell_type": "markdown",
   "metadata": {},
   "source": [
    "### Specify Match using Query Operator"
   ]
  },
  {
   "cell_type": "code",
   "execution_count": 23,
   "metadata": {},
   "outputs": [
    {
     "name": "stdout",
     "output_type": "stream",
     "text": [
      "{'_id': ObjectId('611d17dc9acce6d87c8166d2'), 'item': 'canvas', 'qty': 100, 'tags': ['cotton'], 'size': {'h': 28, 'w': 35.5, 'uom': 'cm'}}\n",
      "{'_id': ObjectId('611d17dc9acce6d87c8166d4'), 'item': 'mat', 'qty': 85, 'tags': ['gray'], 'size': {'h': 27.9, 'w': 35.5, 'uom': 'cm'}}\n"
     ]
    }
   ],
   "source": [
    "cursor = db.inventory.find({\n",
    "\"size.h\": {\"$gt\": 20}\n",
    "})\n",
    "print_cursor(cursor)"
   ]
  },
  {
   "cell_type": "markdown",
   "metadata": {},
   "source": [
    "### Specify AND Condition"
   ]
  },
  {
   "cell_type": "code",
   "execution_count": 24,
   "metadata": {},
   "outputs": [
    {
     "name": "stdout",
     "output_type": "stream",
     "text": [
      "{'_id': ObjectId('611d17dc9acce6d87c8166d2'), 'item': 'canvas', 'qty': 100, 'tags': ['cotton'], 'size': {'h': 28, 'w': 35.5, 'uom': 'cm'}}\n",
      "{'_id': ObjectId('611d17dc9acce6d87c8166d4'), 'item': 'mat', 'qty': 85, 'tags': ['gray'], 'size': {'h': 27.9, 'w': 35.5, 'uom': 'cm'}}\n"
     ]
    }
   ],
   "source": [
    "cursor = db.inventory.find({\n",
    "    \"size.h\": {\"$lt\": 30},\n",
    "    \"size.w\": {\"$gt\": 25}\n",
    "})\n",
    "print_cursor(cursor)"
   ]
  },
  {
   "cell_type": "markdown",
   "metadata": {},
   "source": [
    "---\n",
    "# Query an Array\n"
   ]
  },
  {
   "cell_type": "code",
   "execution_count": 25,
   "metadata": {},
   "outputs": [],
   "source": [
    "# client.drop_database(\"local\")"
   ]
  },
  {
   "cell_type": "markdown",
   "metadata": {},
   "source": [
    "## Match an Array"
   ]
  },
  {
   "cell_type": "code",
   "execution_count": 26,
   "metadata": {},
   "outputs": [
    {
     "name": "stdout",
     "output_type": "stream",
     "text": [
      "{'_id': ObjectId('611d17dc9acce6d87c8166d5'), 'item': 'mousepad', 'qty': 25, 'tags': ['gel', 'blue'], 'size': {'h': 19, 'w': 22.85, 'uom': 'cm'}}\n"
     ]
    }
   ],
   "source": [
    "cursor = db.inventory.find({\n",
    "    \"tags\": [\"gel\", \"blue\"]\n",
    "})\n",
    "print_cursor(cursor)"
   ]
  },
  {
   "cell_type": "markdown",
   "metadata": {},
   "source": [
    "## Query an Array for an Element"
   ]
  },
  {
   "cell_type": "code",
   "execution_count": 27,
   "metadata": {},
   "outputs": [
    {
     "name": "stdout",
     "output_type": "stream",
     "text": [
      "{'_id': ObjectId('611d17dc9acce6d87c8166d5'), 'item': 'mousepad', 'qty': 25, 'tags': ['gel', 'blue'], 'size': {'h': 19, 'w': 22.85, 'uom': 'cm'}}\n"
     ]
    }
   ],
   "source": [
    "cursor = db.inventory.find({\n",
    "    \"tags\": \"blue\"\n",
    "})\n",
    "print_cursor(cursor)"
   ]
  },
  {
   "cell_type": "markdown",
   "metadata": {},
   "source": [
    "## Query an Array for an Element\n",
    "### Query an Array with Compound Filter Conditions on the Array Elements"
   ]
  },
  {
   "cell_type": "code",
   "execution_count": 28,
   "metadata": {},
   "outputs": [
    {
     "name": "stdout",
     "output_type": "stream",
     "text": [
      "{'_id': ObjectId('611d17dc9acce6d87c8166d5'), 'item': 'mousepad', 'qty': 25, 'tags': ['gel', 'blue'], 'size': {'h': 19, 'w': 22.85, 'uom': 'cm'}}\n"
     ]
    }
   ],
   "source": [
    "cursor = db.inventory.find({\n",
    "    \"size.h\": {\"$gt\":15 , \"$lt\":25} \n",
    "})\n",
    "print_cursor(cursor)"
   ]
  },
  {
   "cell_type": "markdown",
   "metadata": {},
   "source": [
    "### Query for an Array Element that Meets Multiple Criteria"
   ]
  },
  {
   "cell_type": "code",
   "execution_count": 31,
   "metadata": {},
   "outputs": [],
   "source": [
    "cursor = db.inventory.find({\n",
    "    \"size.h\": {\"$elemMatch\": {\"$gt\":10 , \"$lt\":15}} \n",
    "})\n",
    "print_cursor(cursor)"
   ]
  },
  {
   "cell_type": "code",
   "execution_count": null,
   "metadata": {},
   "outputs": [],
   "source": []
  },
  {
   "cell_type": "markdown",
   "metadata": {},
   "source": [
    "### Query for an Element by the Array Index Position"
   ]
  },
  {
   "cell_type": "code",
   "execution_count": 53,
   "metadata": {},
   "outputs": [
    {
     "name": "stdout",
     "output_type": "stream",
     "text": [
      "{'_id': ObjectId('6119652bbbf9c520d7b7c89f'), 'item': 'canvas', 'qty': 100, 'tags': ['cotton'], 'size': {'h': 28, 'w': 35.5, 'uom': 'cm'}}\n",
      "{'_id': ObjectId('6119652bbbf9c520d7b7c8a1'), 'item': 'mat', 'qty': 85, 'tags': ['gray'], 'size': {'h': 27.9, 'w': 35.5, 'uom': 'cm'}}\n",
      "{'_id': ObjectId('6119652bbbf9c520d7b7c8a2'), 'item': 'mousepad', 'qty': 25, 'tags': ['gel', 'blue'], 'size': {'h': 19, 'w': 22.85, 'uom': 'cm'}}\n"
     ]
    }
   ],
   "source": [
    "cursor = db.inventory.find({\n",
    "    \"size.h\": {\"$gt\":15 } \n",
    "})\n",
    "print_cursor(cursor)"
   ]
  },
  {
   "cell_type": "markdown",
   "metadata": {},
   "source": [
    "### Query an Array by Array Length"
   ]
  },
  {
   "cell_type": "code",
   "execution_count": 55,
   "metadata": {},
   "outputs": [
    {
     "name": "stdout",
     "output_type": "stream",
     "text": [
      "{'_id': ObjectId('61196ccabbf9c520d7b7c8a3'), 'item': 'canvas', 'qty': 100, 'tags': ['cotton', 'blank', 'red'], 'size': {'h': 22, 'w': 15, 'uom': 'cm'}}\n"
     ]
    }
   ],
   "source": [
    "db.inventory.insert_one(\n",
    "    {\"item\": \"canvas\",\n",
    "     \"qty\": 100,\n",
    "     \"tags\": [\"cotton\",\"blank\", \"red\"],\n",
    "     \"size\": SON([(\"h\", 22),(\"w\", 15),(\"uom\", \"cm\")])})\n",
    "\n",
    "cursor = db.inventory.find({\"tags\": {\"$size\": 3}})\n",
    "print_cursor(cursor)"
   ]
  },
  {
   "cell_type": "markdown",
   "metadata": {},
   "source": [
    "---\n",
    "# Query an Array of Embedded Documents"
   ]
  },
  {
   "cell_type": "code",
   "execution_count": 56,
   "metadata": {},
   "outputs": [],
   "source": [
    "# client.drop_database(\"local\")\n"
   ]
  },
  {
   "cell_type": "markdown",
   "metadata": {},
   "source": [
    "## Query for a Document Nested in an Array"
   ]
  },
  {
   "cell_type": "code",
   "execution_count": 57,
   "metadata": {},
   "outputs": [
    {
     "name": "stdout",
     "output_type": "stream",
     "text": [
      "{'_id': ObjectId('6119652bbbf9c520d7b7c8a1'), 'item': 'mat', 'qty': 85, 'tags': ['gray'], 'size': {'h': 27.9, 'w': 35.5, 'uom': 'cm'}}\n"
     ]
    }
   ],
   "source": [
    "cursor = db.inventory.find({\n",
    "\"size\": SON([(\"h\", 27.9),(\"w\", 35.5),(\"uom\", \"cm\")])\n",
    "})\n",
    "print_cursor(cursor)"
   ]
  },
  {
   "cell_type": "markdown",
   "metadata": {},
   "source": [
    "## Specify a Query Condition on a Field in an Array of Documents"
   ]
  },
  {
   "cell_type": "markdown",
   "metadata": {},
   "source": [
    "### Specify a Query Condition on a Field Embedded in an Array of Documents"
   ]
  },
  {
   "cell_type": "code",
   "execution_count": 65,
   "metadata": {},
   "outputs": [],
   "source": [
    "client.drop_database(\"local\")"
   ]
  },
  {
   "cell_type": "code",
   "execution_count": 68,
   "metadata": {},
   "outputs": [
    {
     "data": {
      "text/plain": [
       "<pymongo.results.InsertManyResult at 0x160b2551788>"
      ]
     },
     "execution_count": 68,
     "metadata": {},
     "output_type": "execute_result"
    }
   ],
   "source": [
    "db.inventory.insert_many([\n",
    "    {\"item\": \"journal\",\n",
    "     \"status\": \"A\",\n",
    "     \"size\": {\"h\": 14, \"w\": 21, \"uom\": \"cm\"},\n",
    "     \"instock\": [{\"warehouse\": \"A\", \"qty\": 5}]},\n",
    "    {\"item\": \"notebook\",\n",
    "     \"status\": \"A\",\n",
    "     \"size\": {\"h\": 8.5, \"w\": 11, \"uom\": \"in\"},\n",
    "     \"instock\": [{\"warehouse\": \"C\", \"qty\": 5}]},\n",
    "    {\"item\": \"paper\",\n",
    "     \"status\": \"D\",\n",
    "     \"size\": {\"h\": 8.5, \"w\": 11, \"uom\": \"in\"},\n",
    "     \"instock\": [{\"warehouse\": \"A\", \"qty\": 60}]},\n",
    "    {\"item\": \"planner\",\n",
    "     \"status\": \"D\",\n",
    "     \"size\": {\"h\": 22.85, \"w\": 30, \"uom\": \"cm\"},\n",
    "     \"instock\": [{\"warehouse\": \"A\", \"qty\": 40}]},\n",
    "    {\"item\": \"postcard\",\n",
    "     \"status\": \"A\",\n",
    "     \"size\": {\"h\": 10, \"w\": 15.25, \"uom\": \"cm\"},\n",
    "     \"instock\": [\n",
    "         {\"warehouse\": \"B\", \"qty\": 15},\n",
    "         {\"warehouse\": \"C\", \"qty\": 35}]}])\n",
    "\n",
    "\n",
    "cursor = db.inventory.find()\n",
    "print_cursor(cursor)"
   ]
  },
  {
   "cell_type": "code",
   "execution_count": 73,
   "metadata": {},
   "outputs": [
    {
     "name": "stdout",
     "output_type": "stream",
     "text": [
      "{'_id': ObjectId('61197304bbf9c520d7b7c8a6'), 'item': 'paper', 'status': 'D', 'size': {'h': 8.5, 'w': 11, 'uom': 'in'}, 'instock': [{'warehouse': 'A', 'qty': 60}]}\n",
      "{'_id': ObjectId('61197304bbf9c520d7b7c8a7'), 'item': 'planner', 'status': 'D', 'size': {'h': 22.85, 'w': 30, 'uom': 'cm'}, 'instock': [{'warehouse': 'A', 'qty': 40}]}\n",
      "{'_id': ObjectId('61197304bbf9c520d7b7c8a8'), 'item': 'postcard', 'status': 'A', 'size': {'h': 10, 'w': 15.25, 'uom': 'cm'}, 'instock': [{'warehouse': 'B', 'qty': 15}, {'warehouse': 'C', 'qty': 35}]}\n",
      "{'_id': ObjectId('61197342bbf9c520d7b7c8ab'), 'item': 'paper', 'status': 'D', 'size': {'h': 8.5, 'w': 11, 'uom': 'in'}, 'instock': [{'warehouse': 'A', 'qty': 60}]}\n",
      "{'_id': ObjectId('61197342bbf9c520d7b7c8ac'), 'item': 'planner', 'status': 'D', 'size': {'h': 22.85, 'w': 30, 'uom': 'cm'}, 'instock': [{'warehouse': 'A', 'qty': 40}]}\n",
      "{'_id': ObjectId('61197342bbf9c520d7b7c8ad'), 'item': 'postcard', 'status': 'A', 'size': {'h': 10, 'w': 15.25, 'uom': 'cm'}, 'instock': [{'warehouse': 'B', 'qty': 15}, {'warehouse': 'C', 'qty': 35}]}\n",
      "{'_id': ObjectId('611973c3bbf9c520d7b7c8b0'), 'item': 'paper', 'status': 'D', 'size': {'h': 8.5, 'w': 11, 'uom': 'in'}, 'instock': [{'warehouse': 'A', 'qty': 60}]}\n",
      "{'_id': ObjectId('611973c3bbf9c520d7b7c8b1'), 'item': 'planner', 'status': 'D', 'size': {'h': 22.85, 'w': 30, 'uom': 'cm'}, 'instock': [{'warehouse': 'A', 'qty': 40}]}\n",
      "{'_id': ObjectId('611973c3bbf9c520d7b7c8b2'), 'item': 'postcard', 'status': 'A', 'size': {'h': 10, 'w': 15.25, 'uom': 'cm'}, 'instock': [{'warehouse': 'B', 'qty': 15}, {'warehouse': 'C', 'qty': 35}]}\n"
     ]
    }
   ],
   "source": [
    "cursor = db.inventory.find({\n",
    "\"instock.qty\": {\"$gt\": 10}\n",
    "})\n",
    "print_cursor(cursor)"
   ]
  },
  {
   "cell_type": "markdown",
   "metadata": {},
   "source": [
    "### Use the Array Index to Query for a Field in the Embedded Document"
   ]
  },
  {
   "cell_type": "code",
   "execution_count": 71,
   "metadata": {},
   "outputs": [
    {
     "name": "stdout",
     "output_type": "stream",
     "text": [
      "{'_id': ObjectId('61197304bbf9c520d7b7c8a4'), 'item': 'journal', 'status': 'A', 'size': {'h': 14, 'w': 21, 'uom': 'cm'}, 'instock': [{'warehouse': 'A', 'qty': 5}]}\n",
      "{'_id': ObjectId('61197304bbf9c520d7b7c8a5'), 'item': 'notebook', 'status': 'A', 'size': {'h': 8.5, 'w': 11, 'uom': 'in'}, 'instock': [{'warehouse': 'C', 'qty': 5}]}\n",
      "{'_id': ObjectId('61197342bbf9c520d7b7c8a9'), 'item': 'journal', 'status': 'A', 'size': {'h': 14, 'w': 21, 'uom': 'cm'}, 'instock': [{'warehouse': 'A', 'qty': 5}]}\n",
      "{'_id': ObjectId('61197342bbf9c520d7b7c8aa'), 'item': 'notebook', 'status': 'A', 'size': {'h': 8.5, 'w': 11, 'uom': 'in'}, 'instock': [{'warehouse': 'C', 'qty': 5}]}\n",
      "{'_id': ObjectId('611973c3bbf9c520d7b7c8ae'), 'item': 'journal', 'status': 'A', 'size': {'h': 14, 'w': 21, 'uom': 'cm'}, 'instock': [{'warehouse': 'A', 'qty': 5}]}\n",
      "{'_id': ObjectId('611973c3bbf9c520d7b7c8af'), 'item': 'notebook', 'status': 'A', 'size': {'h': 8.5, 'w': 11, 'uom': 'in'}, 'instock': [{'warehouse': 'C', 'qty': 5}]}\n"
     ]
    }
   ],
   "source": [
    "cursor = db.inventory.find({\n",
    "\"instock.0.qty\": {\"$lt\": 10}\n",
    "})\n",
    "print_cursor(cursor)"
   ]
  },
  {
   "cell_type": "markdown",
   "metadata": {},
   "source": [
    "## Specify Multiple Conditions for Array of Documents"
   ]
  },
  {
   "cell_type": "markdown",
   "metadata": {},
   "source": [
    "### A Single Nested Document Meets Multiple Query Conditions on Nested Fields"
   ]
  },
  {
   "cell_type": "code",
   "execution_count": 74,
   "metadata": {},
   "outputs": [
    {
     "name": "stdout",
     "output_type": "stream",
     "text": [
      "{'_id': ObjectId('61197304bbf9c520d7b7c8a8'), 'item': 'postcard', 'status': 'A', 'size': {'h': 10, 'w': 15.25, 'uom': 'cm'}, 'instock': [{'warehouse': 'B', 'qty': 15}, {'warehouse': 'C', 'qty': 35}]}\n",
      "{'_id': ObjectId('61197342bbf9c520d7b7c8ad'), 'item': 'postcard', 'status': 'A', 'size': {'h': 10, 'w': 15.25, 'uom': 'cm'}, 'instock': [{'warehouse': 'B', 'qty': 15}, {'warehouse': 'C', 'qty': 35}]}\n",
      "{'_id': ObjectId('611973c3bbf9c520d7b7c8b2'), 'item': 'postcard', 'status': 'A', 'size': {'h': 10, 'w': 15.25, 'uom': 'cm'}, 'instock': [{'warehouse': 'B', 'qty': 15}, {'warehouse': 'C', 'qty': 35}]}\n"
     ]
    }
   ],
   "source": [
    "cursor = db.inventory.find({\n",
    "\"instock\": {\"$elemMatch\": {\"qty\":{\"$gt\": 10, \"$lt\": 20}}}\n",
    "})\n",
    "print_cursor(cursor)"
   ]
  },
  {
   "cell_type": "markdown",
   "metadata": {},
   "source": [
    "### Combination of Elements Satisfies the Criteria"
   ]
  },
  {
   "cell_type": "code",
   "execution_count": 75,
   "metadata": {},
   "outputs": [
    {
     "name": "stdout",
     "output_type": "stream",
     "text": [
      "{'_id': ObjectId('61197304bbf9c520d7b7c8a8'), 'item': 'postcard', 'status': 'A', 'size': {'h': 10, 'w': 15.25, 'uom': 'cm'}, 'instock': [{'warehouse': 'B', 'qty': 15}, {'warehouse': 'C', 'qty': 35}]}\n",
      "{'_id': ObjectId('61197342bbf9c520d7b7c8ad'), 'item': 'postcard', 'status': 'A', 'size': {'h': 10, 'w': 15.25, 'uom': 'cm'}, 'instock': [{'warehouse': 'B', 'qty': 15}, {'warehouse': 'C', 'qty': 35}]}\n",
      "{'_id': ObjectId('611973c3bbf9c520d7b7c8b2'), 'item': 'postcard', 'status': 'A', 'size': {'h': 10, 'w': 15.25, 'uom': 'cm'}, 'instock': [{'warehouse': 'B', 'qty': 15}, {'warehouse': 'C', 'qty': 35}]}\n"
     ]
    }
   ],
   "source": [
    "cursor = db.inventory.find({\n",
    "\"instock.qty\": {\"$gt\": 10, \"$lt\": 20}\n",
    "})\n",
    "print_cursor(cursor)"
   ]
  },
  {
   "cell_type": "markdown",
   "metadata": {},
   "source": [
    "---\n",
    "# Project Fields to Return from Query"
   ]
  },
  {
   "cell_type": "code",
   "execution_count": 76,
   "metadata": {},
   "outputs": [],
   "source": [
    "client.drop_database(\"local\")"
   ]
  },
  {
   "cell_type": "code",
   "execution_count": 79,
   "metadata": {},
   "outputs": [
    {
     "name": "stdout",
     "output_type": "stream",
     "text": [
      "{'_id': ObjectId('6119751fbbf9c520d7b7c8b3'), 'item': 'journal', 'status': 'A', 'size': {'h': 14, 'w': 21, 'uom': 'cm'}, 'instock': [{'warehouse': 'A', 'qty': 5}]}\n",
      "{'_id': ObjectId('6119751fbbf9c520d7b7c8b4'), 'item': 'notebook', 'status': 'A', 'size': {'h': 8.5, 'w': 11, 'uom': 'in'}, 'instock': [{'warehouse': 'C', 'qty': 5}]}\n",
      "{'_id': ObjectId('6119751fbbf9c520d7b7c8b5'), 'item': 'paper', 'status': 'D', 'size': {'h': 8.5, 'w': 11, 'uom': 'in'}, 'instock': [{'warehouse': 'A', 'qty': 60}]}\n",
      "{'_id': ObjectId('6119751fbbf9c520d7b7c8b6'), 'item': 'planner', 'status': 'D', 'size': {'h': 22.85, 'w': 30, 'uom': 'cm'}, 'instock': [{'warehouse': 'A', 'qty': 40}]}\n",
      "{'_id': ObjectId('6119751fbbf9c520d7b7c8b7'), 'item': 'postcard', 'status': 'A', 'size': {'h': 10, 'w': 15.25, 'uom': 'cm'}, 'instock': [{'warehouse': 'B', 'qty': 15}, {'warehouse': 'C', 'qty': 35}]}\n",
      "{'_id': ObjectId('61197533bbf9c520d7b7c8b8'), 'item': 'journal', 'status': 'A', 'size': {'h': 14, 'w': 21, 'uom': 'cm'}, 'instock': [{'warehouse': 'A', 'qty': 5}]}\n",
      "{'_id': ObjectId('61197533bbf9c520d7b7c8b9'), 'item': 'notebook', 'status': 'A', 'size': {'h': 8.5, 'w': 11, 'uom': 'in'}, 'instock': [{'warehouse': 'C', 'qty': 5}]}\n",
      "{'_id': ObjectId('61197533bbf9c520d7b7c8ba'), 'item': 'paper', 'status': 'D', 'size': {'h': 8.5, 'w': 11, 'uom': 'in'}, 'instock': [{'warehouse': 'A', 'qty': 60}]}\n",
      "{'_id': ObjectId('61197533bbf9c520d7b7c8bb'), 'item': 'planner', 'status': 'D', 'size': {'h': 22.85, 'w': 30, 'uom': 'cm'}, 'instock': [{'warehouse': 'A', 'qty': 40}]}\n",
      "{'_id': ObjectId('61197533bbf9c520d7b7c8bc'), 'item': 'postcard', 'status': 'A', 'size': {'h': 10, 'w': 15.25, 'uom': 'cm'}, 'instock': [{'warehouse': 'B', 'qty': 15}, {'warehouse': 'C', 'qty': 35}]}\n"
     ]
    }
   ],
   "source": [
    "db.inventory.insert_many([\n",
    "    {\"item\": \"journal\",\n",
    "     \"status\": \"A\",\n",
    "     \"size\": {\"h\": 14, \"w\": 21, \"uom\": \"cm\"},\n",
    "     \"instock\": [{\"warehouse\": \"A\", \"qty\": 5}]},\n",
    "    {\"item\": \"notebook\",\n",
    "     \"status\": \"A\",\n",
    "     \"size\": {\"h\": 8.5, \"w\": 11, \"uom\": \"in\"},\n",
    "     \"instock\": [{\"warehouse\": \"C\", \"qty\": 5}]},\n",
    "    {\"item\": \"paper\",\n",
    "     \"status\": \"D\",\n",
    "     \"size\": {\"h\": 8.5, \"w\": 11, \"uom\": \"in\"},\n",
    "     \"instock\": [{\"warehouse\": \"A\", \"qty\": 60}]},\n",
    "    {\"item\": \"planner\",\n",
    "     \"status\": \"D\",\n",
    "     \"size\": {\"h\": 22.85, \"w\": 30, \"uom\": \"cm\"},\n",
    "     \"instock\": [{\"warehouse\": \"A\", \"qty\": 40}]},\n",
    "    {\"item\": \"postcard\",\n",
    "     \"status\": \"A\",\n",
    "     \"size\": {\"h\": 10, \"w\": 15.25, \"uom\": \"cm\"},\n",
    "     \"instock\": [\n",
    "         {\"warehouse\": \"B\", \"qty\": 15},\n",
    "         {\"warehouse\": \"C\", \"qty\": 35}]}])\n",
    "\n",
    "cursor = db.inventory.find()\n",
    "print_cursor(cursor)"
   ]
  },
  {
   "cell_type": "markdown",
   "metadata": {},
   "source": [
    "## Return All Fields in Matching Documents"
   ]
  },
  {
   "cell_type": "code",
   "execution_count": 78,
   "metadata": {},
   "outputs": [
    {
     "name": "stdout",
     "output_type": "stream",
     "text": [
      "{'_id': ObjectId('6119751fbbf9c520d7b7c8b3'), 'item': 'journal', 'status': 'A', 'size': {'h': 14, 'w': 21, 'uom': 'cm'}, 'instock': [{'warehouse': 'A', 'qty': 5}]}\n",
      "{'_id': ObjectId('6119751fbbf9c520d7b7c8b4'), 'item': 'notebook', 'status': 'A', 'size': {'h': 8.5, 'w': 11, 'uom': 'in'}, 'instock': [{'warehouse': 'C', 'qty': 5}]}\n",
      "{'_id': ObjectId('6119751fbbf9c520d7b7c8b7'), 'item': 'postcard', 'status': 'A', 'size': {'h': 10, 'w': 15.25, 'uom': 'cm'}, 'instock': [{'warehouse': 'B', 'qty': 15}, {'warehouse': 'C', 'qty': 35}]}\n"
     ]
    }
   ],
   "source": [
    "cursor = db.inventory.find({\"status\": \"A\"})\n",
    "print_cursor(cursor)"
   ]
  },
  {
   "cell_type": "markdown",
   "metadata": {},
   "source": [
    "## Return the Specified Fields and the _id Field Only"
   ]
  },
  {
   "cell_type": "code",
   "execution_count": 80,
   "metadata": {},
   "outputs": [
    {
     "name": "stdout",
     "output_type": "stream",
     "text": [
      "{'_id': ObjectId('6119751fbbf9c520d7b7c8b3'), 'item': 'journal', 'status': 'A'}\n",
      "{'_id': ObjectId('6119751fbbf9c520d7b7c8b4'), 'item': 'notebook', 'status': 'A'}\n",
      "{'_id': ObjectId('6119751fbbf9c520d7b7c8b7'), 'item': 'postcard', 'status': 'A'}\n",
      "{'_id': ObjectId('61197533bbf9c520d7b7c8b8'), 'item': 'journal', 'status': 'A'}\n",
      "{'_id': ObjectId('61197533bbf9c520d7b7c8b9'), 'item': 'notebook', 'status': 'A'}\n",
      "{'_id': ObjectId('61197533bbf9c520d7b7c8bc'), 'item': 'postcard', 'status': 'A'}\n"
     ]
    }
   ],
   "source": [
    "cursor = db.inventory.find(\n",
    "    {\"status\": \"A\"}, {\"item\": 1, \"status\": 1}\n",
    ")\n",
    "print_cursor(cursor)"
   ]
  },
  {
   "cell_type": "markdown",
   "metadata": {},
   "source": [
    "## Suppress _id Field"
   ]
  },
  {
   "cell_type": "code",
   "execution_count": 81,
   "metadata": {},
   "outputs": [
    {
     "name": "stdout",
     "output_type": "stream",
     "text": [
      "{'item': 'journal', 'status': 'A'}\n",
      "{'item': 'notebook', 'status': 'A'}\n",
      "{'item': 'postcard', 'status': 'A'}\n",
      "{'item': 'journal', 'status': 'A'}\n",
      "{'item': 'notebook', 'status': 'A'}\n",
      "{'item': 'postcard', 'status': 'A'}\n"
     ]
    }
   ],
   "source": [
    "cursor = db.inventory.find(\n",
    "    {\"status\": \"A\"}, {\"item\": 1, \"status\": 1, \"_id\": 0}\n",
    ")\n",
    "print_cursor(cursor)"
   ]
  },
  {
   "cell_type": "markdown",
   "metadata": {},
   "source": [
    "## Return All But the Excluded Fields"
   ]
  },
  {
   "cell_type": "code",
   "execution_count": 83,
   "metadata": {},
   "outputs": [
    {
     "name": "stdout",
     "output_type": "stream",
     "text": [
      "{'size': {'h': 14, 'w': 21, 'uom': 'cm'}, 'instock': [{'warehouse': 'A', 'qty': 5}]}\n",
      "{'size': {'h': 8.5, 'w': 11, 'uom': 'in'}, 'instock': [{'warehouse': 'C', 'qty': 5}]}\n",
      "{'size': {'h': 10, 'w': 15.25, 'uom': 'cm'}, 'instock': [{'warehouse': 'B', 'qty': 15}, {'warehouse': 'C', 'qty': 35}]}\n",
      "{'size': {'h': 14, 'w': 21, 'uom': 'cm'}, 'instock': [{'warehouse': 'A', 'qty': 5}]}\n",
      "{'size': {'h': 8.5, 'w': 11, 'uom': 'in'}, 'instock': [{'warehouse': 'C', 'qty': 5}]}\n",
      "{'size': {'h': 10, 'w': 15.25, 'uom': 'cm'}, 'instock': [{'warehouse': 'B', 'qty': 15}, {'warehouse': 'C', 'qty': 35}]}\n"
     ]
    }
   ],
   "source": [
    "cursor = db.inventory.find(\n",
    "    {\"status\": \"A\"}, {\"item\": 0, \"status\": 0, \"_id\": 0}\n",
    ")\n",
    "print_cursor(cursor)"
   ]
  },
  {
   "cell_type": "markdown",
   "metadata": {},
   "source": [
    "## Return Specific Fields in Embedded Documents"
   ]
  },
  {
   "cell_type": "code",
   "execution_count": 86,
   "metadata": {},
   "outputs": [
    {
     "name": "stdout",
     "output_type": "stream",
     "text": [
      "{'item': 'journal', 'status': 'A', 'size': {'uom': 'cm'}}\n",
      "{'item': 'notebook', 'status': 'A', 'size': {'uom': 'in'}}\n",
      "{'item': 'postcard', 'status': 'A', 'size': {'uom': 'cm'}}\n",
      "{'item': 'journal', 'status': 'A', 'size': {'uom': 'cm'}}\n",
      "{'item': 'notebook', 'status': 'A', 'size': {'uom': 'in'}}\n",
      "{'item': 'postcard', 'status': 'A', 'size': {'uom': 'cm'}}\n"
     ]
    }
   ],
   "source": [
    "cursor = db.inventory.find(\n",
    "    {\"status\": \"A\"}, {\"item\": 1, \"status\": 1, \"size.uom\": 1, \"_id\": 0}\n",
    ")\n",
    "print_cursor(cursor)"
   ]
  },
  {
   "cell_type": "markdown",
   "metadata": {},
   "source": [
    "## Suppress Specific Fields in Embedded Documents"
   ]
  },
  {
   "cell_type": "code",
   "execution_count": 87,
   "metadata": {},
   "outputs": [
    {
     "name": "stdout",
     "output_type": "stream",
     "text": [
      "{'item': 'journal', 'status': 'A', 'size': {'h': 14, 'w': 21}, 'instock': [{'warehouse': 'A', 'qty': 5}]}\n",
      "{'item': 'notebook', 'status': 'A', 'size': {'h': 8.5, 'w': 11}, 'instock': [{'warehouse': 'C', 'qty': 5}]}\n",
      "{'item': 'postcard', 'status': 'A', 'size': {'h': 10, 'w': 15.25}, 'instock': [{'warehouse': 'B', 'qty': 15}, {'warehouse': 'C', 'qty': 35}]}\n",
      "{'item': 'journal', 'status': 'A', 'size': {'h': 14, 'w': 21}, 'instock': [{'warehouse': 'A', 'qty': 5}]}\n",
      "{'item': 'notebook', 'status': 'A', 'size': {'h': 8.5, 'w': 11}, 'instock': [{'warehouse': 'C', 'qty': 5}]}\n",
      "{'item': 'postcard', 'status': 'A', 'size': {'h': 10, 'w': 15.25}, 'instock': [{'warehouse': 'B', 'qty': 15}, {'warehouse': 'C', 'qty': 35}]}\n"
     ]
    }
   ],
   "source": [
    "cursor = db.inventory.find(\n",
    "    {\"status\": \"A\"}, { \"size.uom\": 0, \"_id\": 0}\n",
    ")\n",
    "print_cursor(cursor)"
   ]
  },
  {
   "cell_type": "markdown",
   "metadata": {},
   "source": [
    "## Projection on Embedded Documents in an Array"
   ]
  },
  {
   "cell_type": "code",
   "execution_count": 88,
   "metadata": {},
   "outputs": [
    {
     "name": "stdout",
     "output_type": "stream",
     "text": [
      "{'_id': ObjectId('6119751fbbf9c520d7b7c8b3'), 'item': 'journal', 'status': 'A', 'instock': [{'qty': 5}]}\n",
      "{'_id': ObjectId('6119751fbbf9c520d7b7c8b4'), 'item': 'notebook', 'status': 'A', 'instock': [{'qty': 5}]}\n",
      "{'_id': ObjectId('6119751fbbf9c520d7b7c8b7'), 'item': 'postcard', 'status': 'A', 'instock': [{'qty': 15}, {'qty': 35}]}\n",
      "{'_id': ObjectId('61197533bbf9c520d7b7c8b8'), 'item': 'journal', 'status': 'A', 'instock': [{'qty': 5}]}\n",
      "{'_id': ObjectId('61197533bbf9c520d7b7c8b9'), 'item': 'notebook', 'status': 'A', 'instock': [{'qty': 5}]}\n",
      "{'_id': ObjectId('61197533bbf9c520d7b7c8bc'), 'item': 'postcard', 'status': 'A', 'instock': [{'qty': 15}, {'qty': 35}]}\n"
     ]
    }
   ],
   "source": [
    "cursor = db.inventory.find(\n",
    "    {\"status\": \"A\"}, { \"item\": 1, \"status\": 1, \"instock.qty\": 1}\n",
    ")\n",
    "print_cursor(cursor)"
   ]
  },
  {
   "cell_type": "markdown",
   "metadata": {},
   "source": [
    "## Project Specific Array Elements in the Returned Array\n",
    "For fields that contain arrays, MongoDB provides the following projection operators for manipulating arrays: `$elemMatch`, `$slice`, and `$`. Try them in lab."
   ]
  },
  {
   "cell_type": "code",
   "execution_count": 90,
   "metadata": {},
   "outputs": [
    {
     "name": "stdout",
     "output_type": "stream",
     "text": [
      "{'_id': ObjectId('6119751fbbf9c520d7b7c8b3'), 'item': 'journal', 'status': 'A', 'instock': [{'warehouse': 'A', 'qty': 5}]}\n",
      "{'_id': ObjectId('6119751fbbf9c520d7b7c8b4'), 'item': 'notebook', 'status': 'A', 'instock': [{'warehouse': 'C', 'qty': 5}]}\n",
      "{'_id': ObjectId('6119751fbbf9c520d7b7c8b7'), 'item': 'postcard', 'status': 'A', 'instock': [{'warehouse': 'C', 'qty': 35}]}\n",
      "{'_id': ObjectId('61197533bbf9c520d7b7c8b8'), 'item': 'journal', 'status': 'A', 'instock': [{'warehouse': 'A', 'qty': 5}]}\n",
      "{'_id': ObjectId('61197533bbf9c520d7b7c8b9'), 'item': 'notebook', 'status': 'A', 'instock': [{'warehouse': 'C', 'qty': 5}]}\n",
      "{'_id': ObjectId('61197533bbf9c520d7b7c8bc'), 'item': 'postcard', 'status': 'A', 'instock': [{'warehouse': 'C', 'qty': 35}]}\n"
     ]
    }
   ],
   "source": [
    "cursor = db.inventory.find(\n",
    "    {\"status\": \"A\"},\n",
    "    {\"item\": 1, \"status\": 1, \"instock\": {\"$slice\": -1}}) #last element in the array\n",
    "print_cursor(cursor)"
   ]
  },
  {
   "cell_type": "markdown",
   "metadata": {},
   "source": [
    "---\n",
    "# Query for Null or Missing Fields"
   ]
  },
  {
   "cell_type": "code",
   "execution_count": 91,
   "metadata": {},
   "outputs": [],
   "source": [
    "client.drop_database(\"local\")"
   ]
  },
  {
   "cell_type": "code",
   "execution_count": 92,
   "metadata": {},
   "outputs": [
    {
     "data": {
      "text/plain": [
       "<pymongo.results.InsertManyResult at 0x160b2544108>"
      ]
     },
     "execution_count": 92,
     "metadata": {},
     "output_type": "execute_result"
    }
   ],
   "source": [
    "db.inventory.insert_many([{\"_id\": 1, \"item\": None}, {\"_id\": 2}])"
   ]
  },
  {
   "cell_type": "markdown",
   "metadata": {},
   "source": [
    "## Equality Filter"
   ]
  },
  {
   "cell_type": "code",
   "execution_count": 95,
   "metadata": {},
   "outputs": [
    {
     "name": "stdout",
     "output_type": "stream",
     "text": [
      "{'_id': 1, 'item': None}\n",
      "{'_id': 2}\n"
     ]
    }
   ],
   "source": [
    "cursor = db.inventory.find(\n",
    "    {\"item\": None}\n",
    ")\n",
    "print_cursor(cursor)"
   ]
  },
  {
   "cell_type": "markdown",
   "metadata": {},
   "source": [
    "## Type Check"
   ]
  },
  {
   "cell_type": "code",
   "execution_count": 96,
   "metadata": {},
   "outputs": [
    {
     "name": "stdout",
     "output_type": "stream",
     "text": [
      "{'_id': 1, 'item': None}\n"
     ]
    }
   ],
   "source": [
    "cursor = db.inventory.find(\n",
    "    {\"item\": {\"$type\": 10}}\n",
    ")\n",
    "print_cursor(cursor)"
   ]
  },
  {
   "cell_type": "markdown",
   "metadata": {},
   "source": [
    "## Existence Check"
   ]
  },
  {
   "cell_type": "code",
   "execution_count": 97,
   "metadata": {},
   "outputs": [
    {
     "name": "stdout",
     "output_type": "stream",
     "text": [
      "{'_id': 2}\n"
     ]
    }
   ],
   "source": [
    "cursor = db.inventory.find(\n",
    "    {\"item\": {\"$exists\": False}}\n",
    ")\n",
    "print_cursor(cursor)"
   ]
  },
  {
   "cell_type": "markdown",
   "metadata": {},
   "source": [
    "---\n",
    "# Update Documents"
   ]
  },
  {
   "cell_type": "code",
   "execution_count": 98,
   "metadata": {},
   "outputs": [],
   "source": [
    "client.drop_database(\"local\")"
   ]
  },
  {
   "cell_type": "code",
   "execution_count": 99,
   "metadata": {},
   "outputs": [
    {
     "data": {
      "text/plain": [
       "<pymongo.results.InsertManyResult at 0x160b2575d88>"
      ]
     },
     "execution_count": 99,
     "metadata": {},
     "output_type": "execute_result"
    }
   ],
   "source": [
    "db.inventory.insert_many([\n",
    "    {\"item\": \"canvas\",\n",
    "     \"qty\": 100,\n",
    "     \"size\": {\"h\": 28, \"w\": 35.5, \"uom\": \"cm\"},\n",
    "     \"status\": \"A\"},\n",
    "    {\"item\": \"journal\",\n",
    "     \"qty\": 25,\n",
    "     \"size\": {\"h\": 14, \"w\": 21, \"uom\": \"cm\"},\n",
    "     \"status\": \"A\"},\n",
    "    {\"item\": \"mat\",\n",
    "     \"qty\": 85,\n",
    "     \"size\": {\"h\": 27.9, \"w\": 35.5, \"uom\": \"cm\"},\n",
    "     \"status\": \"A\"},\n",
    "    {\"item\": \"mousepad\",\n",
    "     \"qty\": 25,\n",
    "     \"size\": {\"h\": 19, \"w\": 22.85, \"uom\": \"cm\"},\n",
    "     \"status\": \"P\"},\n",
    "    {\"item\": \"notebook\",\n",
    "     \"qty\": 50,\n",
    "     \"size\": {\"h\": 8.5, \"w\": 11, \"uom\": \"in\"},\n",
    "     \"status\": \"P\"},\n",
    "    {\"item\": \"paper\",\n",
    "     \"qty\": 100,\n",
    "     \"size\": {\"h\": 8.5, \"w\": 11, \"uom\": \"in\"},\n",
    "     \"status\": \"D\"},\n",
    "    {\"item\": \"planner\",\n",
    "     \"qty\": 75,\n",
    "     \"size\": {\"h\": 22.85, \"w\": 30, \"uom\": \"cm\"},\n",
    "     \"status\": \"D\"},\n",
    "    {\"item\": \"postcard\",\n",
    "     \"qty\": 45,\n",
    "     \"size\": {\"h\": 10, \"w\": 15.25, \"uom\": \"cm\"},\n",
    "     \"status\": \"A\"},\n",
    "    {\"item\": \"sketchbook\",\n",
    "     \"qty\": 80,\n",
    "     \"size\": {\"h\": 14, \"w\": 21, \"uom\": \"cm\"},\n",
    "     \"status\": \"A\"},\n",
    "    {\"item\": \"sketch pad\",\n",
    "     \"qty\": 95,\n",
    "     \"size\": {\"h\": 22.85, \"w\": 30.5, \"uom\": \"cm\"},\n",
    "     \"status\": \"A\"}])"
   ]
  },
  {
   "cell_type": "markdown",
   "metadata": {},
   "source": [
    "## Update Documents in a Collection"
   ]
  },
  {
   "cell_type": "markdown",
   "metadata": {},
   "source": [
    "### Update a Single Document"
   ]
  },
  {
   "cell_type": "code",
   "execution_count": 100,
   "metadata": {},
   "outputs": [
    {
     "name": "stdout",
     "output_type": "stream",
     "text": [
      "{'_id': ObjectId('6119794cbbf9c520d7b7c8c2'), 'item': 'paper', 'qty': 100, 'size': {'h': 8.5, 'w': 11, 'uom': 'cm'}, 'status': 'P', 'lastModified': datetime.datetime(2021, 8, 15, 20, 30, 23, 595000)}\n"
     ]
    }
   ],
   "source": [
    "db.inventory.update_one(\n",
    "    {\"item\": \"paper\"},\n",
    "    {\"$set\": {\"size.uom\": \"cm\", \"status\": \"P\"},\n",
    "     \"$currentDate\": {\"lastModified\": True}})\n",
    "\n",
    "cursor = db.inventory.find({\"item\": \"paper\"})\n",
    "print_cursor(cursor)"
   ]
  },
  {
   "cell_type": "markdown",
   "metadata": {},
   "source": [
    "### Update Multiple  Documents"
   ]
  },
  {
   "cell_type": "code",
   "execution_count": 101,
   "metadata": {},
   "outputs": [
    {
     "name": "stdout",
     "output_type": "stream",
     "text": [
      "{'_id': ObjectId('6119794cbbf9c520d7b7c8be'), 'item': 'journal', 'qty': 25, 'size': {'h': 14, 'w': 21, 'uom': 'cm'}, 'status': 'P', 'lastModified': datetime.datetime(2021, 8, 15, 20, 33, 49, 424000)}\n",
      "{'_id': ObjectId('6119794cbbf9c520d7b7c8c0'), 'item': 'mousepad', 'qty': 25, 'size': {'h': 19, 'w': 22.85, 'uom': 'cm'}, 'status': 'P', 'lastModified': datetime.datetime(2021, 8, 15, 20, 33, 49, 424000)}\n",
      "{'_id': ObjectId('6119794cbbf9c520d7b7c8c4'), 'item': 'postcard', 'qty': 45, 'size': {'h': 10, 'w': 15.25, 'uom': 'cm'}, 'status': 'P', 'lastModified': datetime.datetime(2021, 8, 15, 20, 33, 49, 424000)}\n"
     ]
    }
   ],
   "source": [
    "db.inventory.update_many(\n",
    "    {\"qty\": {\"$lt\": 50}},\n",
    "    {\"$set\": {\"size.uom\": \"cm\", \"status\": \"P\"},\n",
    "     \"$currentDate\": {\"lastModified\": True}})\n",
    "\n",
    "cursor = db.inventory.find({\"qty\": {\"$lt\": 50}})\n",
    "print_cursor(cursor)"
   ]
  },
  {
   "cell_type": "markdown",
   "metadata": {},
   "source": [
    "### Replace a Whole Document"
   ]
  },
  {
   "cell_type": "code",
   "execution_count": 102,
   "metadata": {},
   "outputs": [
    {
     "name": "stdout",
     "output_type": "stream",
     "text": [
      "{'_id': ObjectId('6119794cbbf9c520d7b7c8c2'), 'item': 'paper', 'size': {'h': 19, 'w': 22.85, 'uom': 'cm'}, 'status': 'P'}\n"
     ]
    }
   ],
   "source": [
    "db.inventory.replace_one(\n",
    "    {\"item\": \"paper\"},\n",
    "    {\"item\": \"paper\",\n",
    "    'size': {'h': 19, 'w': 22.85, 'uom': 'cm'}, 'status': 'P'})\n",
    "\n",
    "cursor = db.inventory.find({\"item\": \"paper\"})\n",
    "print_cursor(cursor)"
   ]
  },
  {
   "cell_type": "markdown",
   "metadata": {},
   "source": [
    "---\n",
    "# Delete Documents"
   ]
  },
  {
   "cell_type": "code",
   "execution_count": 103,
   "metadata": {},
   "outputs": [],
   "source": [
    "client.drop_database(\"local\")"
   ]
  },
  {
   "cell_type": "code",
   "execution_count": 104,
   "metadata": {},
   "outputs": [
    {
     "data": {
      "text/plain": [
       "<pymongo.results.InsertManyResult at 0x160b254b748>"
      ]
     },
     "execution_count": 104,
     "metadata": {},
     "output_type": "execute_result"
    }
   ],
   "source": [
    "db.inventory.insert_many([\n",
    "    {\"item\": \"journal\",\n",
    "     \"qty\": 25,\n",
    "     \"size\": {\"h\": 14, \"w\": 21, \"uom\": \"cm\"},\n",
    "     \"status\": \"A\"},\n",
    "    {\"item\": \"notebook\",\n",
    "     \"qty\": 50,\n",
    "     \"size\": {\"h\": 8.5, \"w\": 11, \"uom\": \"in\"},\n",
    "     \"status\": \"P\"},\n",
    "    {\"item\": \"paper\",\n",
    "     \"qty\": 100,\n",
    "     \"size\": {\"h\": 8.5, \"w\": 11, \"uom\": \"in\"},\n",
    "     \"status\": \"D\"},\n",
    "    {\"item\": \"planner\",\n",
    "     \"qty\": 75,\n",
    "     \"size\": {\"h\": 22.85, \"w\": 30, \"uom\": \"cm\"},\n",
    "     \"status\": \"D\"},\n",
    "    {\"item\": \"postcard\",\n",
    "     \"qty\": 45,\n",
    "     \"size\": {\"h\": 10, \"w\": 15.25, \"uom\": \"cm\"},\n",
    "     \"status\": \"A\"}])"
   ]
  },
  {
   "cell_type": "markdown",
   "metadata": {},
   "source": [
    "## Delete All Documents"
   ]
  },
  {
   "cell_type": "code",
   "execution_count": 105,
   "metadata": {},
   "outputs": [],
   "source": [
    "db.inventory.delete_many({})\n",
    "\n",
    "cursor = db.inventory.find()\n",
    "print_cursor(cursor)"
   ]
  },
  {
   "cell_type": "markdown",
   "metadata": {},
   "source": [
    "## Delete All Documents that Match a Condition"
   ]
  },
  {
   "cell_type": "code",
   "execution_count": 106,
   "metadata": {},
   "outputs": [],
   "source": [
    "db.inventory.delete_many({ \"status\": \"A\"})\n",
    "\n",
    "cursor = db.inventory.find()\n",
    "print_cursor(cursor)"
   ]
  },
  {
   "cell_type": "markdown",
   "metadata": {},
   "source": [
    "## Delete Only One Document that Matches a Condition"
   ]
  },
  {
   "cell_type": "code",
   "execution_count": 107,
   "metadata": {},
   "outputs": [],
   "source": [
    "db.inventory.delete_one({ \"status\": \"D\"})\n",
    "\n",
    "cursor = db.inventory.find()\n",
    "print_cursor(cursor)"
   ]
  },
  {
   "cell_type": "code",
   "execution_count": null,
   "metadata": {},
   "outputs": [],
   "source": []
  }
 ],
 "metadata": {
  "kernelspec": {
   "display_name": "Python 3",
   "language": "python",
   "name": "python3"
  },
  "language_info": {
   "codemirror_mode": {
    "name": "ipython",
    "version": 3
   },
   "file_extension": ".py",
   "mimetype": "text/x-python",
   "name": "python",
   "nbconvert_exporter": "python",
   "pygments_lexer": "ipython3",
   "version": "3.7.4"
  }
 },
 "nbformat": 4,
 "nbformat_minor": 5
}
