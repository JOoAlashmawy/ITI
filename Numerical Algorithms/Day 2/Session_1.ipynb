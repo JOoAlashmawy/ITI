{
 "cells": [
  {
   "cell_type": "markdown",
   "metadata": {},
   "source": [
    "# Session 1: Session 1: Computer arithmetic: the IEEE 754 Standard"
   ]
  },
  {
   "cell_type": "code",
   "execution_count": null,
   "metadata": {},
   "outputs": [],
   "source": [
    "# Code here\n"
   ]
  },
  {
   "cell_type": "code",
   "execution_count": 1,
   "metadata": {},
   "outputs": [
    {
     "name": "stdout",
     "output_type": "stream",
     "text": [
      "2.2250738585072014e-308\n",
      "1.7976931348623157e+308\n",
      "2.220446049250313e-16\n"
     ]
    }
   ],
   "source": [
    "import sys\n",
    "print(sys.float_info.min)\n",
    "print(sys.float_info.max)\n",
    "print(sys.float_info.epsilon)"
   ]
  },
  {
   "cell_type": "markdown",
   "metadata": {},
   "source": [
    "## Propagation Error"
   ]
  },
  {
   "cell_type": "markdown",
   "metadata": {},
   "source": [
    "### Quick Quiz\n",
    "What is the output of the following code?"
   ]
  },
  {
   "cell_type": "code",
   "execution_count": 5,
   "metadata": {},
   "outputs": [
    {
     "name": "stdout",
     "output_type": "stream",
     "text": [
      "0.00000000000000000000\n",
      "0.10000000000000000555\n",
      "0.20000000000000001110\n",
      "0.30000000000000004441\n",
      "0.40000000000000002220\n",
      "0.50000000000000000000\n",
      "0.59999999999999997780\n",
      "0.69999999999999995559\n",
      "0.79999999999999993339\n",
      "0.89999999999999991118\n",
      "0.99999999999999988898\n",
      "1.09999999999999986677\n",
      "1.19999999999999995559\n",
      "1.30000000000000004441\n",
      "1.40000000000000013323\n",
      "1.50000000000000022204\n",
      "1.60000000000000031086\n",
      "1.70000000000000039968\n",
      "1.80000000000000048850\n",
      "1.90000000000000057732\n"
     ]
    }
   ],
   "source": [
    "x = 0.0\n",
    "while x != 1.0:\n",
    "    print('{:.20f}'.format(x))\n",
    "    x = x + 0.1\n",
    "    if x>2:\n",
    "        break"
   ]
  },
  {
   "cell_type": "code",
   "execution_count": 6,
   "metadata": {},
   "outputs": [
    {
     "name": "stdout",
     "output_type": "stream",
     "text": [
      "OK\n",
      "OK\n",
      "OK\n",
      "OK\n",
      "OK\n",
      "ERROR\n",
      "ERROR\n",
      "ERROR\n",
      "ERROR\n",
      "ERROR\n",
      "ERROR\n",
      "ERROR\n",
      "OK\n",
      "OK\n",
      "ERROR\n",
      "ERROR\n",
      "ERROR\n",
      "ERROR\n",
      "ERROR\n",
      "ERROR\n",
      "ERROR\n",
      "ERROR\n",
      "ERROR\n",
      "ERROR\n",
      "ERROR\n",
      "ERROR\n",
      "ERROR\n",
      "ERROR\n",
      "ERROR\n",
      "ERROR\n",
      "ERROR\n",
      "ERROR\n",
      "ERROR\n",
      "ERROR\n",
      "ERROR\n",
      "ERROR\n",
      "ERROR\n",
      "ERROR\n",
      "ERROR\n",
      "ERROR\n",
      "ERROR\n",
      "ERROR\n",
      "ERROR\n",
      "OK\n",
      "OK\n",
      "ERROR\n",
      "ERROR\n",
      "ERROR\n",
      "ERROR\n",
      "ERROR\n",
      "ERROR\n",
      "ERROR\n",
      "ERROR\n",
      "ERROR\n",
      "ERROR\n",
      "ERROR\n",
      "ERROR\n",
      "ERROR\n",
      "ERROR\n",
      "ERROR\n",
      "ERROR\n",
      "ERROR\n",
      "ERROR\n",
      "ERROR\n",
      "ERROR\n",
      "ERROR\n",
      "ERROR\n",
      "ERROR\n",
      "ERROR\n",
      "ERROR\n",
      "ERROR\n",
      "ERROR\n",
      "ERROR\n",
      "ERROR\n",
      "ERROR\n",
      "ERROR\n",
      "ERROR\n",
      "ERROR\n",
      "ERROR\n",
      "ERROR\n",
      "ERROR\n",
      "ERROR\n",
      "ERROR\n",
      "ERROR\n",
      "ERROR\n",
      "ERROR\n",
      "ERROR\n",
      "ERROR\n",
      "ERROR\n",
      "ERROR\n",
      "ERROR\n",
      "ERROR\n",
      "ERROR\n",
      "ERROR\n",
      "ERROR\n",
      "ERROR\n",
      "ERROR\n",
      "ERROR\n",
      "ERROR\n",
      "ERROR\n",
      "ERROR\n",
      "ERROR\n",
      "ERROR\n",
      "ERROR\n",
      "ERROR\n",
      "ERROR\n",
      "ERROR\n",
      "ERROR\n",
      "ERROR\n",
      "ERROR\n",
      "ERROR\n",
      "ERROR\n",
      "ERROR\n",
      "ERROR\n",
      "ERROR\n",
      "ERROR\n",
      "ERROR\n",
      "ERROR\n",
      "ERROR\n",
      "ERROR\n",
      "ERROR\n",
      "ERROR\n",
      "ERROR\n",
      "ERROR\n",
      "ERROR\n",
      "ERROR\n",
      "ERROR\n",
      "ERROR\n",
      "ERROR\n",
      "ERROR\n",
      "ERROR\n",
      "ERROR\n",
      "ERROR\n",
      "ERROR\n",
      "ERROR\n",
      "ERROR\n",
      "ERROR\n",
      "ERROR\n",
      "ERROR\n",
      "ERROR\n",
      "ERROR\n",
      "ERROR\n",
      "ERROR\n",
      "ERROR\n",
      "ERROR\n",
      "ERROR\n",
      "ERROR\n",
      "ERROR\n",
      "ERROR\n",
      "ERROR\n",
      "ERROR\n",
      "ERROR\n",
      "ERROR\n",
      "ERROR\n",
      "ERROR\n",
      "ERROR\n",
      "ERROR\n",
      "ERROR\n",
      "ERROR\n",
      "ERROR\n",
      "ERROR\n",
      "ERROR\n",
      "ERROR\n",
      "ERROR\n",
      "ERROR\n",
      "ERROR\n",
      "ERROR\n",
      "ERROR\n",
      "ERROR\n",
      "ERROR\n",
      "ERROR\n",
      "ERROR\n",
      "ERROR\n",
      "ERROR\n",
      "ERROR\n",
      "ERROR\n",
      "ERROR\n",
      "ERROR\n",
      "ERROR\n",
      "ERROR\n",
      "ERROR\n",
      "ERROR\n",
      "ERROR\n",
      "ERROR\n",
      "ERROR\n",
      "ERROR\n",
      "ERROR\n",
      "ERROR\n",
      "ERROR\n",
      "OK\n",
      "OK\n",
      "OK\n",
      "ERROR\n",
      "ERROR\n",
      "ERROR\n",
      "ERROR\n",
      "ERROR\n",
      "ERROR\n",
      "ERROR\n"
     ]
    }
   ],
   "source": [
    "message = 'ERROR'\n",
    "s = 0.0\n",
    "for i in range(1,200):\n",
    "    s += 0.1\n",
    "    if s == 0.1*i:\n",
    "        print(\"OK\")\n",
    "    else:\n",
    "        print(message)"
   ]
  },
  {
   "cell_type": "markdown",
   "metadata": {},
   "source": [
    "## Absorption Error"
   ]
  },
  {
   "cell_type": "code",
   "execution_count": 7,
   "metadata": {},
   "outputs": [
    {
     "name": "stdout",
     "output_type": "stream",
     "text": [
      "s = s + epsilon (10000 times) = 1000000000.0\n",
      "s = s + 10000*epsilon = 1000000000.0001\n"
     ]
    }
   ],
   "source": [
    "a = 1e+9\n",
    "epsilon = 1e-8\n",
    "\n",
    "s=a\n",
    "for n in range(0,10000):\n",
    "    # Abosrobtion Error\n",
    "    s=s+epsilon\n",
    "print(\"s = s + epsilon (10000 times) =\", s)\n",
    "\n",
    "#However, the result should have been\n",
    "s=a+10000*epsilon\n",
    "print(\"s = s + 10000*epsilon =\", s)"
   ]
  },
  {
   "cell_type": "markdown",
   "metadata": {},
   "source": [
    "## Cancellation Error"
   ]
  },
  {
   "cell_type": "code",
   "execution_count": 4,
   "metadata": {},
   "outputs": [
    {
     "name": "stdout",
     "output_type": "stream",
     "text": [
      "0.0\n",
      "4.056754931980322e-12\n"
     ]
    }
   ],
   "source": [
    "import numpy as np\n",
    "x = np.array([3.141592653589739], dtype='float32')\n",
    "y = np.array([3.141592653585682], dtype='float32')\n",
    "print(np.squeeze(x - y))\n",
    "\n",
    "x = np.array([3.141592653589739], dtype='float64')\n",
    "y = np.array([3.141592653585682], dtype='float64')\n",
    "print(np.squeeze(x - y))\n"
   ]
  },
  {
   "cell_type": "markdown",
   "metadata": {},
   "source": [
    "### Quick Quiz\n",
    "\n",
    "What is happening the following code?"
   ]
  },
  {
   "cell_type": "code",
   "execution_count": 2,
   "metadata": {},
   "outputs": [
    {
     "name": "stdout",
     "output_type": "stream",
     "text": [
      "9007199254740992.0\n",
      "9007199254740992.0    53.0\n",
      "9007199254740992.0    53.0\n"
     ]
    }
   ],
   "source": [
    "from math import log\n",
    "# The Gentleman-Marovich Code\n",
    "A=1.0\n",
    "while ((A+1.0)-A)-1.0==0:\n",
    "    A=2*A    \n",
    "# A is \"always\" a power of two!    \n",
    "# We try to compute  the SMALLEST  value of n such that fl(1+2^n)==fl(2^n)\n",
    "print(A)    \n",
    "print(A,\"  \",log(A)/log(2))\n",
    "print(A,\"  \",log(A,2))"
   ]
  },
  {
   "cell_type": "markdown",
   "metadata": {},
   "source": [
    "## Homework\n",
    "\n",
    "What is happening in the following code? Why is B = 1.0 after the while loop?"
   ]
  },
  {
   "cell_type": "code",
   "execution_count": 3,
   "metadata": {},
   "outputs": [
    {
     "name": "stdout",
     "output_type": "stream",
     "text": [
      "A= 9007199254740992.0 log(A,2) 53.0\n",
      "B= 1.0\n"
     ]
    }
   ],
   "source": [
    "A = 9007199254740992.0\n",
    "B = 1.0\n",
    "while (((A+B)-A)-B)==0:\n",
    "    print(B)\n",
    "    B=B+1.0    \n",
    "print(\"A=\",A , \"log(A,2)\", log(A,2))\n",
    "print(\"B=\",B)"
   ]
  },
  {
   "cell_type": "code",
   "execution_count": null,
   "metadata": {},
   "outputs": [],
   "source": []
  }
 ],
 "metadata": {
  "kernelspec": {
   "display_name": "Python 3",
   "language": "python",
   "name": "python3"
  },
  "language_info": {
   "codemirror_mode": {
    "name": "ipython",
    "version": 3
   },
   "file_extension": ".py",
   "mimetype": "text/x-python",
   "name": "python",
   "nbconvert_exporter": "python",
   "pygments_lexer": "ipython3",
   "version": "3.7.4"
  },
  "metadata": {
   "interpreter": {
    "hash": "b5dd8fc61c81b0bcf33120d40ba91cb138545e9d7a4f55cb2756f432089a5091"
   }
  }
 },
 "nbformat": 4,
 "nbformat_minor": 2
}
