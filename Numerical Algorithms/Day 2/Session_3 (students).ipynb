{
 "cells": [
  {
   "cell_type": "markdown",
   "metadata": {},
   "source": [
    "# Session 3 - Solving System of Linear Equations"
   ]
  },
  {
   "cell_type": "code",
   "execution_count": 2,
   "metadata": {},
   "outputs": [],
   "source": [
    "import numpy as np\n",
    "\n",
    "A = np.array([\n",
    "    [10., -1., 2., 0.],\n",
    "    [-1., 11., -1., 3.],\n",
    "    [2., -1., 10., -1.],\n",
    "    [0., 3., -1., 8.]\n",
    "])\n",
    "\n",
    "b = np.array([6., 25., -11., 15.])"
   ]
  },
  {
   "cell_type": "markdown",
   "metadata": {},
   "source": [
    "## Jacobi's Method\n",
    "\n",
    "$$ x^{(k)} = D^{-1}b - D^{-1} (L+U)x^{(k-1)}$$\n",
    "$$ x^{(k)} = D^{-1}(b - (L+U)x^{(k-1)}) $$\n",
    "\n",
    "Stop criteria = $||x^{(k)} - x^{(k-1)} || / ||x^{(k)}|| < tolerance$"
   ]
  },
  {
   "cell_type": "code",
   "execution_count": 52,
   "metadata": {},
   "outputs": [
    {
     "name": "stdout",
     "output_type": "stream",
     "text": [
      "[3.9645e+153 4.8409e+153 4.0729e+153 8.1327e+153 7.8089e+153]\n"
     ]
    },
    {
     "name": "stderr",
     "output_type": "stream",
     "text": [
      "C:\\Users\\osama\\Anaconda3\\lib\\site-packages\\ipykernel_launcher.py:13: RuntimeWarning: invalid value encountered in double_scalars\n",
      "  del sys.path[0]\n"
     ]
    }
   ],
   "source": [
    "from numpy.linalg import inv, solve, norm\n",
    "\n",
    "def jacobi(A, b, tolerance):\n",
    "    xk_1 = np.zeros_like(b)\n",
    "    D = np.diag(A)\n",
    "#     print(D)\n",
    "    LplusU = A - np.diag(D)\n",
    "#     print(LplusU)\n",
    "#     print((b - LplusU @ xk_1) / D)\n",
    "#     print(np.diag(D) @ (b - (LplusU @ xk_1))\n",
    "    \n",
    "    x_k = (b - (LplusU @ xk_1)) / D\n",
    "    while (norm(x_k - xk_1, 2)/norm(x_k, 2)) > tolerance:\n",
    "        xk_1 = x_k\n",
    "        x_k = (b - (LplusU @ xk_1)) / D\n",
    "    \n",
    "#     for i in range(N):\n",
    "#         x = (b - LplusU.dot(x)) / D\n",
    "    return x_k\n",
    "\n",
    "print(jacobi(A, b, 1e-8))\n"
   ]
  },
  {
   "cell_type": "markdown",
   "metadata": {},
   "source": [
    "## Gauss-Siedel Method"
   ]
  },
  {
   "cell_type": "code",
   "execution_count": 47,
   "metadata": {},
   "outputs": [
    {
     "data": {
      "text/plain": [
       "array([ 1.,  2., -1.,  1.])"
      ]
     },
     "execution_count": 47,
     "metadata": {},
     "output_type": "execute_result"
    }
   ],
   "source": [
    "from numpy.linalg import inv\n",
    "\n",
    "def siedel(A, b, N):\n",
    "    x = np.zeros_like(b) # initial solution (zeros)\n",
    "    LD = np.tril(A)\n",
    "    U = A - LD\n",
    "#     print(LD)\n",
    "#     print(U)\n",
    "    LDinv = inv(LD)\n",
    "    for i in range(N):\n",
    "        x = LDinv @ (b - U@x)\n",
    "    return x\n",
    "    \n",
    "    \n",
    "\n",
    "siedel(A, b, 9)"
   ]
  },
  {
   "cell_type": "markdown",
   "metadata": {},
   "source": [
    "## Diagonally Dominant Matrices"
   ]
  },
  {
   "cell_type": "code",
   "execution_count": 64,
   "metadata": {},
   "outputs": [
    {
     "name": "stderr",
     "output_type": "stream",
     "text": [
      "C:\\Users\\osama\\Anaconda3\\lib\\site-packages\\ipykernel_launcher.py:13: RuntimeWarning: invalid value encountered in double_scalars\n",
      "  del sys.path[0]\n"
     ]
    },
    {
     "name": "stdout",
     "output_type": "stream",
     "text": [
      "[9.3170e+153 7.8562e+153 5.6941e+153 6.2659e+153 6.9283e+153 4.7585e+153\n",
      " 7.2820e+153 9.5474e+153 9.6081e+153 4.7835e+153]\n",
      "[-3.2298e+153 -5.9729e+153 -3.6157e+153 -5.3852e+153 -5.0202e+153\n",
      " -4.3026e+153 -5.5848e+153 -3.9914e+153 -5.9283e+153 -3.7954e+153]\n",
      "[-5.8067e+153 -4.6916e+153 -6.1585e+153 -6.4089e+153 -3.8484e+153\n",
      " -4.7922e+153 -4.3801e+153 -4.5381e+153 -4.8894e+153 -5.4398e+153]\n",
      "[3.9710e+153 4.7104e+153 3.3456e+153 3.2654e+153 5.1339e+153 2.6460e+153\n",
      " 4.2265e+153 4.4132e+153 4.0761e+153 5.7195e+153]\n",
      "[1. 1. 1. 1. 1. 1. 1. 1. 1. 1.]\n",
      "[1. 1. 1. 1. 1. 1. 1. 1. 1. 1.]\n",
      "[1. 1. 1. 1. 1. 1. 1. 1. 1. 1.]\n",
      "[1. 1. 1. 1. 1. 1. 1. 1. 1. 1.]\n",
      "[1. 1. 1. 1. 1. 1. 1. 1. 1. 1.]\n",
      "[1. 1. 1. 1. 1. 1. 1. 1. 1. 1.]\n",
      "[1. 1. 1. 1. 1. 1. 1. 1. 1. 1.]\n",
      "[1. 1. 1. 1. 1. 1. 1. 1. 1. 1.]\n",
      "[1. 1. 1. 1. 1. 1. 1. 1. 1. 1.]\n",
      "[1. 1. 1. 1. 1. 1. 1. 1. 1. 1.]\n",
      "[1. 1. 1. 1. 1. 1. 1. 1. 1. 1.]\n",
      "[1. 1. 1. 1. 1. 1. 1. 1. 1. 1.]\n",
      "[1. 1. 1. 1. 1. 1. 1. 1. 1. 1.]\n",
      "[1. 1. 1. 1. 1. 1. 1. 1. 1. 1.]\n",
      "[1. 1. 1. 1. 1. 1. 1. 1. 1. 1.]\n",
      "[1. 1. 1. 1. 1. 1. 1. 1. 1. 1.]\n",
      "[1. 1. 1. 1. 1. 1. 1. 1. 1. 1.]\n",
      "[1. 1. 1. 1. 1. 1. 1. 1. 1. 1.]\n",
      "[1. 1. 1. 1. 1. 1. 1. 1. 1. 1.]\n",
      "[1. 1. 1. 1. 1. 1. 1. 1. 1. 1.]\n",
      "[1. 1. 1. 1. 1. 1. 1. 1. 1. 1.]\n",
      "[1. 1. 1. 1. 1. 1. 1. 1. 1. 1.]\n",
      "[1. 1. 1. 1. 1. 1. 1. 1. 1. 1.]\n",
      "[1. 1. 1. 1. 1. 1. 1. 1. 1. 1.]\n",
      "[1. 1. 1. 1. 1. 1. 1. 1. 1. 1.]\n",
      "[1. 1. 1. 1. 1. 1. 1. 1. 1. 1.]\n",
      "[1. 1. 1. 1. 1. 1. 1. 1. 1. 1.]\n",
      "[1. 1. 1. 1. 1. 1. 1. 1. 1. 1.]\n",
      "[1. 1. 1. 1. 1. 1. 1. 1. 1. 1.]\n",
      "[1. 1. 1. 1. 1. 1. 1. 1. 1. 1.]\n",
      "[1. 1. 1. 1. 1. 1. 1. 1. 1. 1.]\n",
      "[1. 1. 1. 1. 1. 1. 1. 1. 1. 1.]\n",
      "[1. 1. 1. 1. 1. 1. 1. 1. 1. 1.]\n",
      "[1. 1. 1. 1. 1. 1. 1. 1. 1. 1.]\n",
      "[1. 1. 1. 1. 1. 1. 1. 1. 1. 1.]\n",
      "[1. 1. 1. 1. 1. 1. 1. 1. 1. 1.]\n",
      "[1. 1. 1. 1. 1. 1. 1. 1. 1. 1.]\n",
      "[1. 1. 1. 1. 1. 1. 1. 1. 1. 1.]\n",
      "[1. 1. 1. 1. 1. 1. 1. 1. 1. 1.]\n",
      "[1. 1. 1. 1. 1. 1. 1. 1. 1. 1.]\n",
      "[1. 1. 1. 1. 1. 1. 1. 1. 1. 1.]\n",
      "[1. 1. 1. 1. 1. 1. 1. 1. 1. 1.]\n",
      "[1. 1. 1. 1. 1. 1. 1. 1. 1. 1.]\n",
      "[1. 1. 1. 1. 1. 1. 1. 1. 1. 1.]\n",
      "[1. 1. 1. 1. 1. 1. 1. 1. 1. 1.]\n"
     ]
    }
   ],
   "source": [
    "np.set_printoptions(precision=4)\n",
    "N = 10\n",
    "for f in range(1, 50):\n",
    "#     f = 0.01\n",
    "    A = np.eye(N) * f\n",
    "    A += np.random.rand(N, N)\n",
    "    b = A @ np.ones(N)\n",
    "\n",
    "    x = jacobi(A, b, 1e-6)\n",
    "    print(x)\n",
    "\n"
   ]
  },
  {
   "cell_type": "markdown",
   "metadata": {},
   "source": [
    "## The Power Method"
   ]
  },
  {
   "cell_type": "code",
   "execution_count": 82,
   "metadata": {},
   "outputs": [
    {
     "name": "stdout",
     "output_type": "stream",
     "text": [
      "[14.0735 10.8191  8.1434  5.964 ]\n",
      "[[ 0.3935 -0.6234 -0.6404 -0.2155]\n",
      " [-0.6802 -0.4913  0.2267 -0.4945]\n",
      " [ 0.4613 -0.5009  0.7079  0.1877]\n",
      " [-0.4119 -0.3451 -0.1934  0.8208]]\n",
      "\n",
      "[ 5.5376 -9.5729  6.4921 -5.7975]\n",
      "[ 5.5376 -9.5729  6.4921 -5.7975]\n",
      "14.073435652863134\n",
      "[ 0.028  -0.0483  0.0328 -0.0293]\n"
     ]
    }
   ],
   "source": [
    "from numpy.linalg import eig\n",
    "\n",
    "A = np.array([\n",
    "    [10., -1., 2., 0.],\n",
    "    [-1., 11., -1., 3.],\n",
    "    [2., -1., 10., -1.],\n",
    "    [0., 3., -1., 8.]\n",
    "])\n",
    "\n",
    "l, v = eig(A)\n",
    "print(l)\n",
    "print(v)\n",
    "\n",
    "print()\n",
    "\n",
    "print(A @ v[:, 0])\n",
    "print(l[0] * v[:, 0])\n",
    "\n",
    "x = np.random.rand(4)\n",
    "for i in range(50):\n",
    "    x = (A @ x) / norm(x,2)\n",
    "\n",
    "lmbda = ((A@x) / x)[0]\n",
    "v = x / lmbda\n",
    "print(lmbda)\n",
    "print(v)"
   ]
  },
  {
   "cell_type": "markdown",
   "metadata": {},
   "source": [
    "## The PageRank Algorithm"
   ]
  },
  {
   "cell_type": "code",
   "execution_count": null,
   "metadata": {},
   "outputs": [],
   "source": []
  }
 ],
 "metadata": {
  "kernelspec": {
   "display_name": "Python 3",
   "language": "python",
   "name": "python3"
  },
  "language_info": {
   "codemirror_mode": {
    "name": "ipython",
    "version": 3
   },
   "file_extension": ".py",
   "mimetype": "text/x-python",
   "name": "python",
   "nbconvert_exporter": "python",
   "pygments_lexer": "ipython3",
   "version": "3.7.1"
  }
 },
 "nbformat": 4,
 "nbformat_minor": 2
}
