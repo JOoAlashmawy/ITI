{
 "cells": [
  {
   "cell_type": "code",
   "execution_count": 2,
   "metadata": {},
   "outputs": [],
   "source": [
    "#1\n",
    "import numpy as np\n",
    "\n",
    "# From the Figure like the Hint \n",
    "#     4p1 - p2 - p3 =0 \n",
    "#     5p2 - p1 - p3 - p4 - p5 = 0 \n",
    "#     .\n",
    "#     .\n",
    "#     .\n",
    "\n",
    "A = np.array([\n",
    "    [4, -1, -1, 0, 0, 0, 0, 0, 0, 0],\n",
    "    [-1, 5, -1, -1, -1, 0, 0, 0, 0, 0],\n",
    "    [-1, -1 , 5, 0, -1, -1, 0, 0, 0, 0],\n",
    "    [0, -1, 0, 5, -1, 0, -1, -1, 0, 0],\n",
    "    [0, -1, -1, -1, 6, -1, 0, -1, -1, 0],\n",
    "    [0, 0, -1, 0, -1, 5, 0, 0, -1, -1],\n",
    "    [0, 0, 0, -1, 0, 0, 4, -1, 0, 0],\n",
    "    [0, 0, 0, -1, -1, 0, -1, 5, -1, 0],\n",
    "    [0, 0, 0, 0, -1, -1, 0, -1, 5, -1],\n",
    "    [0, 0, 0, 0, 0, -1, 0, 0, -1, 4] \n",
    "])\n",
    "\n",
    "b = np.array([0, 0, 0, 0, 0, 0, 1, 1, 1, 1])"
   ]
  },
  {
   "cell_type": "code",
   "execution_count": 3,
   "metadata": {},
   "outputs": [
    {
     "name": "stdout",
     "output_type": "stream",
     "text": [
      "[0.09019607 0.18039214 0.18039214 0.2980392  0.33333332 0.2980392\n",
      " 0.45490195 0.52156861 0.52156861 0.45490195]\n"
     ]
    }
   ],
   "source": [
    "#Jacobi's Method\n",
    "\n",
    "from numpy.linalg import inv, solve, norm\n",
    "\n",
    "def jacobi(A, b, tolerance):\n",
    "    xk_1 = np.zeros_like(b)\n",
    "    D = np.diag(A)  \n",
    "    LplusU = A - np.diag(D)     \n",
    "    x_k = (b - (LplusU @ xk_1)) / D\n",
    "    while (norm(x_k - xk_1, 2)/norm(x_k, 2)) > tolerance:\n",
    "        xk_1 = x_k\n",
    "        x_k = (b - (LplusU @ xk_1)) / D\n",
    " \n",
    "    return x_k\n",
    "\n",
    "print(jacobi(A, b, 1e-8))\n"
   ]
  },
  {
   "cell_type": "code",
   "execution_count": 4,
   "metadata": {},
   "outputs": [
    {
     "data": {
      "text/plain": [
       "array([0.08372205, 0.17174901, 0.17305007, 0.29069653, 0.3253404 ,\n",
       "       0.29270444, 0.45090528, 0.51623368, 0.51703681, 0.45243531])"
      ]
     },
     "execution_count": 4,
     "metadata": {},
     "output_type": "execute_result"
    }
   ],
   "source": [
    "#Gauss-Siedel Method\n",
    "\n",
    "from numpy.linalg import inv\n",
    "\n",
    "def siedel(A, b, N):\n",
    "    x = np.zeros_like(b)  \n",
    "    LD = np.tril(A)\n",
    "    U = A - LD \n",
    "    LDinv = inv(LD)\n",
    "    for i in range(N):\n",
    "        x = LDinv @ (b - U@x)\n",
    "    return x\n",
    "    \n",
    "    \n",
    "\n",
    "siedel(A, b, 9)"
   ]
  },
  {
   "cell_type": "code",
   "execution_count": 17,
   "metadata": {},
   "outputs": [
    {
     "name": "stdout",
     "output_type": "stream",
     "text": [
      "[ 0.88464618+0.j        -0.44232309+0.2948714j -0.44232309-0.2948714j]\n",
      "[[-0.86227396+0.j          0.69332593+0.j          0.69332593-0.j        ]\n",
      " [-0.48735527+0.j         -0.54259608-0.36171765j -0.54259608+0.36171765j]\n",
      " [-0.13772604+0.j          0.11796101+0.28307982j  0.11796101-0.28307982j]]\n",
      "------------------------------------------------------------------------------\n",
      "0.8846461771191109\n",
      "[0.86227396 0.48735527 0.13772604]\n"
     ]
    }
   ],
   "source": [
    "#2\n",
    "#The Power Method\n",
    "\n",
    "from numpy.linalg import eig\n",
    "\n",
    "A1 = np.array([\n",
    "    [0, 1, 2],\n",
    "    [.5, 0, 0],\n",
    "    [0, .25, 0] \n",
    "])\n",
    "\n",
    "l_1, v_1 = eig(A1)\n",
    "print(l_1)\n",
    "print(v_1) \n",
    "\n",
    "print(\"------------------------------------------------------------------------------\")\n",
    "x = np.random.rand(3)\n",
    "for i in range(50):\n",
    "    x = (A1 @ x) / norm(x,2)\n",
    "\n",
    "lmbda_1 = ((A1@x) / x)[0]\n",
    "v_1 = x / lmbda\n",
    "print(lmbda_1)\n",
    "print(v_1)"
   ]
  },
  {
   "cell_type": "code",
   "execution_count": 19,
   "metadata": {},
   "outputs": [
    {
     "name": "stdout",
     "output_type": "stream",
     "text": [
      "[ 2.         -0.99999998 -1.00000002]\n",
      "[[-0.96836405  0.87287156 -0.87287156]\n",
      " [-0.24209101 -0.43643579  0.43643578]\n",
      " [-0.06052275  0.2182179  -0.21821788]]\n",
      "------------------------------------------------------------------------------\n",
      "2.0000000000000355\n",
      "[2.18926861 0.54731715 0.13682929]\n"
     ]
    }
   ],
   "source": [
    "#2\n",
    "#The Power Method\n",
    "\n",
    "from numpy.linalg import eig\n",
    "\n",
    "A2 = np.array([\n",
    "    [0, 6, 8],\n",
    "    [.5, 0, 0],\n",
    "    [0, .5, 0] \n",
    "])\n",
    "\n",
    "l_2, v_2 = eig(A2)\n",
    "print(l_2)\n",
    "print(v_2) \n",
    "\n",
    "print(\"------------------------------------------------------------------------------\")\n",
    "x = np.random.rand(3)\n",
    "for i in range(50):\n",
    "    x = (A2 @ x) / norm(x,2)\n",
    "\n",
    "lmbda_2 = ((A2@x) / x)[0]\n",
    "v_2 = x / lmbda\n",
    "print(lmbda_2)\n",
    "print(v_2)"
   ]
  },
  {
   "cell_type": "code",
   "execution_count": null,
   "metadata": {},
   "outputs": [],
   "source": []
  },
  {
   "cell_type": "code",
   "execution_count": null,
   "metadata": {},
   "outputs": [],
   "source": []
  },
  {
   "cell_type": "code",
   "execution_count": null,
   "metadata": {},
   "outputs": [],
   "source": []
  }
 ],
 "metadata": {
  "kernelspec": {
   "display_name": "Python 3",
   "language": "python",
   "name": "python3"
  },
  "language_info": {
   "codemirror_mode": {
    "name": "ipython",
    "version": 3
   },
   "file_extension": ".py",
   "mimetype": "text/x-python",
   "name": "python",
   "nbconvert_exporter": "python",
   "pygments_lexer": "ipython3",
   "version": "3.7.4"
  }
 },
 "nbformat": 4,
 "nbformat_minor": 2
}
