{
 "cells": [
  {
   "cell_type": "code",
   "execution_count": 1,
   "metadata": {},
   "outputs": [
    {
     "name": "stdout",
     "output_type": "stream",
     "text": [
      "(-1.9999980926513672, 18)\n"
     ]
    }
   ],
   "source": [
    "#Q1\n",
    "#Bisection Method\n",
    "def f(x):\n",
    "    return 2*x**2 + 6*x + 4\n",
    "\n",
    "def bisection_method(f, a, b, tol):\n",
    "    n = 0\n",
    "    while abs(b - a) > tol:\n",
    "        g = (b + a)/2\n",
    "        n += 1\n",
    "        if f(a) * f(g) < 0:\n",
    "            b=g\n",
    "        else:\n",
    "            a=g\n",
    "    return (g, n)\n",
    "\n",
    "# bisection_method(f, -3, -1.5, 1e-5)\n",
    "print(bisection_method(f, -3, -1.5, 1e-5))"
   ]
  },
  {
   "cell_type": "code",
   "execution_count": 3,
   "metadata": {},
   "outputs": [
    {
     "name": "stdout",
     "output_type": "stream",
     "text": [
      "(-0.9999942779213596, 16)\n"
     ]
    }
   ],
   "source": [
    "#Fixed-Point Method\n",
    "import numpy as np\n",
    "def g(x):\n",
    "    return -2/(x+3)\n",
    "\n",
    "def fixed_point(g, p, tol):\n",
    "    n = 0\n",
    "    p1 = p\n",
    "    p2 = g(p1)\n",
    "    while abs(p2 - p1) > tol:\n",
    "        n += 1\n",
    "        p1 = p2 \n",
    "        p2 = g(p1)\n",
    "    return (p2, n)\n",
    "\n",
    "# fixed_point(g, 2, 1e-5)\n",
    "print(fixed_point(g, 2, 1e-5))"
   ]
  },
  {
   "cell_type": "code",
   "execution_count": 4,
   "metadata": {},
   "outputs": [
    {
     "name": "stdout",
     "output_type": "stream",
     "text": [
      "(-0.9999999999999996, 6)\n"
     ]
    }
   ],
   "source": [
    "#Newton's Method\n",
    "def f(x):\n",
    "    return 2*x**2 + 6*x + 4\n",
    "\n",
    "def df(x):\n",
    "    return 4*x + 6\n",
    "\n",
    "def newton(f, df, p, tol):\n",
    "    n = 0\n",
    "    x1 = p\n",
    "    x2 = x1 - f(x1)/df(x1)\n",
    "    while abs(x2 - x1) > tol:\n",
    "        n += 1\n",
    "        x1 = x2\n",
    "        x2 = x1 - f(x1)/df(x1)\n",
    "    return (x2, n)\n",
    "\n",
    "# newton(f, df, 2, 1e-5)\n",
    "print(newton(f, df, 2, 1e-5))"
   ]
  },
  {
   "cell_type": "code",
   "execution_count": 24,
   "metadata": {},
   "outputs": [
    {
     "data": {
      "text/plain": [
       "0.8842242800356657"
      ]
     },
     "execution_count": 24,
     "metadata": {},
     "output_type": "execute_result"
    }
   ],
   "source": [
    "#Q2\n",
    "#Fixed-Point Method\n",
    "import numpy as np\n",
    "def g(x):\n",
    "    return (np.exp(x)+2)/5\n",
    "\n",
    "def fixed_point(g, p, tol):\n",
    "    p1 = p\n",
    "    p2 = g(p1)\n",
    "    while abs(p2 - p1) > tol:\n",
    "        p1 = p2 \n",
    "        p2 = g(p1)\n",
    "    return p2\n",
    "\n",
    "fixed_point(g, 2, 1e-5)\n",
    "\n",
    "\n"
   ]
  },
  {
   "cell_type": "code",
   "execution_count": 25,
   "metadata": {},
   "outputs": [
    {
     "data": {
      "text/plain": [
       "2.1937484741210938"
      ]
     },
     "execution_count": 25,
     "metadata": {},
     "output_type": "execute_result"
    }
   ],
   "source": [
    "#Q3\n",
    "#Bisection Method\n",
    "def f(x):\n",
    "    return np.exp(x) - 5*x + 2\n",
    "\n",
    "def bisection_method(f, a, b, tol):\n",
    "    while abs(b - a) > tol:\n",
    "        g = (b + a)/2\n",
    "        if f(a) * f(g) < 0:\n",
    "            b=g\n",
    "        else:\n",
    "            a=g\n",
    "    return g\n",
    "\n",
    "bisection_method(f, 2, 3, 1e-5)"
   ]
  },
  {
   "cell_type": "code",
   "execution_count": 27,
   "metadata": {},
   "outputs": [
    {
     "data": {
      "text/plain": [
       "0.8842181389559761"
      ]
     },
     "execution_count": 27,
     "metadata": {},
     "output_type": "execute_result"
    }
   ],
   "source": [
    "#Newton's Method\n",
    "def f(x):\n",
    "    return np.exp(x) - 5*x + 2\n",
    "\n",
    "def df(x):\n",
    "    return np.exp(x) - 5\n",
    "\n",
    "def newton(f, df, p, tol):\n",
    "    x1 = p\n",
    "    x2 = x1 - f(x1)/df(x1)\n",
    "    while abs(x2 - x1) > tol:\n",
    "        x1 = x2\n",
    "        x2 = x1 - f(x1)/df(x1)\n",
    "    return x2\n",
    "\n",
    "newton(f, df, 1, 1e-5)"
   ]
  },
  {
   "cell_type": "code",
   "execution_count": 32,
   "metadata": {},
   "outputs": [
    {
     "data": {
      "text/plain": [
       "1.3688125610351562"
      ]
     },
     "execution_count": 32,
     "metadata": {},
     "output_type": "execute_result"
    }
   ],
   "source": [
    "#Q4\n",
    "#Bisection Method\n",
    "def f(x):\n",
    "    return x**3 + 2*x**2 + 10*x - 20\n",
    "\n",
    "def bisection_method(f, a, b, tol):\n",
    "    while abs(b - a) > tol:\n",
    "        g = (b + a)/2\n",
    "        if f(a) * f(g) < 0:\n",
    "            b=g\n",
    "        else:\n",
    "            a=g\n",
    "    return g\n",
    "\n",
    "bisection_method(f, 0, 2, 1e-5)"
   ]
  },
  {
   "cell_type": "code",
   "execution_count": null,
   "metadata": {},
   "outputs": [],
   "source": []
  },
  {
   "cell_type": "code",
   "execution_count": null,
   "metadata": {},
   "outputs": [],
   "source": []
  },
  {
   "cell_type": "code",
   "execution_count": null,
   "metadata": {},
   "outputs": [],
   "source": []
  },
  {
   "cell_type": "code",
   "execution_count": null,
   "metadata": {},
   "outputs": [],
   "source": []
  }
 ],
 "metadata": {
  "kernelspec": {
   "display_name": "Python 3",
   "language": "python",
   "name": "python3"
  },
  "language_info": {
   "codemirror_mode": {
    "name": "ipython",
    "version": 3
   },
   "file_extension": ".py",
   "mimetype": "text/x-python",
   "name": "python",
   "nbconvert_exporter": "python",
   "pygments_lexer": "ipython3",
   "version": "3.7.4"
  }
 },
 "nbformat": 4,
 "nbformat_minor": 2
}
