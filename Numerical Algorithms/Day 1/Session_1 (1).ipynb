{
 "metadata": {
  "language_info": {
   "codemirror_mode": {
    "name": "ipython",
    "version": 3
   },
   "file_extension": ".py",
   "mimetype": "text/x-python",
   "name": "python",
   "nbconvert_exporter": "python",
   "pygments_lexer": "ipython3",
   "version": "3.7.6"
  },
  "orig_nbformat": 2,
  "kernelspec": {
   "name": "python376jvsc74a57bd0b5dd8fc61c81b0bcf33120d40ba91cb138545e9d7a4f55cb2756f432089a5091",
   "display_name": "Python 3.7.6 64-bit ('base': conda)"
  },
  "metadata": {
   "interpreter": {
    "hash": "b5dd8fc61c81b0bcf33120d40ba91cb138545e9d7a4f55cb2756f432089a5091"
   }
  }
 },
 "nbformat": 4,
 "nbformat_minor": 2,
 "cells": [
  {
   "source": [
    "# Session 1: Session 1: Computer arithmetic: the IEEE 754 Standard"
   ],
   "cell_type": "markdown",
   "metadata": {}
  },
  {
   "cell_type": "code",
   "execution_count": null,
   "metadata": {},
   "outputs": [],
   "source": [
    "# Code here\n"
   ]
  },
  {
   "cell_type": "code",
   "execution_count": null,
   "metadata": {},
   "outputs": [],
   "source": [
    "import sys\n",
    "print(sys.float_info.min)\n",
    "print(sys.float_info.max)\n",
    "print(sys.float_info.epsilon)"
   ]
  },
  {
   "source": [
    "## Propagation Error"
   ],
   "cell_type": "markdown",
   "metadata": {}
  },
  {
   "source": [
    "### Quick Quiz\n",
    "What is the output of the following code?"
   ],
   "cell_type": "markdown",
   "metadata": {}
  },
  {
   "cell_type": "code",
   "execution_count": null,
   "metadata": {},
   "outputs": [],
   "source": [
    "x = 0.0\n",
    "while x != 1.0:\n",
    "    print(x)\n",
    "    x = x + 0.1"
   ]
  },
  {
   "cell_type": "code",
   "execution_count": null,
   "metadata": {},
   "outputs": [],
   "source": [
    "message = 'ERROR'\n",
    "s = 0.0\n",
    "for i in range(1,200):\n",
    "    s += 0.1\n",
    "    if s == 0.1*i:\n",
    "        print(\"OK\")\n",
    "    else:\n",
    "        print(message)"
   ]
  },
  {
   "source": [
    "## Absorption Error"
   ],
   "cell_type": "markdown",
   "metadata": {}
  },
  {
   "cell_type": "code",
   "execution_count": null,
   "metadata": {},
   "outputs": [],
   "source": [
    "a = 1e+9\n",
    "epsilon = 1e-8\n",
    "\n",
    "s=a\n",
    "for n in range(0,10000):\n",
    "    # Abosrobtion Error\n",
    "    s=s+epsilon\n",
    "print(\"s = s + epsilon (10000 times) =\", s)\n",
    "\n",
    "#However, the result should have been\n",
    "s=a+10000*epsilon\n",
    "print(\"s = s + 10000*epsilon =\", s)"
   ]
  },
  {
   "source": [
    "## Cancellation Error"
   ],
   "cell_type": "markdown",
   "metadata": {}
  },
  {
   "cell_type": "code",
   "execution_count": null,
   "metadata": {},
   "outputs": [],
   "source": [
    "import numpy as np\n",
    "x = np.array([3.141592653589739], dtype='float32')\n",
    "y = np.array([3.141592653585682], dtype='float32')\n",
    "print(np.squeeze(x - y))\n",
    "\n",
    "x = np.array([3.141592653589739], dtype='float64')\n",
    "y = np.array([3.141592653585682], dtype='float64')\n",
    "print(np.squeeze(x - y))\n"
   ]
  },
  {
   "source": [
    "### Quick Quiz\n",
    "\n",
    "What is happening the following code?"
   ],
   "cell_type": "markdown",
   "metadata": {}
  },
  {
   "cell_type": "code",
   "execution_count": null,
   "metadata": {},
   "outputs": [],
   "source": [
    "from math import log\n",
    "# The Gentleman-Marovich Code\n",
    "A=1.0\n",
    "while ((A+1.0)-A)-1.0==0:\n",
    "    A=2*A    \n",
    "# A is \"always\" a power of two!    \n",
    "# We try to compute  the SMALLEST  value of n such that fl(1+2^n)==fl(2^n)\n",
    "print(A)    \n",
    "print(A,\"  \",log(A)/log(2))\n",
    "print(A,\"  \",log(A,2))"
   ]
  },
  {
   "source": [
    "## Homework\n",
    "\n",
    "What is happening in the following code? Why is B = 1.0 after the while loop?"
   ],
   "cell_type": "markdown",
   "metadata": {}
  },
  {
   "cell_type": "code",
   "execution_count": null,
   "metadata": {},
   "outputs": [],
   "source": [
    "A = 9007199254740992.0\n",
    "B = 1.0\n",
    "while (((A+B)-A)-B)==0:\n",
    "    print(B)\n",
    "    B=B+1.0    \n",
    "print(\"A=\",A , \"log(A,2)\", log(A,2))\n",
    "print(\"B=\",B)"
   ]
  }
 ]
}