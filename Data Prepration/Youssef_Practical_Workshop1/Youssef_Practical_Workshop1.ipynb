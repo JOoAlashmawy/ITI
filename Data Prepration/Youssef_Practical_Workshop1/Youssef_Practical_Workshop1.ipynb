{
 "cells": [
  {
   "cell_type": "code",
   "execution_count": 2,
   "metadata": {},
   "outputs": [],
   "source": [
    "from selenium import webdriver\n",
    "from selenium.webdriver.common.keys import Keys\n",
    "import pandas as pd\n",
    "\n",
    "driver = webdriver.Firefox()\n",
    "driver.get('https://www.premierleague.com/stats/top/players/goals?se=-1')"
   ]
  },
  {
   "cell_type": "code",
   "execution_count": 5,
   "metadata": {},
   "outputs": [
    {
     "name": "stdout",
     "output_type": "stream",
     "text": [
      "['1', '2', '3', '4', '5', '6', '7', '8', '9', '10', '11', '12', '13', '14', '15', '16', '17', '18', '19', '20']\n"
     ]
    }
   ],
   "source": [
    "my_ranks = driver.find_elements_by_xpath('//td[@class=\"rank\"]')\n",
    "rank = []\n",
    "for r in my_ranks:\n",
    "    rank.append(r.text)\n",
    "print(rank)"
   ]
  },
  {
   "cell_type": "code",
   "execution_count": 8,
   "metadata": {},
   "outputs": [
    {
     "name": "stdout",
     "output_type": "stream",
     "text": [
      "20\n"
     ]
    }
   ],
   "source": [
    "#playerName\n",
    "playerNames = driver.find_elements_by_xpath('//a[@class=\"playerName\"]')\n",
    "names = []\n",
    "for n in playerNames:\n",
    "    names.append(n.text)\n",
    "print(len(names))"
   ]
  },
  {
   "cell_type": "code",
   "execution_count": 7,
   "metadata": {},
   "outputs": [
    {
     "name": "stdout",
     "output_type": "stream",
     "text": [
      "['260', '208', '187', '184', '177', '175', '166', '163', '162', '150', '149', '146', '144', '127', '126', '125', '123', '120', '118', '113']\n"
     ]
    }
   ],
   "source": [
    "#mainStat text-centre\n",
    "goals = driver.find_elements_by_xpath('//td[@class=\"mainStat text-centre\"]')\n",
    "num_goals = []\n",
    "for g in goals:\n",
    "    num_goals.append(g.text)\n",
    "print(num_goals)"
   ]
  },
  {
   "cell_type": "code",
   "execution_count": 9,
   "metadata": {},
   "outputs": [
    {
     "name": "stdout",
     "output_type": "stream",
     "text": [
      "20\n"
     ]
    }
   ],
   "source": [
    "All_nationalities = driver.find_elements_by_xpath('//span[@class=\"playerCountry\"]')\n",
    "nationalities = []\n",
    "for n in All_nationalities:\n",
    "    nationalities.append(n.text)\n",
    "print(len(nationalities))"
   ]
  },
  {
   "cell_type": "code",
   "execution_count": 30,
   "metadata": {},
   "outputs": [
    {
     "data": {
      "text/html": [
       "<div>\n",
       "<style scoped>\n",
       "    .dataframe tbody tr th:only-of-type {\n",
       "        vertical-align: middle;\n",
       "    }\n",
       "\n",
       "    .dataframe tbody tr th {\n",
       "        vertical-align: top;\n",
       "    }\n",
       "\n",
       "    .dataframe thead th {\n",
       "        text-align: right;\n",
       "    }\n",
       "</style>\n",
       "<table border=\"1\" class=\"dataframe\">\n",
       "  <thead>\n",
       "    <tr style=\"text-align: right;\">\n",
       "      <th></th>\n",
       "      <th>Rank</th>\n",
       "      <th>Name</th>\n",
       "      <th>Number of goals</th>\n",
       "      <th>Nationalities</th>\n",
       "    </tr>\n",
       "  </thead>\n",
       "  <tbody>\n",
       "    <tr>\n",
       "      <td>0</td>\n",
       "      <td>1</td>\n",
       "      <td>Alan Shearer</td>\n",
       "      <td>260</td>\n",
       "      <td>England</td>\n",
       "    </tr>\n",
       "    <tr>\n",
       "      <td>1</td>\n",
       "      <td>2</td>\n",
       "      <td>Wayne Rooney</td>\n",
       "      <td>208</td>\n",
       "      <td>England</td>\n",
       "    </tr>\n",
       "    <tr>\n",
       "      <td>2</td>\n",
       "      <td>3</td>\n",
       "      <td>Andrew Cole</td>\n",
       "      <td>187</td>\n",
       "      <td>England</td>\n",
       "    </tr>\n",
       "    <tr>\n",
       "      <td>3</td>\n",
       "      <td>4</td>\n",
       "      <td>Sergio Agüero</td>\n",
       "      <td>184</td>\n",
       "      <td>Argentina</td>\n",
       "    </tr>\n",
       "    <tr>\n",
       "      <td>4</td>\n",
       "      <td>5</td>\n",
       "      <td>Frank Lampard</td>\n",
       "      <td>177</td>\n",
       "      <td>England</td>\n",
       "    </tr>\n",
       "  </tbody>\n",
       "</table>\n",
       "</div>"
      ],
      "text/plain": [
       "  Rank           Name Number of goals Nationalities\n",
       "0    1   Alan Shearer             260       England\n",
       "1    2   Wayne Rooney             208       England\n",
       "2    3    Andrew Cole             187       England\n",
       "3    4  Sergio Agüero             184     Argentina\n",
       "4    5  Frank Lampard             177       England"
      ]
     },
     "execution_count": 30,
     "metadata": {},
     "output_type": "execute_result"
    }
   ],
   "source": [
    "data = {'Rank':rank, 'Name':names, 'Number of goals':num_goals, 'Nationalities':nationalities}\n",
    "data1 = pd.DataFrame(data)\n",
    "data1.head()"
   ]
  },
  {
   "cell_type": "code",
   "execution_count": 32,
   "metadata": {},
   "outputs": [],
   "source": [
    "data1.to_csv(\"data1.csv\", index=False)\n",
    "driver.close()"
   ]
  },
  {
   "cell_type": "code",
   "execution_count": null,
   "metadata": {},
   "outputs": [],
   "source": []
  },
  {
   "cell_type": "code",
   "execution_count": 37,
   "metadata": {},
   "outputs": [
    {
     "name": "stdout",
     "output_type": "stream",
     "text": [
      "21\n"
     ]
    }
   ],
   "source": [
    "data2 = pd.read_json (r'players_stats.json')\n",
    "print(len(data2))"
   ]
  },
  {
   "cell_type": "code",
   "execution_count": 27,
   "metadata": {},
   "outputs": [
    {
     "data": {
      "text/html": [
       "<div>\n",
       "<style scoped>\n",
       "    .dataframe tbody tr th:only-of-type {\n",
       "        vertical-align: middle;\n",
       "    }\n",
       "\n",
       "    .dataframe tbody tr th {\n",
       "        vertical-align: top;\n",
       "    }\n",
       "\n",
       "    .dataframe thead th {\n",
       "        text-align: right;\n",
       "    }\n",
       "</style>\n",
       "<table border=\"1\" class=\"dataframe\">\n",
       "  <thead>\n",
       "    <tr style=\"text-align: right;\">\n",
       "      <th></th>\n",
       "      <th>Name</th>\n",
       "      <th>Height_cm</th>\n",
       "      <th>Appearances</th>\n",
       "      <th>Wins</th>\n",
       "      <th>Losses</th>\n",
       "      <th>Goals_per_match</th>\n",
       "      <th>Assists</th>\n",
       "      <th>Yellow_cards</th>\n",
       "      <th>Red_cards</th>\n",
       "    </tr>\n",
       "  </thead>\n",
       "  <tbody>\n",
       "    <tr>\n",
       "      <td>0</td>\n",
       "      <td>Michael Owen</td>\n",
       "      <td>173</td>\n",
       "      <td>326</td>\n",
       "      <td>142</td>\n",
       "      <td>95</td>\n",
       "      <td>0.46</td>\n",
       "      <td>31</td>\n",
       "      <td>10</td>\n",
       "      <td>1</td>\n",
       "    </tr>\n",
       "    <tr>\n",
       "      <td>1</td>\n",
       "      <td>Jermain Defoe</td>\n",
       "      <td>171</td>\n",
       "      <td>496</td>\n",
       "      <td>185</td>\n",
       "      <td>188</td>\n",
       "      <td>0.33</td>\n",
       "      <td>33</td>\n",
       "      <td>40</td>\n",
       "      <td>2</td>\n",
       "    </tr>\n",
       "    <tr>\n",
       "      <td>2</td>\n",
       "      <td>Harry Kane</td>\n",
       "      <td>188</td>\n",
       "      <td>245</td>\n",
       "      <td>136</td>\n",
       "      <td>57</td>\n",
       "      <td>0.68</td>\n",
       "      <td>34</td>\n",
       "      <td>27</td>\n",
       "      <td>0</td>\n",
       "    </tr>\n",
       "    <tr>\n",
       "      <td>3</td>\n",
       "      <td>Mohamed Salah</td>\n",
       "      <td>175</td>\n",
       "      <td>158</td>\n",
       "      <td>107</td>\n",
       "      <td>21</td>\n",
       "      <td>0.61</td>\n",
       "      <td>34</td>\n",
       "      <td>4</td>\n",
       "      <td>0</td>\n",
       "    </tr>\n",
       "    <tr>\n",
       "      <td>4</td>\n",
       "      <td>Romelu Lukaku</td>\n",
       "      <td>190</td>\n",
       "      <td>252</td>\n",
       "      <td>112</td>\n",
       "      <td>80</td>\n",
       "      <td>0.45</td>\n",
       "      <td>35</td>\n",
       "      <td>19</td>\n",
       "      <td>0</td>\n",
       "    </tr>\n",
       "  </tbody>\n",
       "</table>\n",
       "</div>"
      ],
      "text/plain": [
       "            Name  Height_cm  Appearances  Wins  Losses  Goals_per_match  \\\n",
       "0   Michael Owen        173          326   142      95             0.46   \n",
       "1  Jermain Defoe        171          496   185     188             0.33   \n",
       "2     Harry Kane        188          245   136      57             0.68   \n",
       "3  Mohamed Salah        175          158   107      21             0.61   \n",
       "4  Romelu Lukaku        190          252   112      80             0.45   \n",
       "\n",
       "   Assists  Yellow_cards  Red_cards  \n",
       "0       31            10          1  \n",
       "1       33            40          2  \n",
       "2       34            27          0  \n",
       "3       34             4          0  \n",
       "4       35            19          0  "
      ]
     },
     "execution_count": 27,
     "metadata": {},
     "output_type": "execute_result"
    }
   ],
   "source": [
    "data2.to_csv ('data2.csv', index = False)\n",
    "data2.head()"
   ]
  },
  {
   "cell_type": "code",
   "execution_count": 36,
   "metadata": {},
   "outputs": [
    {
     "name": "stdout",
     "output_type": "stream",
     "text": [
      "20\n"
     ]
    },
    {
     "data": {
      "text/html": [
       "<div>\n",
       "<style scoped>\n",
       "    .dataframe tbody tr th:only-of-type {\n",
       "        vertical-align: middle;\n",
       "    }\n",
       "\n",
       "    .dataframe tbody tr th {\n",
       "        vertical-align: top;\n",
       "    }\n",
       "\n",
       "    .dataframe thead th {\n",
       "        text-align: right;\n",
       "    }\n",
       "</style>\n",
       "<table border=\"1\" class=\"dataframe\">\n",
       "  <thead>\n",
       "    <tr style=\"text-align: right;\">\n",
       "      <th></th>\n",
       "      <th>Rank</th>\n",
       "      <th>Name</th>\n",
       "      <th>Number of goals</th>\n",
       "      <th>Nationalities</th>\n",
       "      <th>Height_cm</th>\n",
       "      <th>Appearances</th>\n",
       "      <th>Wins</th>\n",
       "      <th>Losses</th>\n",
       "      <th>Goals_per_match</th>\n",
       "      <th>Assists</th>\n",
       "      <th>Yellow_cards</th>\n",
       "      <th>Red_cards</th>\n",
       "    </tr>\n",
       "  </thead>\n",
       "  <tbody>\n",
       "    <tr>\n",
       "      <td>0</td>\n",
       "      <td>1</td>\n",
       "      <td>Alan Shearer</td>\n",
       "      <td>260</td>\n",
       "      <td>England</td>\n",
       "      <td>183.0</td>\n",
       "      <td>441.0</td>\n",
       "      <td>203.0</td>\n",
       "      <td>129.0</td>\n",
       "      <td>0.59</td>\n",
       "      <td>64.0</td>\n",
       "      <td>41.0</td>\n",
       "      <td>2.0</td>\n",
       "    </tr>\n",
       "    <tr>\n",
       "      <td>1</td>\n",
       "      <td>2</td>\n",
       "      <td>Wayne Rooney</td>\n",
       "      <td>208</td>\n",
       "      <td>England</td>\n",
       "      <td>176.0</td>\n",
       "      <td>491.0</td>\n",
       "      <td>284.0</td>\n",
       "      <td>103.0</td>\n",
       "      <td>0.42</td>\n",
       "      <td>103.0</td>\n",
       "      <td>102.0</td>\n",
       "      <td>3.0</td>\n",
       "    </tr>\n",
       "    <tr>\n",
       "      <td>2</td>\n",
       "      <td>3</td>\n",
       "      <td>Andrew Cole</td>\n",
       "      <td>187</td>\n",
       "      <td>England</td>\n",
       "      <td>178.0</td>\n",
       "      <td>414.0</td>\n",
       "      <td>206.0</td>\n",
       "      <td>106.0</td>\n",
       "      <td>0.45</td>\n",
       "      <td>73.0</td>\n",
       "      <td>40.0</td>\n",
       "      <td>6.0</td>\n",
       "    </tr>\n",
       "    <tr>\n",
       "      <td>3</td>\n",
       "      <td>4</td>\n",
       "      <td>Sergio Agüero</td>\n",
       "      <td>184</td>\n",
       "      <td>Argentina</td>\n",
       "      <td>NaN</td>\n",
       "      <td>NaN</td>\n",
       "      <td>NaN</td>\n",
       "      <td>NaN</td>\n",
       "      <td>NaN</td>\n",
       "      <td>NaN</td>\n",
       "      <td>NaN</td>\n",
       "      <td>NaN</td>\n",
       "    </tr>\n",
       "    <tr>\n",
       "      <td>4</td>\n",
       "      <td>5</td>\n",
       "      <td>Frank Lampard</td>\n",
       "      <td>177</td>\n",
       "      <td>England</td>\n",
       "      <td>184.0</td>\n",
       "      <td>609.0</td>\n",
       "      <td>349.0</td>\n",
       "      <td>127.0</td>\n",
       "      <td>0.29</td>\n",
       "      <td>102.0</td>\n",
       "      <td>59.0</td>\n",
       "      <td>2.0</td>\n",
       "    </tr>\n",
       "  </tbody>\n",
       "</table>\n",
       "</div>"
      ],
      "text/plain": [
       "  Rank           Name Number of goals Nationalities  Height_cm  Appearances  \\\n",
       "0    1   Alan Shearer             260       England      183.0        441.0   \n",
       "1    2   Wayne Rooney             208       England      176.0        491.0   \n",
       "2    3    Andrew Cole             187       England      178.0        414.0   \n",
       "3    4  Sergio Agüero             184     Argentina        NaN          NaN   \n",
       "4    5  Frank Lampard             177       England      184.0        609.0   \n",
       "\n",
       "    Wins  Losses  Goals_per_match  Assists  Yellow_cards  Red_cards  \n",
       "0  203.0   129.0             0.59     64.0          41.0        2.0  \n",
       "1  284.0   103.0             0.42    103.0         102.0        3.0  \n",
       "2  206.0   106.0             0.45     73.0          40.0        6.0  \n",
       "3    NaN     NaN              NaN      NaN           NaN        NaN  \n",
       "4  349.0   127.0             0.29    102.0          59.0        2.0  "
      ]
     },
     "execution_count": 36,
     "metadata": {},
     "output_type": "execute_result"
    }
   ],
   "source": [
    "all_data = pd.merge(data1, data2, how='left', on=['Name'])\n",
    "print(len(all_data))\n",
    "all_data.head()\n"
   ]
  },
  {
   "cell_type": "code",
   "execution_count": null,
   "metadata": {},
   "outputs": [],
   "source": []
  },
  {
   "cell_type": "code",
   "execution_count": null,
   "metadata": {},
   "outputs": [],
   "source": []
  },
  {
   "cell_type": "code",
   "execution_count": null,
   "metadata": {},
   "outputs": [],
   "source": []
  }
 ],
 "metadata": {
  "kernelspec": {
   "display_name": "Python 3",
   "language": "python",
   "name": "python3"
  },
  "language_info": {
   "codemirror_mode": {
    "name": "ipython",
    "version": 3
   },
   "file_extension": ".py",
   "mimetype": "text/x-python",
   "name": "python",
   "nbconvert_exporter": "python",
   "pygments_lexer": "ipython3",
   "version": "3.7.4"
  }
 },
 "nbformat": 4,
 "nbformat_minor": 2
}
