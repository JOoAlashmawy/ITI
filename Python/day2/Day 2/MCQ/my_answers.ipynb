{
 "cells": [
  {
   "cell_type": "code",
   "execution_count": 1,
   "metadata": {},
   "outputs": [],
   "source": [
    "#1- given list check if it in ascending order ?"
   ]
  },
  {
   "cell_type": "code",
   "execution_count": 7,
   "metadata": {},
   "outputs": [
    {
     "name": "stdout",
     "output_type": "stream",
     "text": [
      "0\n"
     ]
    }
   ],
   "source": [
    "l=[1,2,3,4,5,6,7,8,9]\n",
    "ascending=1\n",
    "for i in range(len(l)-1):\n",
    "    if l[i] > l[i+1]:\n",
    "        ascending=0\n",
    "        break\n",
    "print(ascending)"
   ]
  },
  {
   "cell_type": "code",
   "execution_count": null,
   "metadata": {},
   "outputs": [],
   "source": [
    "#2- replace [min max] inplace ?"
   ]
  },
  {
   "cell_type": "code",
   "execution_count": 9,
   "metadata": {},
   "outputs": [
    {
     "name": "stdout",
     "output_type": "stream",
     "text": [
      "[9, 2, 3, 4, 5, 6, 7, 8, 1]\n"
     ]
    }
   ],
   "source": [
    "l=[1,2,3,4,5,6,7,8,9]\n",
    "max_num= max(l)\n",
    "min_num=min(l)\n",
    "for i in range(len(l)):\n",
    "    if l[i] == min_num:\n",
    "        l[i] = max_num\n",
    "    elif l[i] == max_num:\n",
    "        l[i] = min_num\n",
    "print(l)"
   ]
  },
  {
   "cell_type": "code",
   "execution_count": 10,
   "metadata": {},
   "outputs": [],
   "source": [
    "#3- find last occurrence for queries ?"
   ]
  },
  {
   "cell_type": "code",
   "execution_count": 24,
   "metadata": {},
   "outputs": [
    {
     "name": "stdout",
     "output_type": "stream",
     "text": [
      "9\n"
     ]
    }
   ],
   "source": [
    "l=[2,5,4,99,4,5,7,8,9,5,8,9,6,1,4]\n",
    "q=5\n",
    "l.reverse()\n",
    "i=0\n",
    "while i<len(l):\n",
    "    if l[i]==q:\n",
    "        break\n",
    "    i+=1\n",
    "print(len(l)-i-1)"
   ]
  },
  {
   "cell_type": "code",
   "execution_count": null,
   "metadata": {},
   "outputs": [],
   "source": [
    "#4- find uniqe but not sorted lst ?"
   ]
  },
  {
   "cell_type": "code",
   "execution_count": 15,
   "metadata": {},
   "outputs": [
    {
     "name": "stdout",
     "output_type": "stream",
     "text": [
      "165433494465\n",
      "[1, 6, 5, 4, 3, 3, 4, 9, 4, 4, 6, 5]\n",
      "[1, 6, 5, 4, 3, 9]\n"
     ]
    }
   ],
   "source": [
    "l = list(map(int, input()))\n",
    "# l=[2,5,4,99,4,5,7,8,9,5,8,9,6,1,4]\n",
    "print(l)\n",
    "uniqe_list=[]\n",
    "for i in range(len(l)):\n",
    "    if l[i] not in uniqe_list:\n",
    "        uniqe_list.append(l[i])\n",
    "print(uniqe_list)"
   ]
  },
  {
   "cell_type": "code",
   "execution_count": null,
   "metadata": {},
   "outputs": [],
   "source": [
    "#5- find uniqe but sorted lst ?"
   ]
  },
  {
   "cell_type": "code",
   "execution_count": 28,
   "metadata": {},
   "outputs": [
    {
     "name": "stdout",
     "output_type": "stream",
     "text": [
      "[1, 2, 4, 5, 6, 7, 8, 9, 99]\n"
     ]
    }
   ],
   "source": [
    "l = list(map(int, input()))\n",
    "# l=[2,5,4,99,4,5,7,8,9,5,8,9,6,1,4]\n",
    "# print(l)\n",
    "uniqe_list=[]\n",
    "for i in range(len(l)):\n",
    "    if l[i] not in uniqe_list:\n",
    "        uniqe_list.append(l[i])\n",
    "uniqe_list.sort()\n",
    "print(uniqe_list)"
   ]
  },
  {
   "cell_type": "code",
   "execution_count": null,
   "metadata": {},
   "outputs": [],
   "source": [
    "#6- find_3_min ?"
   ]
  },
  {
   "cell_type": "code",
   "execution_count": 30,
   "metadata": {},
   "outputs": [
    {
     "name": "stdout",
     "output_type": "stream",
     "text": [
      "[1, 2, 4]\n"
     ]
    }
   ],
   "source": [
    "# l = list(map(int, input()))\n",
    "l=[2,5,4,99,4,5,7,8,9,5,8,9,6,1,4]\n",
    "uniqe_list=[]\n",
    "for i in range(len(l)):\n",
    "    if l[i] not in uniqe_list:\n",
    "        uniqe_list.append(l[i])\n",
    "uniqe_list.sort()\n",
    "print(uniqe_list[:3])"
   ]
  },
  {
   "cell_type": "code",
   "execution_count": null,
   "metadata": {},
   "outputs": [],
   "source": [
    "#7- find most frequent number ?"
   ]
  },
  {
   "cell_type": "code",
   "execution_count": 35,
   "metadata": {},
   "outputs": [
    {
     "name": "stdout",
     "output_type": "stream",
     "text": [
      "5\n"
     ]
    }
   ],
   "source": [
    "l=[2,5,4,99,4,5,7,8,9,5,8,9,6,1,4]\n",
    "# l = [2, 1, 2, 2, 1, 3]\n",
    "num=0\n",
    "max_num=0\n",
    "uniqe_list=[]\n",
    "for i in range(len(l)):\n",
    "    if l[i] not in uniqe_list:\n",
    "        uniqe_list.append(l[i])\n",
    "for i in uniqe_list:\n",
    "    if l.count(i) > max_num:\n",
    "        max_num = l.count(i)\n",
    "        num = i\n",
    "\n",
    "print(num)     "
   ]
  },
  {
   "cell_type": "code",
   "execution_count": null,
   "metadata": {},
   "outputs": [],
   "source": [
    "#8- compute number of appeared digits in list ?"
   ]
  },
  {
   "cell_type": "code",
   "execution_count": 23,
   "metadata": {},
   "outputs": [
    {
     "name": "stdout",
     "output_type": "stream",
     "text": [
      "0 4\n",
      "1 0\n",
      "2 0\n",
      "3 1\n",
      "4 0\n",
      "5 0\n",
      "6 0\n",
      "7 2\n",
      "8 1\n",
      "9 0\n"
     ]
    }
   ],
   "source": [
    "def Convert(string):\n",
    "    list1=[]\n",
    "    list1[:0]=string\n",
    "    return list1\n",
    "l = list(map(int, input()))\n",
    "# l=[78, 0, 0, 0, -307]\n",
    "freq = [0] * 10 #from 0 to 9\n",
    "\n",
    "l = [abs(i) for i in l]\n",
    "s = \"\".join([str(int) for int in l])\n",
    "l = test_list = [int(i) for i in Convert(s)] \n",
    "\n",
    "for i in l:\n",
    "    freq[i] += 1\n",
    "\n",
    "for i in range(10):\n",
    "    print(i , freq[i])"
   ]
  },
  {
   "cell_type": "code",
   "execution_count": null,
   "metadata": {},
   "outputs": [],
   "source": [
    "#9- lst2 is is subsequence of lst1 ?"
   ]
  },
  {
   "cell_type": "code",
   "execution_count": 26,
   "metadata": {},
   "outputs": [
    {
     "name": "stdout",
     "output_type": "stream",
     "text": [
      "NO\n"
     ]
    }
   ],
   "source": [
    "# lst1=[1,2,3,4,5,6,7,8,9]\n",
    "# lst2=[4,5,6,10]\n",
    "lst1=list(map(int, input()))\n",
    "lst2=list(map(int, input()))\n",
    "flag=1\n",
    "for i in lst2:\n",
    "    if i not in lst1:\n",
    "        flag=0\n",
    "        break\n",
    "    \n",
    "if flag:\n",
    "    print(\"YES\")\n",
    "else:\n",
    "    print(\"NO\")"
   ]
  },
  {
   "cell_type": "code",
   "execution_count": null,
   "metadata": {},
   "outputs": [],
   "source": [
    "#10- get min element from specific type ?"
   ]
  },
  {
   "cell_type": "code",
   "execution_count": 27,
   "metadata": {},
   "outputs": [
    {
     "name": "stdout",
     "output_type": "stream",
     "text": [
      "5\n",
      "-2.5\n",
      "Ziad\n"
     ]
    }
   ],
   "source": [
    "lst = [10, -2.5, 20, 5, 'mostafa', 5.2, 'Ziad']\n",
    "\n",
    "print(min ([item for item in lst if type(item) is int]))\n",
    "print(min ([item for item in lst if type(item) is float]))\n",
    "print(min ([item for item in lst if type(item) is str]))"
   ]
  },
  {
   "cell_type": "code",
   "execution_count": null,
   "metadata": {},
   "outputs": [],
   "source": [
    "#11- encrypte given string ?"
   ]
  },
  {
   "cell_type": "code",
   "execution_count": 29,
   "metadata": {},
   "outputs": [
    {
     "name": "stdout",
     "output_type": "stream",
     "text": [
      "youssef\n",
      "VXJBBNE\n"
     ]
    }
   ],
   "source": [
    "# Create a dict with requested mapping\n",
    "from_str = 'abcdefghijklmnopqrstuvwxyz0123456789'\n",
    "to_str = 'YZIMNESTODUAPWXHQFBRJKCGVL!@#$%^&*()'\n",
    "# create the dict with comprehension\n",
    "dict = {from_str[idx]:to_str[idx] for idx in range(len(from_str))}\n",
    "\n",
    "string = input()\n",
    "res = ''\n",
    "for char in string:\n",
    "    if char in dict:\n",
    "        char = dict[char]\n",
    "    res += char\n",
    "print(res)"
   ]
  },
  {
   "cell_type": "code",
   "execution_count": null,
   "metadata": {},
   "outputs": [],
   "source": [
    "#12- sort elements by data types ?"
   ]
  },
  {
   "cell_type": "code",
   "execution_count": 28,
   "metadata": {},
   "outputs": [
    {
     "name": "stdout",
     "output_type": "stream",
     "text": [
      "[[-4, 2, 5, 7, 9, 10], ['aly', 'most', 'ziad'], [1.1, 2.5, 4.5], [[0, 7, 8], [1, 5]]]\n"
     ]
    }
   ],
   "source": [
    "lst = [10, 'most', 2.5, 7, 'aly', 9, 4.5, 2, 'ziad', -4, 1.1, [1, 5], 5, [0, 7, 8]]\n",
    "    \n",
    "dict = {}\n",
    "for item in lst:\n",
    "    t = type(item)\n",
    "    dict.setdefault(t, [])\n",
    "    dict[t].append(item)\n",
    "    #return [*sorted(lst) for lst in dict.values()]\n",
    "lsts = [sorted(lst) for lst in dict.values()]\n",
    "print(lsts)"
   ]
  },
  {
   "cell_type": "code",
   "execution_count": null,
   "metadata": {},
   "outputs": [],
   "source": [
    "#13- find count pairs it's summition equal to 100 --> (pi + pj == 100) ,i<j ?"
   ]
  },
  {
   "cell_type": "code",
   "execution_count": null,
   "metadata": {},
   "outputs": [],
   "source": [
    "lst = list(map(int, input())\n",
    "ans = 0\n",
    "for idx in range(len(lst)-1):\n",
    "    if 100 - lst[idx] in lst[idx+1 : ]:\n",
    "        ans+=1\n",
    "print(ans)   \n",
    "\n",
    "#------------------------\n",
    "\n",
    "lst = list(map(int, input()))\n",
    "lst.sort()\n",
    "l = 0\n",
    "r = len(lst) - 1\n",
    "ans = 0\n",
    "while l < r :\n",
    "  if lst[l] + lst[r] == 100:\n",
    "      ans+=1\n",
    "      l+=1\n",
    "      r-=1\n",
    "  \n",
    "  elif  lst[l] + lst[r] > 100:\n",
    "         r-=1\n",
    "  else :\n",
    "     l+=1 \n",
    "\n",
    "print(ans)\n"
   ]
  },
  {
   "cell_type": "code",
   "execution_count": null,
   "metadata": {},
   "outputs": [],
   "source": []
  },
  {
   "cell_type": "code",
   "execution_count": null,
   "metadata": {},
   "outputs": [],
   "source": []
  }
 ],
 "metadata": {
  "kernelspec": {
   "display_name": "Python 3",
   "language": "python",
   "name": "python3"
  },
  "language_info": {
   "codemirror_mode": {
    "name": "ipython",
    "version": 3
   },
   "file_extension": ".py",
   "mimetype": "text/x-python",
   "name": "python",
   "nbconvert_exporter": "python",
   "pygments_lexer": "ipython3",
   "version": "3.7.4"
  }
 },
 "nbformat": 4,
 "nbformat_minor": 2
}
