{
 "cells": [
  {
   "cell_type": "code",
   "execution_count": 3,
   "metadata": {},
   "outputs": [],
   "source": [
    "#Exercises 1 :"
   ]
  },
  {
   "cell_type": "code",
   "execution_count": 10,
   "metadata": {},
   "outputs": [
    {
     "data": {
      "text/plain": [
       "'[[hello]]'"
      ]
     },
     "execution_count": 10,
     "metadata": {},
     "output_type": "execute_result"
    }
   ],
   "source": [
    "def insert_sting(str, word):\n",
    "    n = len(str)//2\n",
    "    return str[:n] + word + str[n:]\n",
    "\n",
    "insert_sting(\"[[]]\", 'hello')"
   ]
  },
  {
   "cell_type": "code",
   "execution_count": null,
   "metadata": {},
   "outputs": [],
   "source": [
    "#Exercises 2 :"
   ]
  },
  {
   "cell_type": "code",
   "execution_count": 12,
   "metadata": {},
   "outputs": [
    {
     "name": "stdout",
     "output_type": "stream",
     "text": [
      "3\n"
     ]
    }
   ],
   "source": [
    "num_of_hash = 0\n",
    "t=\"you##s#ef\"\n",
    "num_of_hash = lambda t: t.count('#')\n",
    "print(num_of_hash(t))"
   ]
  },
  {
   "cell_type": "code",
   "execution_count": null,
   "metadata": {},
   "outputs": [],
   "source": [
    "#Exercises 3 :"
   ]
  },
  {
   "cell_type": "code",
   "execution_count": 13,
   "metadata": {},
   "outputs": [
    {
     "name": "stdout",
     "output_type": "stream",
     "text": [
      "(10, 0)\n"
     ]
    }
   ],
   "source": [
    "tuples = [(1,2), (1,3), (4,2), (5,6), (10,0)]\n",
    "min_num=0\n",
    "for i in tuples:\n",
    "    if min_num ==0:\n",
    "        min_num = i\n",
    "    elif i[1] < min_num[1]:\n",
    "        min_num = i\n",
    "print(min_num)"
   ]
  },
  {
   "cell_type": "code",
   "execution_count": null,
   "metadata": {},
   "outputs": [],
   "source": [
    "#Exercises 4 :"
   ]
  },
  {
   "cell_type": "code",
   "execution_count": 19,
   "metadata": {},
   "outputs": [
    {
     "name": "stdout",
     "output_type": "stream",
     "text": [
      "{'ali': 19.25, 'ahmed': 19.25, 'noha': 19.25, 'ramy': 19.25}\n"
     ]
    }
   ],
   "source": [
    "test_dict = { \"ali\": 29, \"ahmed\": 13, \"noha\": 20, \"ramy\": 15}\n",
    "n=0\n",
    "num=len(test_dict)\n",
    "\n",
    "for i in test_dict:\n",
    "    n += test_dict[i]\n",
    "avg = n / num\n",
    "\n",
    "for i in test_dict:\n",
    "    test_dict[i] = avg\n",
    "    \n",
    "print(test_dict)"
   ]
  },
  {
   "cell_type": "code",
   "execution_count": null,
   "metadata": {},
   "outputs": [],
   "source": [
    "#Exercises 5 :"
   ]
  },
  {
   "cell_type": "code",
   "execution_count": 7,
   "metadata": {},
   "outputs": [
    {
     "name": "stdout",
     "output_type": "stream",
     "text": [
      "[(2, 0), (9, 3), (0, 5)]\n"
     ]
    }
   ],
   "source": [
    "def sort_tuples(l):\n",
    "    l.sort(key=lambda x:x[1])\n",
    "    return l\n",
    "\n",
    "myList =  [(0, 5), (2, 0), (9, 3)]\n",
    "newList = sort_tuples(myList)\n",
    "\n",
    "print(newList)"
   ]
  },
  {
   "cell_type": "code",
   "execution_count": null,
   "metadata": {},
   "outputs": [],
   "source": [
    "#Exercises 6 :"
   ]
  },
  {
   "cell_type": "code",
   "execution_count": 1,
   "metadata": {},
   "outputs": [
    {
     "name": "stdout",
     "output_type": "stream",
     "text": [
      "enter dims:22\n",
      "enter array 1-row-0:53\n",
      "enter array 1-row-1:12\n",
      "enter array 2-row-0:26\n",
      "enter array 2-row-1:40\n",
      "result:\n",
      "10  18\n",
      "4  0\n"
     ]
    }
   ],
   "source": [
    "l = list(map(int, input(\"enter dims:\")))\n",
    "num = l[0]*l[1]\n",
    "r10 = list(map(int, input(\"enter array 1-row-0:\")))\n",
    "r11 = list(map(int, input(\"enter array 1-row-1:\")))\n",
    "r20 = list(map(int, input(\"enter array 2-row-0:\")))\n",
    "r21 = list(map(int, input(\"enter array 2-row-1:\")))\n",
    "r30 = (r10[0]*r20[0] , r10[1]*r20[1])\n",
    "r31 = (r11[0]*r21[0] , r11[1]*r21[1])\n",
    "    \n",
    "print(\"result:\" )\n",
    "print(f'{r30[0]}  {r30[1]}')\n",
    "print(f'{r31[0]}  {r31[1]}')"
   ]
  },
  {
   "cell_type": "markdown",
   "metadata": {},
   "source": [
    "# Bonus"
   ]
  },
  {
   "cell_type": "code",
   "execution_count": 8,
   "metadata": {},
   "outputs": [],
   "source": [
    "#Q1"
   ]
  },
  {
   "cell_type": "code",
   "execution_count": 14,
   "metadata": {},
   "outputs": [
    {
     "name": "stdout",
     "output_type": "stream",
     "text": [
      "[1, 7]\n",
      "[1.3, 4.4]\n",
      "['hi', '45']\n",
      "[[0, 1]]\n"
     ]
    }
   ],
   "source": [
    "l=[1,1.3,7,4.4,'hi',[0,1],'45']\n",
    "dict_types = {}\n",
    "for i in l:\n",
    "    t = type(i)\n",
    "    dict_types.setdefault(t, [])\n",
    "    dict_types[t].append(i)\n",
    "print(dict_types[int])\n",
    "print(dict_types[float])\n",
    "print(dict_types[str])\n",
    "print(dict_types[list])"
   ]
  },
  {
   "cell_type": "code",
   "execution_count": null,
   "metadata": {},
   "outputs": [],
   "source": [
    "#Q2"
   ]
  },
  {
   "cell_type": "code",
   "execution_count": 18,
   "metadata": {},
   "outputs": [
    {
     "name": "stdout",
     "output_type": "stream",
     "text": [
      "[1, 2, 3, 4, 5, 6, 9]\n"
     ]
    }
   ],
   "source": [
    "l1 = [1,3,5]\n",
    "l2 = [2,4,6,9]\n",
    "l3 = []\n",
    "l = max(len(l1), len(l2))\n",
    "for i in range(l):\n",
    "    if i < len(l1):\n",
    "        l3.append(l1[i])\n",
    "    if i < len(l2):\n",
    "        l3.append(l2[i])\n",
    "print(l3)"
   ]
  },
  {
   "cell_type": "code",
   "execution_count": null,
   "metadata": {},
   "outputs": [],
   "source": [
    "#Q3"
   ]
  },
  {
   "cell_type": "code",
   "execution_count": 25,
   "metadata": {},
   "outputs": [
    {
     "name": "stdout",
     "output_type": "stream",
     "text": [
      "ana\n",
      "True\n"
     ]
    }
   ],
   "source": [
    "s1 = input()\n",
    "s2 = s1[::-1]\n",
    "if s1 == s2:\n",
    "    print(True)\n",
    "else:\n",
    "    print(False)\n",
    "\n"
   ]
  },
  {
   "cell_type": "code",
   "execution_count": null,
   "metadata": {},
   "outputs": [],
   "source": []
  }
 ],
 "metadata": {
  "kernelspec": {
   "display_name": "Python 3",
   "language": "python",
   "name": "python3"
  },
  "language_info": {
   "codemirror_mode": {
    "name": "ipython",
    "version": 3
   },
   "file_extension": ".py",
   "mimetype": "text/x-python",
   "name": "python",
   "nbconvert_exporter": "python",
   "pygments_lexer": "ipython3",
   "version": "3.7.4"
  }
 },
 "nbformat": 4,
 "nbformat_minor": 2
}
