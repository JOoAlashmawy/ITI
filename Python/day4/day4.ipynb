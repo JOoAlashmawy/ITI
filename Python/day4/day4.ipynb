{
 "cells": [
  {
   "cell_type": "code",
   "execution_count": 20,
   "metadata": {},
   "outputs": [
    {
     "name": "stdout",
     "output_type": "stream",
     "text": [
      "0 1 2 3 4 "
     ]
    }
   ],
   "source": [
    "for n in range(5):\n",
    "    print(n, end=' ')"
   ]
  },
  {
   "cell_type": "code",
   "execution_count": 22,
   "metadata": {},
   "outputs": [
    {
     "name": "stdout",
     "output_type": "stream",
     "text": [
      "123.46\n"
     ]
    }
   ],
   "source": [
    "f = 123.45678\n",
    "print(\"{:.2f}\".format(f))"
   ]
  },
  {
   "cell_type": "code",
   "execution_count": 23,
   "metadata": {},
   "outputs": [
    {
     "name": "stdout",
     "output_type": "stream",
     "text": [
      "Enter first number : 5\n",
      "Enter first number : 7.6\n",
      "Enter first number : 5.4\n",
      "Enter first number : 6.7\n",
      "Enter first number : 2.3\n",
      "Enter first number : 8.5\n",
      "[7.6, 5.4, 6.7, 2.3, 8.5]\n"
     ]
    }
   ],
   "source": [
    "num = int(input(\"Enter first number : \"))\n",
    "f_num = []\n",
    "for i in range(num):\n",
    "    num1 = float(input(\"Enter first number : \"))\n",
    "    f_num.append(num1)\n",
    "print(f_num)"
   ]
  },
  {
   "cell_type": "code",
   "execution_count": 24,
   "metadata": {},
   "outputs": [
    {
     "data": {
      "text/plain": [
       "True"
      ]
     },
     "execution_count": 24,
     "metadata": {},
     "output_type": "execute_result"
    }
   ],
   "source": [
    "import os\n",
    "os.stat(\"new_file\").st_size == 0\n"
   ]
  },
  {
   "cell_type": "code",
   "execution_count": 59,
   "metadata": {},
   "outputs": [
    {
     "name": "stdout",
     "output_type": "stream",
     "text": [
      "{\n",
      "    \"age\": 29,\n",
      "    \"id\": 1,\n",
      "    \"name\": \"value2\"\n",
      "}\n"
     ]
    }
   ],
   "source": [
    "sampleJson = {\"id\": 1, \"name\": \"value2\", \"age\": 29}\n",
    "\n",
    "import json\n",
    "# from collections import OrderedDict\n",
    "\n",
    "# print(json.dumps(OrderedDict(sorted(sampleJson.items())), indent=4))\n",
    "print(json.dumps(sampleJson, indent=4, sort_keys=True))"
   ]
  },
  {
   "cell_type": "code",
   "execution_count": null,
   "metadata": {},
   "outputs": [],
   "source": []
  },
  {
   "cell_type": "code",
   "execution_count": 60,
   "metadata": {},
   "outputs": [
    {
     "name": "stdout",
     "output_type": "stream",
     "text": [
      "['name1', 'name2']\n"
     ]
    }
   ],
   "source": [
    "Json = [\n",
    "    {\n",
    "        \"id\": 1,\n",
    "        \"name\": \"name1\",\n",
    "        \"color\": [\n",
    "            \"red\", \n",
    "            \"green\"\n",
    "        ]\n",
    "    },\n",
    "    \n",
    "    {\n",
    "        \"id\": 2,\n",
    "        \"name\": \"name2\",\n",
    "        \"color\": [\n",
    "            \"pink\", \n",
    "            \"yellow\"\n",
    "        ]\n",
    "    }\n",
    "]\n",
    "\n",
    "# import json \n",
    "# J1 = json.loads(json.dumps(Json))\n",
    "# print(J1)\n",
    "\n",
    "l = []\n",
    "\n",
    "for i in Json:\n",
    "    l.append(i['name'])\n",
    "    \n",
    "print(l)"
   ]
  },
  {
   "cell_type": "code",
   "execution_count": null,
   "metadata": {},
   "outputs": [],
   "source": []
  },
  {
   "cell_type": "code",
   "execution_count": null,
   "metadata": {},
   "outputs": [],
   "source": []
  },
  {
   "cell_type": "code",
   "execution_count": null,
   "metadata": {},
   "outputs": [],
   "source": []
  },
  {
   "cell_type": "code",
   "execution_count": null,
   "metadata": {},
   "outputs": [],
   "source": []
  },
  {
   "cell_type": "code",
   "execution_count": null,
   "metadata": {},
   "outputs": [],
   "source": []
  },
  {
   "cell_type": "code",
   "execution_count": null,
   "metadata": {},
   "outputs": [],
   "source": []
  },
  {
   "cell_type": "code",
   "execution_count": null,
   "metadata": {},
   "outputs": [],
   "source": []
  },
  {
   "cell_type": "code",
   "execution_count": 19,
   "metadata": {},
   "outputs": [
    {
     "data": {
      "text/html": [
       "<div>\n",
       "<style scoped>\n",
       "    .dataframe tbody tr th:only-of-type {\n",
       "        vertical-align: middle;\n",
       "    }\n",
       "\n",
       "    .dataframe tbody tr th {\n",
       "        vertical-align: top;\n",
       "    }\n",
       "\n",
       "    .dataframe thead th {\n",
       "        text-align: right;\n",
       "    }\n",
       "</style>\n",
       "<table border=\"1\" class=\"dataframe\">\n",
       "  <thead>\n",
       "    <tr style=\"text-align: right;\">\n",
       "      <th></th>\n",
       "      <th>Unnamed: 0</th>\n",
       "      <th>index</th>\n",
       "      <th>ID</th>\n",
       "      <th>Make</th>\n",
       "      <th>Model</th>\n",
       "      <th>Year</th>\n",
       "      <th>MSRP</th>\n",
       "      <th>Invoice</th>\n",
       "      <th>Colors exterior</th>\n",
       "      <th>Colors interior</th>\n",
       "      <th>...</th>\n",
       "      <th>Country of origin</th>\n",
       "      <th>Car classification</th>\n",
       "      <th>Platform code / generation number</th>\n",
       "      <th>Date added</th>\n",
       "      <th>EPA mileage (mpg) City</th>\n",
       "      <th>EPA mileage (mpg) Highway</th>\n",
       "      <th>Range (miles) City</th>\n",
       "      <th>Range (miles) Highway</th>\n",
       "      <th>MSRP Range low</th>\n",
       "      <th>MSRP Range high</th>\n",
       "    </tr>\n",
       "  </thead>\n",
       "  <tbody>\n",
       "    <tr>\n",
       "      <td>0</td>\n",
       "      <td>0</td>\n",
       "      <td>13</td>\n",
       "      <td>213</td>\n",
       "      <td>BMW</td>\n",
       "      <td>3 Series</td>\n",
       "      <td>1990</td>\n",
       "      <td>NaN</td>\n",
       "      <td>NaN</td>\n",
       "      <td>NaN</td>\n",
       "      <td>NaN</td>\n",
       "      <td>...</td>\n",
       "      <td>Germany</td>\n",
       "      <td>Compact car</td>\n",
       "      <td>E30</td>\n",
       "      <td>2020-02-14 00:00:00</td>\n",
       "      <td>16.0</td>\n",
       "      <td>23.0</td>\n",
       "      <td>262.4</td>\n",
       "      <td>377.2</td>\n",
       "      <td>NaN</td>\n",
       "      <td>NaN</td>\n",
       "    </tr>\n",
       "    <tr>\n",
       "      <td>1</td>\n",
       "      <td>1</td>\n",
       "      <td>14</td>\n",
       "      <td>216</td>\n",
       "      <td>BMW</td>\n",
       "      <td>3 Series</td>\n",
       "      <td>1990</td>\n",
       "      <td>NaN</td>\n",
       "      <td>NaN</td>\n",
       "      <td>NaN</td>\n",
       "      <td>NaN</td>\n",
       "      <td>...</td>\n",
       "      <td>Germany</td>\n",
       "      <td>Compact car</td>\n",
       "      <td>E30</td>\n",
       "      <td>2020-02-14 00:00:00</td>\n",
       "      <td>16.0</td>\n",
       "      <td>22.0</td>\n",
       "      <td>262.4</td>\n",
       "      <td>360.8</td>\n",
       "      <td>NaN</td>\n",
       "      <td>NaN</td>\n",
       "    </tr>\n",
       "    <tr>\n",
       "      <td>2</td>\n",
       "      <td>2</td>\n",
       "      <td>15</td>\n",
       "      <td>222</td>\n",
       "      <td>BMW</td>\n",
       "      <td>3 Series</td>\n",
       "      <td>1990</td>\n",
       "      <td>NaN</td>\n",
       "      <td>NaN</td>\n",
       "      <td>NaN</td>\n",
       "      <td>NaN</td>\n",
       "      <td>...</td>\n",
       "      <td>Germany</td>\n",
       "      <td>Compact car</td>\n",
       "      <td>E30</td>\n",
       "      <td>2020-02-14 00:00:00</td>\n",
       "      <td>15.0</td>\n",
       "      <td>22.0</td>\n",
       "      <td>246.0</td>\n",
       "      <td>360.8</td>\n",
       "      <td>NaN</td>\n",
       "      <td>NaN</td>\n",
       "    </tr>\n",
       "    <tr>\n",
       "      <td>3</td>\n",
       "      <td>3</td>\n",
       "      <td>16</td>\n",
       "      <td>218</td>\n",
       "      <td>BMW</td>\n",
       "      <td>3 Series</td>\n",
       "      <td>1990</td>\n",
       "      <td>NaN</td>\n",
       "      <td>NaN</td>\n",
       "      <td>NaN</td>\n",
       "      <td>NaN</td>\n",
       "      <td>...</td>\n",
       "      <td>Germany</td>\n",
       "      <td>Compact car</td>\n",
       "      <td>E30</td>\n",
       "      <td>2020-02-14 00:00:00</td>\n",
       "      <td>16.0</td>\n",
       "      <td>22.0</td>\n",
       "      <td>262.4</td>\n",
       "      <td>360.8</td>\n",
       "      <td>NaN</td>\n",
       "      <td>NaN</td>\n",
       "    </tr>\n",
       "    <tr>\n",
       "      <td>4</td>\n",
       "      <td>4</td>\n",
       "      <td>17</td>\n",
       "      <td>215</td>\n",
       "      <td>BMW</td>\n",
       "      <td>3 Series</td>\n",
       "      <td>1990</td>\n",
       "      <td>NaN</td>\n",
       "      <td>NaN</td>\n",
       "      <td>NaN</td>\n",
       "      <td>NaN</td>\n",
       "      <td>...</td>\n",
       "      <td>Germany</td>\n",
       "      <td>Compact car</td>\n",
       "      <td>E30</td>\n",
       "      <td>2020-02-14 00:00:00</td>\n",
       "      <td>16.0</td>\n",
       "      <td>22.0</td>\n",
       "      <td>262.4</td>\n",
       "      <td>360.8</td>\n",
       "      <td>NaN</td>\n",
       "      <td>NaN</td>\n",
       "    </tr>\n",
       "  </tbody>\n",
       "</table>\n",
       "<p>5 rows × 99 columns</p>\n",
       "</div>"
      ],
      "text/plain": [
       "   Unnamed: 0  index   ID Make     Model  Year  MSRP  Invoice Colors exterior  \\\n",
       "0           0     13  213  BMW  3 Series  1990   NaN      NaN             NaN   \n",
       "1           1     14  216  BMW  3 Series  1990   NaN      NaN             NaN   \n",
       "2           2     15  222  BMW  3 Series  1990   NaN      NaN             NaN   \n",
       "3           3     16  218  BMW  3 Series  1990   NaN      NaN             NaN   \n",
       "4           4     17  215  BMW  3 Series  1990   NaN      NaN             NaN   \n",
       "\n",
       "  Colors interior  ... Country of origin  Car classification  \\\n",
       "0             NaN  ...           Germany         Compact car   \n",
       "1             NaN  ...           Germany         Compact car   \n",
       "2             NaN  ...           Germany         Compact car   \n",
       "3             NaN  ...           Germany         Compact car   \n",
       "4             NaN  ...           Germany         Compact car   \n",
       "\n",
       "   Platform code / generation number           Date added  \\\n",
       "0                                E30  2020-02-14 00:00:00   \n",
       "1                                E30  2020-02-14 00:00:00   \n",
       "2                                E30  2020-02-14 00:00:00   \n",
       "3                                E30  2020-02-14 00:00:00   \n",
       "4                                E30  2020-02-14 00:00:00   \n",
       "\n",
       "   EPA mileage (mpg) City  EPA mileage (mpg) Highway  Range (miles) City  \\\n",
       "0                    16.0                       23.0               262.4   \n",
       "1                    16.0                       22.0               262.4   \n",
       "2                    15.0                       22.0               246.0   \n",
       "3                    16.0                       22.0               262.4   \n",
       "4                    16.0                       22.0               262.4   \n",
       "\n",
       "   Range (miles) Highway  MSRP Range low  MSRP Range high  \n",
       "0                  377.2             NaN              NaN  \n",
       "1                  360.8             NaN              NaN  \n",
       "2                  360.8             NaN              NaN  \n",
       "3                  360.8             NaN              NaN  \n",
       "4                  360.8             NaN              NaN  \n",
       "\n",
       "[5 rows x 99 columns]"
      ]
     },
     "execution_count": 19,
     "metadata": {},
     "output_type": "execute_result"
    }
   ],
   "source": [
    "import pandas as pd\n",
    "df = pd.read_csv('Data.csv')\n",
    "df.head(5)\n",
    "# df.tail(5)"
   ]
  },
  {
   "cell_type": "code",
   "execution_count": null,
   "metadata": {},
   "outputs": [],
   "source": []
  },
  {
   "cell_type": "code",
   "execution_count": null,
   "metadata": {},
   "outputs": [],
   "source": []
  },
  {
   "cell_type": "code",
   "execution_count": 16,
   "metadata": {},
   "outputs": [
    {
     "name": "stdout",
     "output_type": "stream",
     "text": [
      "1200\n"
     ]
    }
   ],
   "source": [
    "max_num = 0\n",
    "summ = 0\n",
    "with open(\"data.txt\", \"r\") as data:\n",
    "    Lines = data.readlines()\n",
    "    for l in Lines:\n",
    "        num = abs(int(l))\n",
    "        if num > max_num:\n",
    "            max_num = num\n",
    "        summ += num\n",
    "\n",
    "print(max_num * summ)\n"
   ]
  },
  {
   "cell_type": "code",
   "execution_count": null,
   "metadata": {},
   "outputs": [],
   "source": []
  }
 ],
 "metadata": {
  "kernelspec": {
   "display_name": "Python 3",
   "language": "python",
   "name": "python3"
  },
  "language_info": {
   "codemirror_mode": {
    "name": "ipython",
    "version": 3
   },
   "file_extension": ".py",
   "mimetype": "text/x-python",
   "name": "python",
   "nbconvert_exporter": "python",
   "pygments_lexer": "ipython3",
   "version": "3.7.4"
  }
 },
 "nbformat": 4,
 "nbformat_minor": 2
}
