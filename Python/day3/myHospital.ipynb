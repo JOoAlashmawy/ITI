{
 "cells": [
  {
   "cell_type": "code",
   "execution_count": 15,
   "metadata": {},
   "outputs": [],
   "source": [
    "class Patient:\n",
    "    nor = 0\n",
    "    urg = 0\n",
    "    sup_urg = 0\n",
    "    sp = [1,2,3,4,5,6,7,8,9,10,11,12,13,14,15,16,17,18,19,20]\n",
    "    sp_dic = dict.fromkeys(sp, [])\n",
    "    def __init__(self, specialization, name, status):\n",
    "        self.specialization = specialization\n",
    "        self.name = name\n",
    "        self.status = status\n",
    "        Patient.sp_dic = self.add_patient(name, status)\n",
    "        \n",
    "    def add_patient(self, name, status, sp_dic=Patient.sp_dic):\n",
    "        if len(sp_dic[self.specialization]) < 10:\n",
    "            \n",
    "            if status ==0 or len(sp_dic[self.specialization]) == 0:\n",
    "                sp_dic[self.specialization].append((name, status))\n",
    "            elif status == 1 :\n",
    "                sp_dic[self.specialization].insert(Patient.urg, (name, status))\n",
    "                Patient.urg +=1\n",
    "            elif status ==2:\n",
    "                sp_dic[self.specialization].insert(Patient.sup_urg, (name, status))\n",
    "                Patient.urg +=1\n",
    "                Patient.sup_urg +=1\n",
    "            else:\n",
    "                print('please enter status from 0 => 2')\n",
    "        else:\n",
    "            print(\"sorry, can't accept more patient for that specilization\")\n",
    "        \n",
    "        return sp_dic"
   ]
  },
  {
   "cell_type": "code",
   "execution_count": 16,
   "metadata": {},
   "outputs": [],
   "source": [
    "joo = Patient(1, 'joo', 1)"
   ]
  },
  {
   "cell_type": "code",
   "execution_count": 12,
   "metadata": {},
   "outputs": [
    {
     "name": "stdout",
     "output_type": "stream",
     "text": [
      "{1: [('joo', 1)], 2: [('joo', 1)], 3: [('joo', 1)], 4: [('joo', 1)], 5: [('joo', 1)], 6: [('joo', 1)], 7: [('joo', 1)], 8: [('joo', 1)], 9: [('joo', 1)], 10: [('joo', 1)], 11: [('joo', 1)], 12: [('joo', 1)], 13: [('joo', 1)], 14: [('joo', 1)], 15: [('joo', 1)], 16: [('joo', 1)], 17: [('joo', 1)], 18: [('joo', 1)], 19: [('joo', 1)], 20: [('joo', 1)]}\n"
     ]
    }
   ],
   "source": [
    "print(Patient.sp_dic)"
   ]
  },
  {
   "cell_type": "code",
   "execution_count": null,
   "metadata": {},
   "outputs": [],
   "source": []
  },
  {
   "cell_type": "code",
   "execution_count": 2,
   "metadata": {},
   "outputs": [],
   "source": [
    "class Patient:\n",
    "    def __init__(self, name, status):\n",
    "        self.name, self.status = name, status\n",
    "\n",
    "    def __str__(self):\n",
    "        status = ['Normal', 'Urgent', 'Super Urgent'][self.status]\n",
    "        return f'Patient: {self.name} is {status}'\n",
    "\n",
    "#     def __repr__(self):\n",
    "#         return F'Patient(name=\"{self.name}\", status={self.status})'\n",
    "\n",
    "#     def __lt__(self, other):    # see: def add_patient_smart\n",
    "#         return self.status > other.status   # given 2 patients: which one comes first? one with bigger status\n"
   ]
  },
  {
   "cell_type": "code",
   "execution_count": 8,
   "metadata": {},
   "outputs": [],
   "source": [
    "joo = Patient('joo',1)"
   ]
  },
  {
   "cell_type": "code",
   "execution_count": 9,
   "metadata": {},
   "outputs": [
    {
     "name": "stdout",
     "output_type": "stream",
     "text": [
      "Patient: joo is Urgent\n"
     ]
    }
   ],
   "source": [
    "print(joo)"
   ]
  },
  {
   "cell_type": "code",
   "execution_count": 7,
   "metadata": {},
   "outputs": [
    {
     "name": "stdout",
     "output_type": "stream",
     "text": [
      "Normal\n"
     ]
    }
   ],
   "source": [
    "status = ['Normal', 'Urgent', 'Super Urgent'][0]\n",
    "print(status)"
   ]
  },
  {
   "cell_type": "code",
   "execution_count": null,
   "metadata": {},
   "outputs": [],
   "source": []
  },
  {
   "cell_type": "code",
   "execution_count": null,
   "metadata": {},
   "outputs": [],
   "source": []
  },
  {
   "cell_type": "code",
   "execution_count": null,
   "metadata": {},
   "outputs": [],
   "source": []
  },
  {
   "cell_type": "code",
   "execution_count": null,
   "metadata": {},
   "outputs": [],
   "source": []
  }
 ],
 "metadata": {
  "kernelspec": {
   "display_name": "Python 3",
   "language": "python",
   "name": "python3"
  },
  "language_info": {
   "codemirror_mode": {
    "name": "ipython",
    "version": 3
   },
   "file_extension": ".py",
   "mimetype": "text/x-python",
   "name": "python",
   "nbconvert_exporter": "python",
   "pygments_lexer": "ipython3",
   "version": "3.7.4"
  }
 },
 "nbformat": 4,
 "nbformat_minor": 2
}
