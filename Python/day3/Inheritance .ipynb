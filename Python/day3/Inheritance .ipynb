{
 "cells": [
  {
   "cell_type": "code",
   "execution_count": 1,
   "metadata": {},
   "outputs": [],
   "source": [
    "#1"
   ]
  },
  {
   "cell_type": "code",
   "execution_count": 7,
   "metadata": {},
   "outputs": [],
   "source": [
    "class Shape:\n",
    "    def __init__(self):\n",
    "        pass\n",
    "\n",
    "class TwoDimensionalShape(Shape):\n",
    "    def __init__(self):\n",
    "        pass\n",
    "\n",
    "        \n",
    "class ThreeDimensionalShape(Shape):\n",
    "    def __init__(self):\n",
    "        pass\n",
    "\n",
    "        \n",
    "class Circle(TwoDimensionalShape):\n",
    "    def __init__(self):\n",
    "        pass\n",
    "\n",
    "        \n",
    "class Square(TwoDimensionalShape):\n",
    "    def __init__(self):\n",
    "        pass\n",
    "\n",
    "        \n",
    "class Triangle(TwoDimensionalShape):\n",
    "    def __init__(self):\n",
    "        pass\n",
    "\n",
    "        \n",
    "class Sphere(ThreeDimensionalShape):\n",
    "    def __init__(self):\n",
    "        pass\n",
    "\n",
    "        \n",
    "class Cube(ThreeDimensionalShape):\n",
    "    def __init__(self):\n",
    "        pass\n",
    "\n",
    "class Tetrahedron(ThreeDimensionalShape):\n",
    "    def __init__(self):\n",
    "        pass\n",
    "        \n"
   ]
  },
  {
   "cell_type": "code",
   "execution_count": null,
   "metadata": {},
   "outputs": [],
   "source": []
  },
  {
   "cell_type": "code",
   "execution_count": 2,
   "metadata": {},
   "outputs": [],
   "source": [
    "#2"
   ]
  },
  {
   "cell_type": "code",
   "execution_count": 8,
   "metadata": {},
   "outputs": [],
   "source": [
    "class ComMember:\n",
    "    def __init__(self):\n",
    "        pass\n",
    "\n",
    "class Employee(ComMember):\n",
    "    def __init__(self):\n",
    "        pass\n",
    "\n",
    "        \n",
    "class Student(ComMember):\n",
    "    def __init__(self):\n",
    "        pass\n",
    "\n",
    "        \n",
    "class Alumnus(ComMember):\n",
    "    def __init__(self):\n",
    "        pass\n",
    "\n",
    "        \n",
    "class Faculty(Employee):\n",
    "    def __init__(self):\n",
    "        pass\n",
    "\n",
    "        \n",
    "class staff(Employee):\n",
    "    def __init__(self):\n",
    "        pass\n",
    "\n",
    "        \n",
    "class Administrator(Faculty):\n",
    "    def __init__(self):\n",
    "        pass\n",
    "\n",
    "        \n",
    "class Teacher(Faculty):\n",
    "    def __init__(self):\n",
    "        pass\n",
    "\n",
    "class AdministratorTeacher(Administrator, Teacher):\n",
    "    def __init__(self):\n",
    "        pass\n",
    "        "
   ]
  },
  {
   "cell_type": "code",
   "execution_count": null,
   "metadata": {},
   "outputs": [],
   "source": [
    "#3"
   ]
  },
  {
   "cell_type": "code",
   "execution_count": 9,
   "metadata": {},
   "outputs": [],
   "source": [
    "class payment:\n",
    "    def __init__(self):\n",
    "        pass\n",
    "\n",
    "class Cash(payment):\n",
    "    def __init__(self):\n",
    "        pass\n",
    "\n",
    "        \n",
    "class cheque(payment):\n",
    "    def __init__(self):\n",
    "        pass\n",
    "\n",
    "        \n",
    "class card(payment):\n",
    "    def __init__(self):\n",
    "        pass\n",
    "\n",
    "        \n",
    "class credit(card):\n",
    "    def __init__(self):\n",
    "        pass\n",
    "\n",
    "        \n",
    "class debit(card):\n",
    "    def __init__(self):\n",
    "        pass\n",
    "       "
   ]
  },
  {
   "cell_type": "code",
   "execution_count": 14,
   "metadata": {},
   "outputs": [
    {
     "name": "stdout",
     "output_type": "stream",
     "text": [
      "False\n"
     ]
    }
   ],
   "source": [
    "print(issubclass(type(True), float))"
   ]
  },
  {
   "cell_type": "code",
   "execution_count": null,
   "metadata": {},
   "outputs": [],
   "source": []
  },
  {
   "cell_type": "code",
   "execution_count": null,
   "metadata": {},
   "outputs": [],
   "source": []
  }
 ],
 "metadata": {
  "kernelspec": {
   "display_name": "Python 3",
   "language": "python",
   "name": "python3"
  },
  "language_info": {
   "codemirror_mode": {
    "name": "ipython",
    "version": 3
   },
   "file_extension": ".py",
   "mimetype": "text/x-python",
   "name": "python",
   "nbconvert_exporter": "python",
   "pygments_lexer": "ipython3",
   "version": "3.7.4"
  }
 },
 "nbformat": 4,
 "nbformat_minor": 2
}
