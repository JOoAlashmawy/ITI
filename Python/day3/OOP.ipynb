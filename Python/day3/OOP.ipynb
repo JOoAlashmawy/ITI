{
 "cells": [
  {
   "cell_type": "code",
   "execution_count": 70,
   "metadata": {},
   "outputs": [
    {
     "ename": "SyntaxError",
     "evalue": "invalid syntax (<ipython-input-70-426659c2eea9>, line 8)",
     "output_type": "error",
     "traceback": [
      "\u001b[1;36m  File \u001b[1;32m\"<ipython-input-70-426659c2eea9>\"\u001b[1;36m, line \u001b[1;32m8\u001b[0m\n\u001b[1;33m    Book books.append(name)\u001b[0m\n\u001b[1;37m             ^\u001b[0m\n\u001b[1;31mSyntaxError\u001b[0m\u001b[1;31m:\u001b[0m invalid syntax\n"
     ]
    }
   ],
   "source": [
    "class Book:\n",
    "    books=[]\n",
    "    def __init__(self, id, name , q):\n",
    "        self.id = id\n",
    "        self.name = name\n",
    "        self.q = q\n",
    "        self.users = []\n",
    "        Book books.append(name)\n",
    "    \n",
    "    def add_user(self, user):\n",
    "        self.users.append(user)\n",
    "    "
   ]
  },
  {
   "cell_type": "code",
   "execution_count": 36,
   "metadata": {},
   "outputs": [],
   "source": [
    "class user:\n",
    "    \n",
    "    def __init__(self,id , name):\n",
    "        self.name = name\n",
    "        self.id = id\n",
    "   \n",
    "            "
   ]
  },
  {
   "cell_type": "code",
   "execution_count": 66,
   "metadata": {},
   "outputs": [],
   "source": [
    "class admin:\n",
    "    def __init__(self,id , name):\n",
    "        self.name = name\n",
    "        self.id = id\n",
    "        self.books = []\n",
    "    def show_book_users(self, book):\n",
    "        print(book.users)\n",
    "   "
   ]
  },
  {
   "cell_type": "code",
   "execution_count": 48,
   "metadata": {},
   "outputs": [],
   "source": [
    "# book_list = [Book(101, 'Cpp How To Program', 7), Book(102, 'CppForDummies', 7), Book(103, 'CppForAdvancedLevels', 7), Book(104, 'CoreJava', 7)]\n",
    "book1 = Book(101, 'Cpp How To Program', 7)\n",
    "book2 = Book(102, 'CppForDummies', 7)\n",
    "book3 = Book(103, 'CppForAdvancedLevels', 7)\n",
    "book4 = Book(104, 'CoreJava', 7)\n",
    "\n",
    "# print(f'{book1.id} {book1.name} {book1.q}')"
   ]
  },
  {
   "cell_type": "code",
   "execution_count": 15,
   "metadata": {},
   "outputs": [
    {
     "name": "stdout",
     "output_type": "stream",
     "text": [
      "C\n",
      "['Cpp How To Program', 'CppForDummies', 'CppForAdvancedLevels', 'CoreJava']\n"
     ]
    }
   ],
   "source": [
    "search = input()\n",
    "search_name = [b.name for b in book_list if search in b.name ]\n",
    "if not search_name:\n",
    "    print('sorry that not in our books')\n",
    "else:\n",
    "    print(search_name)"
   ]
  },
  {
   "cell_type": "code",
   "execution_count": 43,
   "metadata": {},
   "outputs": [
    {
     "name": "stdout",
     "output_type": "stream",
     "text": [
      "ahmed\n"
     ]
    }
   ],
   "source": [
    "ahmed = user(1,'ahmed')\n",
    "print(ahmed.name)"
   ]
  },
  {
   "cell_type": "code",
   "execution_count": 50,
   "metadata": {},
   "outputs": [],
   "source": [
    "book1.add_user('aly')"
   ]
  },
  {
   "cell_type": "code",
   "execution_count": 51,
   "metadata": {},
   "outputs": [
    {
     "name": "stdout",
     "output_type": "stream",
     "text": [
      "['ahmed', 'aly']\n"
     ]
    }
   ],
   "source": [
    "print(book1.users)"
   ]
  },
  {
   "cell_type": "code",
   "execution_count": 67,
   "metadata": {},
   "outputs": [],
   "source": [
    "joo = admin(1, 'joo')"
   ]
  },
  {
   "cell_type": "code",
   "execution_count": 55,
   "metadata": {},
   "outputs": [
    {
     "name": "stdout",
     "output_type": "stream",
     "text": [
      "['ahmed', 'aly']\n"
     ]
    }
   ],
   "source": [
    "joo.show_book_users(book1)"
   ]
  },
  {
   "cell_type": "code",
   "execution_count": null,
   "metadata": {},
   "outputs": [],
   "source": []
  },
  {
   "cell_type": "code",
   "execution_count": null,
   "metadata": {},
   "outputs": [],
   "source": []
  }
 ],
 "metadata": {
  "kernelspec": {
   "display_name": "Python 3",
   "language": "python",
   "name": "python3"
  },
  "language_info": {
   "codemirror_mode": {
    "name": "ipython",
    "version": 3
   },
   "file_extension": ".py",
   "mimetype": "text/x-python",
   "name": "python",
   "nbconvert_exporter": "python",
   "pygments_lexer": "ipython3",
   "version": "3.7.4"
  }
 },
 "nbformat": 4,
 "nbformat_minor": 2
}
