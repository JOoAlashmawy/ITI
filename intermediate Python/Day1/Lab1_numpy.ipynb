{
 "cells": [
  {
   "cell_type": "code",
   "execution_count": null,
   "metadata": {},
   "outputs": [],
   "source": [
    "import numpy as np\n",
    "import cv2\n"
   ]
  },
  {
   "cell_type": "markdown",
   "metadata": {},
   "source": [
    "# Q1: implement a linear regression model\n",
    "data row1 > header \n",
    " ### 1: data preprocessing \n",
    "       #i. apply to_add array to data where element 1 added to row 1 , element 2 added to row 2 and so on \n",
    "       #ii.apply to_Mult array to the data row by to \n",
    " ### 2: get the prediction values using the hyposis function weight array (regression_model)"
   ]
  },
  {
   "cell_type": "code",
   "execution_count": null,
   "metadata": {},
   "outputs": [],
   "source": [
    "Data= np.array([[1000,1001,1002,1003],\n",
    "                [8,18,28,38],\n",
    "               [16,26,36,46],\n",
    "               [4,14,24,44]],dtype=\"int64\")\n",
    "\n",
    "to_add=np.array([2,4,6])\n",
    "to_mult=np.array([10,100,1000,1000])\n",
    "regression_model=np.array([2,4,6,8])"
   ]
  },
  {
   "cell_type": "code",
   "execution_count": null,
   "metadata": {
    "scrolled": true
   },
   "outputs": [],
   "source": [
    "##step1 print dataset without header row\n"
   ]
  },
  {
   "cell_type": "code",
   "execution_count": null,
   "metadata": {
    "scrolled": true
   },
   "outputs": [],
   "source": [
    "###step2 i. to_Add\n"
   ]
  },
  {
   "cell_type": "code",
   "execution_count": null,
   "metadata": {},
   "outputs": [],
   "source": [
    "##step3 ii. to_MUlt\n"
   ]
  },
  {
   "cell_type": "code",
   "execution_count": null,
   "metadata": {},
   "outputs": [],
   "source": [
    "###step4 prediction results\n"
   ]
  },
  {
   "cell_type": "markdown",
   "metadata": {},
   "source": [
    "# Q2. Transformation\n",
    "\n",
    "### apply crop , rotation  to the image \n",
    "\n",
    "#1: convert image from  BGR scale to Gray , Red ,Green & Blue scale\n",
    "#2: crop the right  half\n",
    "#3: crop the right bottom quarter\n",
    "#4: zoom in by remove the quarter border from all sides \n",
    "#5: flip on x-axis \n",
    "#6: flip on y-axis "
   ]
  },
  {
   "cell_type": "code",
   "execution_count": null,
   "metadata": {},
   "outputs": [],
   "source": [
    "image=cv2.imread(\"image.jpg\") ### in_BGR\n",
    "cv2.imshow(\"original_image\",image)\n",
    "cv2.waitKey(0)\n",
    "cv2.destroyAllWindows()"
   ]
  },
  {
   "cell_type": "code",
   "execution_count": null,
   "metadata": {},
   "outputs": [],
   "source": [
    "## step1 print image data \n",
    "\n"
   ]
  },
  {
   "cell_type": "code",
   "execution_count": null,
   "metadata": {},
   "outputs": [],
   "source": [
    "## step2 print image shape"
   ]
  },
  {
   "cell_type": "code",
   "execution_count": null,
   "metadata": {},
   "outputs": [],
   "source": [
    "## step3  get the value of lx ,ly \n",
    "\n",
    "lx=\n",
    "ly=\n"
   ]
  },
  {
   "cell_type": "code",
   "execution_count": null,
   "metadata": {},
   "outputs": [],
   "source": [
    "### step4 image in gray scale \n",
    "cv2.imshow(\"Gray scale\",\"write you code here\")\n",
    "cv2.waitKey(0)\n",
    "cv2.destroyAllWindows()"
   ]
  },
  {
   "cell_type": "code",
   "execution_count": null,
   "metadata": {},
   "outputs": [],
   "source": [
    "### step 5 image in Blue scale \n",
    "\n",
    "cv2.imshow(\"Blue Scale\",\"write you code here\")\n",
    "cv2.waitKey(0)\n",
    "cv2.destroyAllWindows()"
   ]
  },
  {
   "cell_type": "code",
   "execution_count": null,
   "metadata": {},
   "outputs": [],
   "source": [
    "### step 6 image in red scale \n",
    "\n",
    "cv2.imshow(\"Red Scale\",\"write you code here\")\n",
    "cv2.waitKey(0)\n",
    "cv2.destroyAllWindows()"
   ]
  },
  {
   "cell_type": "code",
   "execution_count": null,
   "metadata": {},
   "outputs": [],
   "source": [
    "### step 7 image in Green scale \n",
    "\n",
    "cv2.imshow(\"Green scale\",\"write you code here\")\n",
    "cv2.waitKey(0)\n",
    "cv2.destroyAllWindows()"
   ]
  },
  {
   "cell_type": "code",
   "execution_count": null,
   "metadata": {},
   "outputs": [],
   "source": [
    "# step 8 crop the right half\n",
    "cv2.imshow(\"original_image\",\"write you code here\")\n",
    "cv2.imshow(\" right half\",\"write you code here\")\n",
    "cv2.waitKey(0)\n",
    "cv2.destroyAllWindows()"
   ]
  },
  {
   "cell_type": "code",
   "execution_count": null,
   "metadata": {},
   "outputs": [],
   "source": [
    "## step 9 crop the right bottom quarter\n",
    "cv2.imshow(\"gray\",image[:,:,1])\n",
    "cv2.imshow(\" right bottom quarter\",\"write you code here\")\n",
    "cv2.waitKey(0)\n",
    "cv2.destroyAllWindows()"
   ]
  },
  {
   "cell_type": "code",
   "execution_count": null,
   "metadata": {},
   "outputs": [],
   "source": [
    "## step 10 remove the quarter border from all sides \n",
    "cv2.imshow(\"original_image\",\"write you code here\")\n",
    "cv2.imshow(\" zoom in \",\"write you code here\")\n",
    "cv2.waitKey(0)\n",
    "cv2.destroyAllWindows()"
   ]
  },
  {
   "cell_type": "code",
   "execution_count": null,
   "metadata": {},
   "outputs": [],
   "source": [
    "## step 11 flip on x-axis \n",
    "cv2.imshow(\"original_image\",\"write you code here\")\n",
    "cv2.imshow(\" flip the image in x axis \",\"write you code here\")\n",
    "cv2.waitKey(0)\n",
    "cv2.destroyAllWindows()"
   ]
  },
  {
   "cell_type": "code",
   "execution_count": null,
   "metadata": {},
   "outputs": [],
   "source": [
    "## step 12 flip on y-axis\n",
    "cv2.imshow(\"original_image\",\"write you code here\")\n",
    "cv2.imshow(\" flip the image in y axis \",\"write you code here\")\n",
    "cv2.waitKey(0)\n",
    "cv2.destroyAllWindows()"
   ]
  },
  {
   "cell_type": "markdown",
   "metadata": {},
   "source": [
    "## Q3  Write a program to broadcast on different shapes of arrays where p(3,3) + q(3)\n",
    "\n",
    "- p >> [[0, 0, 0],[1, 2, 3],[4, 5, 6]]\n",
    "- q >> [10, 11, 12]"
   ]
  },
  {
   "cell_type": "code",
   "execution_count": null,
   "metadata": {},
   "outputs": [],
   "source": []
  },
  {
   "cell_type": "markdown",
   "metadata": {},
   "source": [
    "## Q4 Write a NumPy program to make an array immutable "
   ]
  },
  {
   "cell_type": "code",
   "execution_count": null,
   "metadata": {},
   "outputs": [],
   "source": []
  },
  {
   "cell_type": "markdown",
   "metadata": {},
   "source": [
    "## Q5 Write a NumPy program to create a new array of 3*5, filled with 2"
   ]
  },
  {
   "cell_type": "code",
   "execution_count": null,
   "metadata": {},
   "outputs": [],
   "source": []
  },
  {
   "cell_type": "markdown",
   "metadata": {},
   "source": [
    "## Q6 Write a NumPy program to get the number of nonzero elements in an array\n",
    "\n",
    "- array = [[0, 10, 20], [20, 0, 40]]"
   ]
  },
  {
   "cell_type": "code",
   "execution_count": null,
   "metadata": {},
   "outputs": [],
   "source": []
  },
  {
   "cell_type": "markdown",
   "metadata": {},
   "source": [
    "## Q7 Write a NumPy program to get the minimum and maximum value of an array along the second axis\n",
    "\n",
    "- create array 2x2 contains data from 0 to 3 "
   ]
  },
  {
   "cell_type": "code",
   "execution_count": null,
   "metadata": {},
   "outputs": [],
   "source": [
    "\n"
   ]
  },
  {
   "cell_type": "markdown",
   "metadata": {},
   "source": [
    "## Q8  Write a NumPy program to compute the mean, median,standard deviation, and variance of a given array \n",
    "\n",
    "- array = [0 4 2 1 3 5]"
   ]
  },
  {
   "cell_type": "code",
   "execution_count": null,
   "metadata": {},
   "outputs": [],
   "source": []
  },
  {
   "cell_type": "code",
   "execution_count": null,
   "metadata": {},
   "outputs": [],
   "source": []
  }
 ],
 "metadata": {
  "kernelspec": {
   "display_name": "Python 3",
   "language": "python",
   "name": "python3"
  },
  "language_info": {
   "codemirror_mode": {
    "name": "ipython",
    "version": 3
   },
   "file_extension": ".py",
   "mimetype": "text/x-python",
   "name": "python",
   "nbconvert_exporter": "python",
   "pygments_lexer": "ipython3",
   "version": "3.7.6"
  }
 },
 "nbformat": 4,
 "nbformat_minor": 4
}
