{
 "cells": [
  {
   "cell_type": "code",
   "execution_count": 1,
   "id": "73f17a25",
   "metadata": {
    "_cell_guid": "b1076dfc-b9ad-4769-8c92-a6c4dae69d19",
    "_uuid": "8f2839f25d086af736a60e9eeb907d3b93b6e0e5",
    "execution": {
     "iopub.execute_input": "2021-07-27T16:03:21.964090Z",
     "iopub.status.busy": "2021-07-27T16:03:21.962281Z",
     "iopub.status.idle": "2021-07-27T16:03:23.103327Z",
     "shell.execute_reply": "2021-07-27T16:03:23.103833Z",
     "shell.execute_reply.started": "2021-07-27T15:58:48.675407Z"
    },
    "papermill": {
     "duration": 1.186815,
     "end_time": "2021-07-27T16:03:23.104296",
     "exception": false,
     "start_time": "2021-07-27T16:03:21.917481",
     "status": "completed"
    },
    "tags": []
   },
   "outputs": [],
   "source": [
    "import os\n",
    "from xml.etree import ElementTree\n",
    "\n",
    "import pandas as pd\n",
    "import matplotlib.pyplot as plt\n",
    "import seaborn as sns\n",
    "from sklearn.preprocessing import LabelEncoder, OneHotEncoder"
   ]
  },
  {
   "cell_type": "code",
   "execution_count": 2,
   "id": "11b12365",
   "metadata": {
    "execution": {
     "iopub.execute_input": "2021-07-27T16:03:23.178785Z",
     "iopub.status.busy": "2021-07-27T16:03:23.178079Z",
     "iopub.status.idle": "2021-07-27T16:03:23.270352Z",
     "shell.execute_reply": "2021-07-27T16:03:23.270866Z",
     "shell.execute_reply.started": "2021-07-27T15:58:48.697382Z"
    },
    "papermill": {
     "duration": 0.132529,
     "end_time": "2021-07-27T16:03:23.271053",
     "exception": false,
     "start_time": "2021-07-27T16:03:23.138524",
     "status": "completed"
    },
    "tags": []
   },
   "outputs": [
    {
     "name": "stdout",
     "output_type": "stream",
     "text": [
      "The shape of the dataset is (6407, 16).\n",
      "\n",
      "\n"
     ]
    },
    {
     "data": {
      "text/html": [
       "<div>\n",
       "<style scoped>\n",
       "    .dataframe tbody tr th:only-of-type {\n",
       "        vertical-align: middle;\n",
       "    }\n",
       "\n",
       "    .dataframe tbody tr th {\n",
       "        vertical-align: top;\n",
       "    }\n",
       "\n",
       "    .dataframe thead th {\n",
       "        text-align: right;\n",
       "    }\n",
       "</style>\n",
       "<table border=\"1\" class=\"dataframe\">\n",
       "  <thead>\n",
       "    <tr style=\"text-align: right;\">\n",
       "      <th></th>\n",
       "      <th>ID</th>\n",
       "      <th>Lat</th>\n",
       "      <th>Lng</th>\n",
       "      <th>Bump</th>\n",
       "      <th>Distance(mi)</th>\n",
       "      <th>Crossing</th>\n",
       "      <th>Give_Way</th>\n",
       "      <th>Junction</th>\n",
       "      <th>No_Exit</th>\n",
       "      <th>Railway</th>\n",
       "      <th>Roundabout</th>\n",
       "      <th>Stop</th>\n",
       "      <th>Amenity</th>\n",
       "      <th>Side</th>\n",
       "      <th>Severity</th>\n",
       "      <th>timestamp</th>\n",
       "    </tr>\n",
       "  </thead>\n",
       "  <tbody>\n",
       "    <tr>\n",
       "      <th>0</th>\n",
       "      <td>0</td>\n",
       "      <td>37.762150</td>\n",
       "      <td>-122.405660</td>\n",
       "      <td>False</td>\n",
       "      <td>0.044</td>\n",
       "      <td>False</td>\n",
       "      <td>False</td>\n",
       "      <td>False</td>\n",
       "      <td>False</td>\n",
       "      <td>False</td>\n",
       "      <td>False</td>\n",
       "      <td>False</td>\n",
       "      <td>True</td>\n",
       "      <td>R</td>\n",
       "      <td>2</td>\n",
       "      <td>2016-03-25 15:13:02</td>\n",
       "    </tr>\n",
       "    <tr>\n",
       "      <th>1</th>\n",
       "      <td>1</td>\n",
       "      <td>37.719157</td>\n",
       "      <td>-122.448254</td>\n",
       "      <td>False</td>\n",
       "      <td>0.000</td>\n",
       "      <td>False</td>\n",
       "      <td>False</td>\n",
       "      <td>False</td>\n",
       "      <td>False</td>\n",
       "      <td>False</td>\n",
       "      <td>False</td>\n",
       "      <td>False</td>\n",
       "      <td>False</td>\n",
       "      <td>R</td>\n",
       "      <td>2</td>\n",
       "      <td>2020-05-05 19:23:00</td>\n",
       "    </tr>\n",
       "    <tr>\n",
       "      <th>2</th>\n",
       "      <td>2</td>\n",
       "      <td>37.808498</td>\n",
       "      <td>-122.366852</td>\n",
       "      <td>False</td>\n",
       "      <td>0.000</td>\n",
       "      <td>False</td>\n",
       "      <td>False</td>\n",
       "      <td>False</td>\n",
       "      <td>False</td>\n",
       "      <td>False</td>\n",
       "      <td>False</td>\n",
       "      <td>True</td>\n",
       "      <td>False</td>\n",
       "      <td>R</td>\n",
       "      <td>3</td>\n",
       "      <td>2016-09-16 19:57:16</td>\n",
       "    </tr>\n",
       "    <tr>\n",
       "      <th>3</th>\n",
       "      <td>3</td>\n",
       "      <td>37.785930</td>\n",
       "      <td>-122.391080</td>\n",
       "      <td>False</td>\n",
       "      <td>0.009</td>\n",
       "      <td>False</td>\n",
       "      <td>False</td>\n",
       "      <td>True</td>\n",
       "      <td>False</td>\n",
       "      <td>False</td>\n",
       "      <td>False</td>\n",
       "      <td>False</td>\n",
       "      <td>False</td>\n",
       "      <td>R</td>\n",
       "      <td>1</td>\n",
       "      <td>2020-03-29 19:48:43</td>\n",
       "    </tr>\n",
       "    <tr>\n",
       "      <th>4</th>\n",
       "      <td>4</td>\n",
       "      <td>37.719141</td>\n",
       "      <td>-122.448457</td>\n",
       "      <td>False</td>\n",
       "      <td>0.000</td>\n",
       "      <td>False</td>\n",
       "      <td>False</td>\n",
       "      <td>False</td>\n",
       "      <td>False</td>\n",
       "      <td>False</td>\n",
       "      <td>False</td>\n",
       "      <td>False</td>\n",
       "      <td>False</td>\n",
       "      <td>R</td>\n",
       "      <td>2</td>\n",
       "      <td>2019-10-09 08:47:00</td>\n",
       "    </tr>\n",
       "  </tbody>\n",
       "</table>\n",
       "</div>"
      ],
      "text/plain": [
       "   ID        Lat         Lng   Bump  Distance(mi)  Crossing  Give_Way  \\\n",
       "0   0  37.762150 -122.405660  False         0.044     False     False   \n",
       "1   1  37.719157 -122.448254  False         0.000     False     False   \n",
       "2   2  37.808498 -122.366852  False         0.000     False     False   \n",
       "3   3  37.785930 -122.391080  False         0.009     False     False   \n",
       "4   4  37.719141 -122.448457  False         0.000     False     False   \n",
       "\n",
       "   Junction  No_Exit  Railway  Roundabout   Stop  Amenity Side  Severity  \\\n",
       "0     False    False    False       False  False     True    R         2   \n",
       "1     False    False    False       False  False    False    R         2   \n",
       "2     False    False    False       False   True    False    R         3   \n",
       "3      True    False    False       False  False    False    R         1   \n",
       "4     False    False    False       False  False    False    R         2   \n",
       "\n",
       "             timestamp  \n",
       "0  2016-03-25 15:13:02  \n",
       "1  2020-05-05 19:23:00  \n",
       "2  2016-09-16 19:57:16  \n",
       "3  2020-03-29 19:48:43  \n",
       "4  2019-10-09 08:47:00  "
      ]
     },
     "execution_count": 2,
     "metadata": {},
     "output_type": "execute_result"
    }
   ],
   "source": [
    "dataset_path = '/kaggle/input/car-crashes-severity-prediction/'\n",
    "\n",
    "df = pd.read_csv(os.path.join(dataset_path, 'train.csv'))\n",
    "\n",
    "print(\"The shape of the dataset is {}.\\n\\n\".format(df.shape))\n",
    "\n",
    "df.head()"
   ]
  },
  {
   "cell_type": "code",
   "execution_count": 3,
   "id": "93202a44",
   "metadata": {
    "execution": {
     "iopub.execute_input": "2021-07-27T16:03:23.344936Z",
     "iopub.status.busy": "2021-07-27T16:03:23.344185Z",
     "iopub.status.idle": "2021-07-27T16:03:23.384518Z",
     "shell.execute_reply": "2021-07-27T16:03:23.383852Z",
     "shell.execute_reply.started": "2021-07-27T15:58:48.743206Z"
    },
    "papermill": {
     "duration": 0.079212,
     "end_time": "2021-07-27T16:03:23.384670",
     "exception": false,
     "start_time": "2021-07-27T16:03:23.305458",
     "status": "completed"
    },
    "tags": []
   },
   "outputs": [
    {
     "name": "stdout",
     "output_type": "stream",
     "text": [
      "The shape of the dataset is (6901, 12).\n",
      "\n",
      "\n"
     ]
    },
    {
     "data": {
      "text/html": [
       "<div>\n",
       "<style scoped>\n",
       "    .dataframe tbody tr th:only-of-type {\n",
       "        vertical-align: middle;\n",
       "    }\n",
       "\n",
       "    .dataframe tbody tr th {\n",
       "        vertical-align: top;\n",
       "    }\n",
       "\n",
       "    .dataframe thead th {\n",
       "        text-align: right;\n",
       "    }\n",
       "</style>\n",
       "<table border=\"1\" class=\"dataframe\">\n",
       "  <thead>\n",
       "    <tr style=\"text-align: right;\">\n",
       "      <th></th>\n",
       "      <th>Year</th>\n",
       "      <th>Day</th>\n",
       "      <th>Month</th>\n",
       "      <th>Hour</th>\n",
       "      <th>Weather_Condition</th>\n",
       "      <th>Wind_Chill(F)</th>\n",
       "      <th>Precipitation(in)</th>\n",
       "      <th>Temperature(F)</th>\n",
       "      <th>Humidity(%)</th>\n",
       "      <th>Wind_Speed(mph)</th>\n",
       "      <th>Visibility(mi)</th>\n",
       "      <th>Selected</th>\n",
       "    </tr>\n",
       "  </thead>\n",
       "  <tbody>\n",
       "    <tr>\n",
       "      <th>0</th>\n",
       "      <td>2020</td>\n",
       "      <td>27</td>\n",
       "      <td>7</td>\n",
       "      <td>18</td>\n",
       "      <td>Fair</td>\n",
       "      <td>64.0</td>\n",
       "      <td>0.0</td>\n",
       "      <td>64.0</td>\n",
       "      <td>70.0</td>\n",
       "      <td>20.0</td>\n",
       "      <td>10.0</td>\n",
       "      <td>No</td>\n",
       "    </tr>\n",
       "    <tr>\n",
       "      <th>1</th>\n",
       "      <td>2017</td>\n",
       "      <td>30</td>\n",
       "      <td>9</td>\n",
       "      <td>17</td>\n",
       "      <td>Partly Cloudy</td>\n",
       "      <td>NaN</td>\n",
       "      <td>NaN</td>\n",
       "      <td>71.1</td>\n",
       "      <td>57.0</td>\n",
       "      <td>9.2</td>\n",
       "      <td>10.0</td>\n",
       "      <td>No</td>\n",
       "    </tr>\n",
       "    <tr>\n",
       "      <th>2</th>\n",
       "      <td>2017</td>\n",
       "      <td>27</td>\n",
       "      <td>6</td>\n",
       "      <td>5</td>\n",
       "      <td>Overcast</td>\n",
       "      <td>NaN</td>\n",
       "      <td>NaN</td>\n",
       "      <td>57.9</td>\n",
       "      <td>87.0</td>\n",
       "      <td>15.0</td>\n",
       "      <td>9.0</td>\n",
       "      <td>No</td>\n",
       "    </tr>\n",
       "    <tr>\n",
       "      <th>3</th>\n",
       "      <td>2016</td>\n",
       "      <td>7</td>\n",
       "      <td>9</td>\n",
       "      <td>9</td>\n",
       "      <td>Clear</td>\n",
       "      <td>NaN</td>\n",
       "      <td>NaN</td>\n",
       "      <td>66.9</td>\n",
       "      <td>73.0</td>\n",
       "      <td>4.6</td>\n",
       "      <td>10.0</td>\n",
       "      <td>No</td>\n",
       "    </tr>\n",
       "    <tr>\n",
       "      <th>4</th>\n",
       "      <td>2019</td>\n",
       "      <td>19</td>\n",
       "      <td>10</td>\n",
       "      <td>2</td>\n",
       "      <td>Fair</td>\n",
       "      <td>52.0</td>\n",
       "      <td>0.0</td>\n",
       "      <td>52.0</td>\n",
       "      <td>89.0</td>\n",
       "      <td>0.0</td>\n",
       "      <td>9.0</td>\n",
       "      <td>No</td>\n",
       "    </tr>\n",
       "  </tbody>\n",
       "</table>\n",
       "</div>"
      ],
      "text/plain": [
       "   Year  Day  Month  Hour Weather_Condition  Wind_Chill(F)  Precipitation(in)  \\\n",
       "0  2020   27      7    18              Fair           64.0                0.0   \n",
       "1  2017   30      9    17     Partly Cloudy            NaN                NaN   \n",
       "2  2017   27      6     5          Overcast            NaN                NaN   \n",
       "3  2016    7      9     9             Clear            NaN                NaN   \n",
       "4  2019   19     10     2              Fair           52.0                0.0   \n",
       "\n",
       "   Temperature(F)  Humidity(%)  Wind_Speed(mph)  Visibility(mi) Selected  \n",
       "0            64.0         70.0             20.0            10.0       No  \n",
       "1            71.1         57.0              9.2            10.0       No  \n",
       "2            57.9         87.0             15.0             9.0       No  \n",
       "3            66.9         73.0              4.6            10.0       No  \n",
       "4            52.0         89.0              0.0             9.0       No  "
      ]
     },
     "execution_count": 3,
     "metadata": {},
     "output_type": "execute_result"
    }
   ],
   "source": [
    "weather_df = pd.read_csv(os.path.join(dataset_path, 'weather-sfcsv.csv'))\n",
    "print(\"The shape of the dataset is {}.\\n\\n\".format(weather_df.shape))\n",
    "\n",
    "weather_df.head()"
   ]
  },
  {
   "cell_type": "code",
   "execution_count": 4,
   "id": "fb507949",
   "metadata": {
    "execution": {
     "iopub.execute_input": "2021-07-27T16:03:23.460956Z",
     "iopub.status.busy": "2021-07-27T16:03:23.460284Z",
     "iopub.status.idle": "2021-07-27T16:03:23.471445Z",
     "shell.execute_reply": "2021-07-27T16:03:23.471961Z",
     "shell.execute_reply.started": "2021-07-27T15:58:48.782695Z"
    },
    "papermill": {
     "duration": 0.052257,
     "end_time": "2021-07-27T16:03:23.472175",
     "exception": false,
     "start_time": "2021-07-27T16:03:23.419918",
     "status": "completed"
    },
    "tags": []
   },
   "outputs": [
    {
     "data": {
      "text/plain": [
       "90"
      ]
     },
     "execution_count": 4,
     "metadata": {},
     "output_type": "execute_result"
    }
   ],
   "source": [
    "tree = ElementTree.parse(os.path.join(dataset_path, 'holidays.xml'))\n",
    "root = tree.getroot()\n",
    "\n",
    "holidays = []\n",
    "for row in root:\n",
    "    try:\n",
    "        holidays.append(row[0].text)\n",
    "    except Exception as ex:\n",
    "        pass\n",
    "len(holidays)"
   ]
  },
  {
   "cell_type": "markdown",
   "id": "148ddad7",
   "metadata": {
    "papermill": {
     "duration": 0.035799,
     "end_time": "2021-07-27T16:03:23.543216",
     "exception": false,
     "start_time": "2021-07-27T16:03:23.507417",
     "status": "completed"
    },
    "tags": []
   },
   "source": [
    "# Exploratory Data Analysis"
   ]
  },
  {
   "cell_type": "code",
   "execution_count": 5,
   "id": "9f8d27ac",
   "metadata": {
    "execution": {
     "iopub.execute_input": "2021-07-27T16:03:23.617236Z",
     "iopub.status.busy": "2021-07-27T16:03:23.616206Z",
     "iopub.status.idle": "2021-07-27T16:03:23.640132Z",
     "shell.execute_reply": "2021-07-27T16:03:23.640828Z",
     "shell.execute_reply.started": "2021-07-27T15:58:48.794526Z"
    },
    "papermill": {
     "duration": 0.062792,
     "end_time": "2021-07-27T16:03:23.641087",
     "exception": false,
     "start_time": "2021-07-27T16:03:23.578295",
     "status": "completed"
    },
    "tags": []
   },
   "outputs": [
    {
     "name": "stdout",
     "output_type": "stream",
     "text": [
      "<class 'pandas.core.frame.DataFrame'>\n",
      "RangeIndex: 6407 entries, 0 to 6406\n",
      "Data columns (total 16 columns):\n",
      " #   Column        Non-Null Count  Dtype  \n",
      "---  ------        --------------  -----  \n",
      " 0   ID            6407 non-null   int64  \n",
      " 1   Lat           6407 non-null   float64\n",
      " 2   Lng           6407 non-null   float64\n",
      " 3   Bump          6407 non-null   bool   \n",
      " 4   Distance(mi)  6407 non-null   float64\n",
      " 5   Crossing      6407 non-null   bool   \n",
      " 6   Give_Way      6407 non-null   bool   \n",
      " 7   Junction      6407 non-null   bool   \n",
      " 8   No_Exit       6407 non-null   bool   \n",
      " 9   Railway       6407 non-null   bool   \n",
      " 10  Roundabout    6407 non-null   bool   \n",
      " 11  Stop          6407 non-null   bool   \n",
      " 12  Amenity       6407 non-null   bool   \n",
      " 13  Side          6407 non-null   object \n",
      " 14  Severity      6407 non-null   int64  \n",
      " 15  timestamp     6407 non-null   object \n",
      "dtypes: bool(9), float64(3), int64(2), object(2)\n",
      "memory usage: 406.8+ KB\n"
     ]
    }
   ],
   "source": [
    "df.info()"
   ]
  },
  {
   "cell_type": "code",
   "execution_count": 6,
   "id": "1d148a86",
   "metadata": {
    "execution": {
     "iopub.execute_input": "2021-07-27T16:03:23.721358Z",
     "iopub.status.busy": "2021-07-27T16:03:23.720579Z",
     "iopub.status.idle": "2021-07-27T16:03:23.747390Z",
     "shell.execute_reply": "2021-07-27T16:03:23.747890Z",
     "shell.execute_reply.started": "2021-07-27T15:58:48.818700Z"
    },
    "papermill": {
     "duration": 0.070699,
     "end_time": "2021-07-27T16:03:23.748101",
     "exception": false,
     "start_time": "2021-07-27T16:03:23.677402",
     "status": "completed"
    },
    "tags": []
   },
   "outputs": [
    {
     "data": {
      "text/html": [
       "<div>\n",
       "<style scoped>\n",
       "    .dataframe tbody tr th:only-of-type {\n",
       "        vertical-align: middle;\n",
       "    }\n",
       "\n",
       "    .dataframe tbody tr th {\n",
       "        vertical-align: top;\n",
       "    }\n",
       "\n",
       "    .dataframe thead th {\n",
       "        text-align: right;\n",
       "    }\n",
       "</style>\n",
       "<table border=\"1\" class=\"dataframe\">\n",
       "  <thead>\n",
       "    <tr style=\"text-align: right;\">\n",
       "      <th></th>\n",
       "      <th>Lat</th>\n",
       "      <th>Lng</th>\n",
       "      <th>Distance(mi)</th>\n",
       "      <th>Severity</th>\n",
       "    </tr>\n",
       "  </thead>\n",
       "  <tbody>\n",
       "    <tr>\n",
       "      <th>count</th>\n",
       "      <td>6407.000000</td>\n",
       "      <td>6407.000000</td>\n",
       "      <td>6407.000000</td>\n",
       "      <td>6407.000000</td>\n",
       "    </tr>\n",
       "    <tr>\n",
       "      <th>mean</th>\n",
       "      <td>37.765653</td>\n",
       "      <td>-122.405990</td>\n",
       "      <td>0.135189</td>\n",
       "      <td>2.293429</td>\n",
       "    </tr>\n",
       "    <tr>\n",
       "      <th>std</th>\n",
       "      <td>0.032555</td>\n",
       "      <td>0.028275</td>\n",
       "      <td>0.396360</td>\n",
       "      <td>0.521225</td>\n",
       "    </tr>\n",
       "    <tr>\n",
       "      <th>min</th>\n",
       "      <td>37.609619</td>\n",
       "      <td>-122.510440</td>\n",
       "      <td>0.000000</td>\n",
       "      <td>1.000000</td>\n",
       "    </tr>\n",
       "    <tr>\n",
       "      <th>25%</th>\n",
       "      <td>37.737096</td>\n",
       "      <td>-122.412210</td>\n",
       "      <td>0.000000</td>\n",
       "      <td>2.000000</td>\n",
       "    </tr>\n",
       "    <tr>\n",
       "      <th>50%</th>\n",
       "      <td>37.768238</td>\n",
       "      <td>-122.404835</td>\n",
       "      <td>0.000000</td>\n",
       "      <td>2.000000</td>\n",
       "    </tr>\n",
       "    <tr>\n",
       "      <th>75%</th>\n",
       "      <td>37.787813</td>\n",
       "      <td>-122.392477</td>\n",
       "      <td>0.041000</td>\n",
       "      <td>3.000000</td>\n",
       "    </tr>\n",
       "    <tr>\n",
       "      <th>max</th>\n",
       "      <td>37.825626</td>\n",
       "      <td>-122.349734</td>\n",
       "      <td>6.820000</td>\n",
       "      <td>4.000000</td>\n",
       "    </tr>\n",
       "  </tbody>\n",
       "</table>\n",
       "</div>"
      ],
      "text/plain": [
       "               Lat          Lng  Distance(mi)     Severity\n",
       "count  6407.000000  6407.000000   6407.000000  6407.000000\n",
       "mean     37.765653  -122.405990      0.135189     2.293429\n",
       "std       0.032555     0.028275      0.396360     0.521225\n",
       "min      37.609619  -122.510440      0.000000     1.000000\n",
       "25%      37.737096  -122.412210      0.000000     2.000000\n",
       "50%      37.768238  -122.404835      0.000000     2.000000\n",
       "75%      37.787813  -122.392477      0.041000     3.000000\n",
       "max      37.825626  -122.349734      6.820000     4.000000"
      ]
     },
     "execution_count": 6,
     "metadata": {},
     "output_type": "execute_result"
    }
   ],
   "source": [
    "df.drop(columns='ID').describe()"
   ]
  },
  {
   "cell_type": "code",
   "execution_count": 7,
   "id": "cf187852",
   "metadata": {
    "execution": {
     "iopub.execute_input": "2021-07-27T16:03:23.824725Z",
     "iopub.status.busy": "2021-07-27T16:03:23.824035Z",
     "iopub.status.idle": "2021-07-27T16:03:23.853587Z",
     "shell.execute_reply": "2021-07-27T16:03:23.852990Z",
     "shell.execute_reply.started": "2021-07-27T15:58:48.848090Z"
    },
    "papermill": {
     "duration": 0.069162,
     "end_time": "2021-07-27T16:03:23.853726",
     "exception": false,
     "start_time": "2021-07-27T16:03:23.784564",
     "status": "completed"
    },
    "tags": []
   },
   "outputs": [
    {
     "name": "stdout",
     "output_type": "stream",
     "text": [
      "False    6407\n",
      "Name: Bump, dtype: int64 \n",
      "\n",
      "False    5879\n",
      "True      528\n",
      "Name: Crossing, dtype: int64 \n",
      "\n",
      "False    6404\n",
      "True        3\n",
      "Name: Give_Way, dtype: int64 \n",
      "\n",
      "False    4828\n",
      "True     1579\n",
      "Name: Junction, dtype: int64 \n",
      "\n",
      "False    6406\n",
      "True        1\n",
      "Name: No_Exit, dtype: int64 \n",
      "\n",
      "False    6237\n",
      "True      170\n",
      "Name: Railway, dtype: int64 \n",
      "\n",
      "False    6407\n",
      "Name: Roundabout, dtype: int64 \n",
      "\n",
      "False    5781\n",
      "True      626\n",
      "Name: Stop, dtype: int64 \n",
      "\n",
      "False    6169\n",
      "True      238\n",
      "Name: Amenity, dtype: int64 \n",
      "\n",
      "R    6082\n",
      "L     325\n",
      "Name: Side, dtype: int64 \n",
      "\n",
      "2017-12-01 14:48:24    5\n",
      "2020-12-07 17:04:30    5\n",
      "2018-01-06 09:44:27    4\n",
      "2020-11-30 19:02:00    4\n",
      "2020-11-24 20:08:00    4\n",
      "                      ..\n",
      "2018-06-02 06:52:16    1\n",
      "2020-12-25 23:57:32    1\n",
      "2016-12-18 21:05:53    1\n",
      "2017-02-10 16:13:33    1\n",
      "2018-08-19 23:52:21    1\n",
      "Name: timestamp, Length: 6248, dtype: int64 \n",
      "\n"
     ]
    }
   ],
   "source": [
    "for c in df.columns:\n",
    "    if df[c].dtype in ['object', 'bool']:\n",
    "        print(df[c].value_counts(), '\\n')"
   ]
  },
  {
   "cell_type": "code",
   "execution_count": 8,
   "id": "e42bd9c0",
   "metadata": {
    "execution": {
     "iopub.execute_input": "2021-07-27T16:03:23.932591Z",
     "iopub.status.busy": "2021-07-27T16:03:23.931792Z",
     "iopub.status.idle": "2021-07-27T16:03:23.938268Z",
     "shell.execute_reply": "2021-07-27T16:03:23.937586Z",
     "shell.execute_reply.started": "2021-07-27T15:58:48.880473Z"
    },
    "papermill": {
     "duration": 0.04737,
     "end_time": "2021-07-27T16:03:23.938408",
     "exception": false,
     "start_time": "2021-07-27T16:03:23.891038",
     "status": "completed"
    },
    "tags": []
   },
   "outputs": [
    {
     "data": {
      "text/plain": [
       "2    4346\n",
       "3    1855\n",
       "1     129\n",
       "4      77\n",
       "Name: Severity, dtype: int64"
      ]
     },
     "execution_count": 8,
     "metadata": {},
     "output_type": "execute_result"
    }
   ],
   "source": [
    "df['Severity'].value_counts()"
   ]
  },
  {
   "cell_type": "code",
   "execution_count": 9,
   "id": "040ee996",
   "metadata": {
    "execution": {
     "iopub.execute_input": "2021-07-27T16:03:24.030077Z",
     "iopub.status.busy": "2021-07-27T16:03:24.021170Z",
     "iopub.status.idle": "2021-07-27T16:03:24.032467Z",
     "shell.execute_reply": "2021-07-27T16:03:24.032948Z",
     "shell.execute_reply.started": "2021-07-27T15:58:48.891256Z"
    },
    "papermill": {
     "duration": 0.057065,
     "end_time": "2021-07-27T16:03:24.033132",
     "exception": false,
     "start_time": "2021-07-27T16:03:23.976067",
     "status": "completed"
    },
    "tags": []
   },
   "outputs": [
    {
     "name": "stdout",
     "output_type": "stream",
     "text": [
      "<class 'pandas.core.frame.DataFrame'>\n",
      "RangeIndex: 6901 entries, 0 to 6900\n",
      "Data columns (total 12 columns):\n",
      " #   Column             Non-Null Count  Dtype  \n",
      "---  ------             --------------  -----  \n",
      " 0   Year               6901 non-null   int64  \n",
      " 1   Day                6901 non-null   int64  \n",
      " 2   Month              6901 non-null   int64  \n",
      " 3   Hour               6901 non-null   int64  \n",
      " 4   Weather_Condition  6900 non-null   object \n",
      " 5   Wind_Chill(F)      3292 non-null   float64\n",
      " 6   Precipitation(in)  3574 non-null   float64\n",
      " 7   Temperature(F)     6899 non-null   float64\n",
      " 8   Humidity(%)        6899 non-null   float64\n",
      " 9   Wind_Speed(mph)    6556 non-null   float64\n",
      " 10  Visibility(mi)     6900 non-null   float64\n",
      " 11  Selected           6901 non-null   object \n",
      "dtypes: float64(6), int64(4), object(2)\n",
      "memory usage: 647.1+ KB\n"
     ]
    }
   ],
   "source": [
    "weather_df.info()"
   ]
  },
  {
   "cell_type": "code",
   "execution_count": 10,
   "id": "deed2257",
   "metadata": {
    "execution": {
     "iopub.execute_input": "2021-07-27T16:03:24.111364Z",
     "iopub.status.busy": "2021-07-27T16:03:24.110685Z",
     "iopub.status.idle": "2021-07-27T16:03:24.153079Z",
     "shell.execute_reply": "2021-07-27T16:03:24.152491Z",
     "shell.execute_reply.started": "2021-07-27T15:58:48.921084Z"
    },
    "papermill": {
     "duration": 0.082767,
     "end_time": "2021-07-27T16:03:24.153220",
     "exception": false,
     "start_time": "2021-07-27T16:03:24.070453",
     "status": "completed"
    },
    "tags": []
   },
   "outputs": [
    {
     "data": {
      "text/html": [
       "<div>\n",
       "<style scoped>\n",
       "    .dataframe tbody tr th:only-of-type {\n",
       "        vertical-align: middle;\n",
       "    }\n",
       "\n",
       "    .dataframe tbody tr th {\n",
       "        vertical-align: top;\n",
       "    }\n",
       "\n",
       "    .dataframe thead th {\n",
       "        text-align: right;\n",
       "    }\n",
       "</style>\n",
       "<table border=\"1\" class=\"dataframe\">\n",
       "  <thead>\n",
       "    <tr style=\"text-align: right;\">\n",
       "      <th></th>\n",
       "      <th>Year</th>\n",
       "      <th>Day</th>\n",
       "      <th>Month</th>\n",
       "      <th>Hour</th>\n",
       "      <th>Wind_Chill(F)</th>\n",
       "      <th>Precipitation(in)</th>\n",
       "      <th>Temperature(F)</th>\n",
       "      <th>Humidity(%)</th>\n",
       "      <th>Wind_Speed(mph)</th>\n",
       "      <th>Visibility(mi)</th>\n",
       "    </tr>\n",
       "  </thead>\n",
       "  <tbody>\n",
       "    <tr>\n",
       "      <th>count</th>\n",
       "      <td>6901.000000</td>\n",
       "      <td>6901.000000</td>\n",
       "      <td>6901.000000</td>\n",
       "      <td>6901.000000</td>\n",
       "      <td>3292.000000</td>\n",
       "      <td>3574.000000</td>\n",
       "      <td>6899.000000</td>\n",
       "      <td>6899.000000</td>\n",
       "      <td>6556.000000</td>\n",
       "      <td>6900.000000</td>\n",
       "    </tr>\n",
       "    <tr>\n",
       "      <th>mean</th>\n",
       "      <td>2018.293001</td>\n",
       "      <td>15.624837</td>\n",
       "      <td>6.775250</td>\n",
       "      <td>12.789886</td>\n",
       "      <td>59.762515</td>\n",
       "      <td>0.006444</td>\n",
       "      <td>59.905465</td>\n",
       "      <td>68.570952</td>\n",
       "      <td>10.813164</td>\n",
       "      <td>9.441851</td>\n",
       "    </tr>\n",
       "    <tr>\n",
       "      <th>std</th>\n",
       "      <td>1.390524</td>\n",
       "      <td>8.703753</td>\n",
       "      <td>3.567982</td>\n",
       "      <td>5.874155</td>\n",
       "      <td>9.338456</td>\n",
       "      <td>0.028822</td>\n",
       "      <td>7.977860</td>\n",
       "      <td>16.180126</td>\n",
       "      <td>6.406376</td>\n",
       "      <td>1.640513</td>\n",
       "    </tr>\n",
       "    <tr>\n",
       "      <th>min</th>\n",
       "      <td>2016.000000</td>\n",
       "      <td>1.000000</td>\n",
       "      <td>1.000000</td>\n",
       "      <td>0.000000</td>\n",
       "      <td>31.100000</td>\n",
       "      <td>0.000000</td>\n",
       "      <td>36.000000</td>\n",
       "      <td>10.000000</td>\n",
       "      <td>0.000000</td>\n",
       "      <td>0.000000</td>\n",
       "    </tr>\n",
       "    <tr>\n",
       "      <th>25%</th>\n",
       "      <td>2017.000000</td>\n",
       "      <td>8.000000</td>\n",
       "      <td>4.000000</td>\n",
       "      <td>8.000000</td>\n",
       "      <td>54.000000</td>\n",
       "      <td>0.000000</td>\n",
       "      <td>54.000000</td>\n",
       "      <td>59.000000</td>\n",
       "      <td>5.800000</td>\n",
       "      <td>10.000000</td>\n",
       "    </tr>\n",
       "    <tr>\n",
       "      <th>50%</th>\n",
       "      <td>2019.000000</td>\n",
       "      <td>15.000000</td>\n",
       "      <td>7.000000</td>\n",
       "      <td>14.000000</td>\n",
       "      <td>59.000000</td>\n",
       "      <td>0.000000</td>\n",
       "      <td>59.000000</td>\n",
       "      <td>70.000000</td>\n",
       "      <td>10.000000</td>\n",
       "      <td>10.000000</td>\n",
       "    </tr>\n",
       "    <tr>\n",
       "      <th>75%</th>\n",
       "      <td>2020.000000</td>\n",
       "      <td>23.000000</td>\n",
       "      <td>10.000000</td>\n",
       "      <td>17.000000</td>\n",
       "      <td>66.000000</td>\n",
       "      <td>0.000000</td>\n",
       "      <td>64.900000</td>\n",
       "      <td>80.000000</td>\n",
       "      <td>15.000000</td>\n",
       "      <td>10.000000</td>\n",
       "    </tr>\n",
       "    <tr>\n",
       "      <th>max</th>\n",
       "      <td>2020.000000</td>\n",
       "      <td>31.000000</td>\n",
       "      <td>12.000000</td>\n",
       "      <td>23.000000</td>\n",
       "      <td>98.000000</td>\n",
       "      <td>0.490000</td>\n",
       "      <td>98.100000</td>\n",
       "      <td>100.000000</td>\n",
       "      <td>40.300000</td>\n",
       "      <td>10.000000</td>\n",
       "    </tr>\n",
       "  </tbody>\n",
       "</table>\n",
       "</div>"
      ],
      "text/plain": [
       "              Year          Day        Month         Hour  Wind_Chill(F)  \\\n",
       "count  6901.000000  6901.000000  6901.000000  6901.000000    3292.000000   \n",
       "mean   2018.293001    15.624837     6.775250    12.789886      59.762515   \n",
       "std       1.390524     8.703753     3.567982     5.874155       9.338456   \n",
       "min    2016.000000     1.000000     1.000000     0.000000      31.100000   \n",
       "25%    2017.000000     8.000000     4.000000     8.000000      54.000000   \n",
       "50%    2019.000000    15.000000     7.000000    14.000000      59.000000   \n",
       "75%    2020.000000    23.000000    10.000000    17.000000      66.000000   \n",
       "max    2020.000000    31.000000    12.000000    23.000000      98.000000   \n",
       "\n",
       "       Precipitation(in)  Temperature(F)  Humidity(%)  Wind_Speed(mph)  \\\n",
       "count        3574.000000     6899.000000  6899.000000      6556.000000   \n",
       "mean            0.006444       59.905465    68.570952        10.813164   \n",
       "std             0.028822        7.977860    16.180126         6.406376   \n",
       "min             0.000000       36.000000    10.000000         0.000000   \n",
       "25%             0.000000       54.000000    59.000000         5.800000   \n",
       "50%             0.000000       59.000000    70.000000        10.000000   \n",
       "75%             0.000000       64.900000    80.000000        15.000000   \n",
       "max             0.490000       98.100000   100.000000        40.300000   \n",
       "\n",
       "       Visibility(mi)  \n",
       "count     6900.000000  \n",
       "mean         9.441851  \n",
       "std          1.640513  \n",
       "min          0.000000  \n",
       "25%         10.000000  \n",
       "50%         10.000000  \n",
       "75%         10.000000  \n",
       "max         10.000000  "
      ]
     },
     "execution_count": 10,
     "metadata": {},
     "output_type": "execute_result"
    }
   ],
   "source": [
    "weather_df.describe()"
   ]
  },
  {
   "cell_type": "code",
   "execution_count": 11,
   "id": "bf8c48ec",
   "metadata": {
    "execution": {
     "iopub.execute_input": "2021-07-27T16:03:24.242829Z",
     "iopub.status.busy": "2021-07-27T16:03:24.242128Z",
     "iopub.status.idle": "2021-07-27T16:03:24.245761Z",
     "shell.execute_reply": "2021-07-27T16:03:24.244732Z",
     "shell.execute_reply.started": "2021-07-27T15:58:48.980010Z"
    },
    "papermill": {
     "duration": 0.053667,
     "end_time": "2021-07-27T16:03:24.245907",
     "exception": false,
     "start_time": "2021-07-27T16:03:24.192240",
     "status": "completed"
    },
    "tags": []
   },
   "outputs": [
    {
     "name": "stdout",
     "output_type": "stream",
     "text": [
      "Partly Cloudy                   1580\n",
      "Mostly Cloudy                   1445\n",
      "Fair                            1279\n",
      "Overcast                         566\n",
      "Clear                            444\n",
      "Cloudy                           396\n",
      "Scattered Clouds                 389\n",
      "Light Rain                       287\n",
      "Fair / Windy                     127\n",
      "Haze                              76\n",
      "Rain                              66\n",
      "Partly Cloudy / Windy             52\n",
      "Mostly Cloudy / Windy             50\n",
      "Heavy Rain                        31\n",
      "Fog                               26\n",
      "Shallow Fog                       23\n",
      "Smoke                             20\n",
      "Cloudy / Windy                    15\n",
      "Light Rain / Windy                 8\n",
      "Light Drizzle                      6\n",
      "Mist                               5\n",
      "Rain / Windy                       3\n",
      "Patches of Fog                     3\n",
      "Light Thunderstorms and Rain       1\n",
      "Fog / Windy                        1\n",
      "Squalls                            1\n",
      "Name: Weather_Condition, dtype: int64 \n",
      "\n",
      "No     6900\n",
      "Yes       1\n",
      "Name: Selected, dtype: int64 \n",
      "\n"
     ]
    }
   ],
   "source": [
    "for c in weather_df.columns:\n",
    "    if weather_df[c].dtype in ['object', 'bool']:\n",
    "        print(weather_df[c].value_counts(), '\\n')"
   ]
  },
  {
   "cell_type": "code",
   "execution_count": 12,
   "id": "0dc75dfb",
   "metadata": {
    "execution": {
     "iopub.execute_input": "2021-07-27T16:03:24.330926Z",
     "iopub.status.busy": "2021-07-27T16:03:24.329994Z",
     "iopub.status.idle": "2021-07-27T16:03:24.354895Z",
     "shell.execute_reply": "2021-07-27T16:03:24.355406Z",
     "shell.execute_reply.started": "2021-07-27T15:58:48.998852Z"
    },
    "papermill": {
     "duration": 0.071237,
     "end_time": "2021-07-27T16:03:24.355578",
     "exception": false,
     "start_time": "2021-07-27T16:03:24.284341",
     "status": "completed"
    },
    "tags": []
   },
   "outputs": [
    {
     "name": "stdout",
     "output_type": "stream",
     "text": [
      "Weather_Condition\n",
      "Partly Cloudy            1580\n",
      "Mostly Cloudy            1445\n",
      "Fair                     1279\n",
      "Overcast                  566\n",
      "Clear                     444\n",
      "Cloudy                    396\n",
      "Scattered Clouds          389\n",
      "Light Rain                287\n",
      "Fair / Windy              127\n",
      "Haze                       76\n",
      "Rain                       66\n",
      "Partly Cloudy / Windy      52\n",
      "Mostly Cloudy / Windy      50\n",
      "Other                      43\n",
      "Heavy Rain                 31\n",
      "Fog                        26\n",
      "Shallow Fog                23\n",
      "Smoke                      20\n",
      "dtype: int64\n"
     ]
    },
    {
     "name": "stderr",
     "output_type": "stream",
     "text": [
      "/opt/conda/lib/python3.7/site-packages/ipykernel_launcher.py:3: SettingWithCopyWarning: \n",
      "A value is trying to be set on a copy of a slice from a DataFrame\n",
      "\n",
      "See the caveats in the documentation: https://pandas.pydata.org/pandas-docs/stable/user_guide/indexing.html#returning-a-view-versus-a-copy\n",
      "  This is separate from the ipykernel package so we can avoid doing imports until\n"
     ]
    }
   ],
   "source": [
    "counts = weather_df['Weather_Condition'].value_counts()\n",
    "mask = weather_df['Weather_Condition'].isin(counts[counts < 20].index)\n",
    "weather_df['Weather_Condition'][mask] = 'Other'\n",
    "print(weather_df.value_counts('Weather_Condition'))"
   ]
  },
  {
   "cell_type": "code",
   "execution_count": 13,
   "id": "5d3c5c71",
   "metadata": {
    "execution": {
     "iopub.execute_input": "2021-07-27T16:03:24.440597Z",
     "iopub.status.busy": "2021-07-27T16:03:24.439613Z",
     "iopub.status.idle": "2021-07-27T16:03:24.927860Z",
     "shell.execute_reply": "2021-07-27T16:03:24.927174Z",
     "shell.execute_reply.started": "2021-07-27T15:58:49.314478Z"
    },
    "papermill": {
     "duration": 0.533457,
     "end_time": "2021-07-27T16:03:24.928021",
     "exception": false,
     "start_time": "2021-07-27T16:03:24.394564",
     "status": "completed"
    },
    "tags": []
   },
   "outputs": [
    {
     "data": {
      "image/png": "[encoded data removed]",
      "text/plain": [
       "<Figure size 432x288 with 2 Axes>"
      ]
     },
     "metadata": {
      "needs_background": "light"
     },
     "output_type": "display_data"
    }
   ],
   "source": [
    "X = weather_df[['Wind_Chill(F)', 'Precipitation(in)', 'Temperature(F)', 'Humidity(%)', 'Wind_Speed(mph)', 'Visibility(mi)']]\n",
    "sns.heatmap(X.corr(), annot = True)\n",
    "plt.show()"
   ]
  },
  {
   "cell_type": "code",
   "execution_count": 14,
   "id": "607bbc5b",
   "metadata": {
    "execution": {
     "iopub.execute_input": "2021-07-27T16:03:25.016937Z",
     "iopub.status.busy": "2021-07-27T16:03:25.016197Z",
     "iopub.status.idle": "2021-07-27T16:03:25.020458Z",
     "shell.execute_reply": "2021-07-27T16:03:25.019754Z",
     "shell.execute_reply.started": "2021-07-27T15:58:49.788479Z"
    },
    "papermill": {
     "duration": 0.050474,
     "end_time": "2021-07-27T16:03:25.020602",
     "exception": false,
     "start_time": "2021-07-27T16:03:24.970128",
     "status": "completed"
    },
    "tags": []
   },
   "outputs": [],
   "source": [
    "weather_df = weather_df.drop(columns=['Selected', 'Wind_Chill(F)', 'Precipitation(in)'])"
   ]
  },
  {
   "cell_type": "markdown",
   "id": "2aa7ddd9",
   "metadata": {
    "papermill": {
     "duration": 0.04036,
     "end_time": "2021-07-27T16:03:25.101457",
     "exception": false,
     "start_time": "2021-07-27T16:03:25.061097",
     "status": "completed"
    },
    "tags": []
   },
   "source": [
    "# Merge & Data Manipulation"
   ]
  },
  {
   "cell_type": "code",
   "execution_count": 15,
   "id": "a0a8a353",
   "metadata": {
    "execution": {
     "iopub.execute_input": "2021-07-27T16:03:25.190530Z",
     "iopub.status.busy": "2021-07-27T16:03:25.188475Z",
     "iopub.status.idle": "2021-07-27T16:03:25.212264Z",
     "shell.execute_reply": "2021-07-27T16:03:25.211689Z",
     "shell.execute_reply.started": "2021-07-27T15:58:49.796457Z"
    },
    "papermill": {
     "duration": 0.07035,
     "end_time": "2021-07-27T16:03:25.212416",
     "exception": false,
     "start_time": "2021-07-27T16:03:25.142066",
     "status": "completed"
    },
    "tags": []
   },
   "outputs": [],
   "source": [
    "weather_df = weather_df.fillna(weather_df.mean())\n",
    "weather_df = weather_df.fillna(weather_df.mode().iloc[0])\n",
    "weather_df = weather_df.drop_duplicates(['Year','Month', 'Day', 'Hour'])"
   ]
  },
  {
   "cell_type": "code",
   "execution_count": 16,
   "id": "aa1fe6b7",
   "metadata": {
    "execution": {
     "iopub.execute_input": "2021-07-27T16:03:25.297540Z",
     "iopub.status.busy": "2021-07-27T16:03:25.296558Z",
     "iopub.status.idle": "2021-07-27T16:03:25.314619Z",
     "shell.execute_reply": "2021-07-27T16:03:25.313899Z",
     "shell.execute_reply.started": "2021-07-27T15:58:49.829794Z"
    },
    "papermill": {
     "duration": 0.061513,
     "end_time": "2021-07-27T16:03:25.314760",
     "exception": false,
     "start_time": "2021-07-27T16:03:25.253247",
     "status": "completed"
    },
    "tags": []
   },
   "outputs": [
    {
     "name": "stdout",
     "output_type": "stream",
     "text": [
      "0\n"
     ]
    }
   ],
   "source": [
    "duplicateDFRow = df[df.duplicated()]\n",
    "df.drop(duplicateDFRow.index)\n",
    "print(len(duplicateDFRow))"
   ]
  },
  {
   "cell_type": "code",
   "execution_count": 17,
   "id": "ee96cc45",
   "metadata": {
    "execution": {
     "iopub.execute_input": "2021-07-27T16:03:25.402140Z",
     "iopub.status.busy": "2021-07-27T16:03:25.401466Z",
     "iopub.status.idle": "2021-07-27T16:03:25.406415Z",
     "shell.execute_reply": "2021-07-27T16:03:25.405842Z",
     "shell.execute_reply.started": "2021-07-27T15:58:49.848647Z"
    },
    "papermill": {
     "duration": 0.050943,
     "end_time": "2021-07-27T16:03:25.406570",
     "exception": false,
     "start_time": "2021-07-27T16:03:25.355627",
     "status": "completed"
    },
    "tags": []
   },
   "outputs": [],
   "source": [
    "def merge_weather(df):\n",
    "    merge_list = ['Year','Month', 'Day', 'Hour']\n",
    "    new_df = df.merge(weather_df,  how='left', on=merge_list)\n",
    "    return new_df"
   ]
  },
  {
   "cell_type": "code",
   "execution_count": 18,
   "id": "db5bc6af",
   "metadata": {
    "execution": {
     "iopub.execute_input": "2021-07-27T16:03:25.491336Z",
     "iopub.status.busy": "2021-07-27T16:03:25.490652Z",
     "iopub.status.idle": "2021-07-27T16:03:25.494614Z",
     "shell.execute_reply": "2021-07-27T16:03:25.495159Z",
     "shell.execute_reply.started": "2021-07-27T15:58:49.856166Z"
    },
    "papermill": {
     "duration": 0.048072,
     "end_time": "2021-07-27T16:03:25.495331",
     "exception": false,
     "start_time": "2021-07-27T16:03:25.447259",
     "status": "completed"
    },
    "tags": []
   },
   "outputs": [],
   "source": [
    "def add_is_holiday(df):\n",
    "    df['holiday'] = df['timestamp'].dt.date.isin(holidays)\n",
    "    return df"
   ]
  },
  {
   "cell_type": "code",
   "execution_count": 19,
   "id": "e2af2abf",
   "metadata": {
    "execution": {
     "iopub.execute_input": "2021-07-27T16:03:25.580214Z",
     "iopub.status.busy": "2021-07-27T16:03:25.579525Z",
     "iopub.status.idle": "2021-07-27T16:03:25.585996Z",
     "shell.execute_reply": "2021-07-27T16:03:25.586615Z",
     "shell.execute_reply.started": "2021-07-27T15:58:49.868631Z"
    },
    "papermill": {
     "duration": 0.050559,
     "end_time": "2021-07-27T16:03:25.586790",
     "exception": false,
     "start_time": "2021-07-27T16:03:25.536231",
     "status": "completed"
    },
    "tags": []
   },
   "outputs": [],
   "source": [
    "def add_time_cols(df):\n",
    "    df['timestamp'] = pd.to_datetime(df['timestamp'])\n",
    "    df['Hour'] = df['timestamp'].apply(lambda x : x.hour)\n",
    "    df['Day'] = df['timestamp'].apply(lambda x : x.day)\n",
    "    df['DayOfWeek'] = df['timestamp'].apply(lambda x : x.dayofweek)\n",
    "    df['Month'] = df['timestamp'].apply(lambda x : x.month)\n",
    "    df['Year'] = df['timestamp'].apply(lambda x : x.year)\n",
    "    return df"
   ]
  },
  {
   "cell_type": "markdown",
   "id": "05d14dd2",
   "metadata": {
    "papermill": {
     "duration": 0.041142,
     "end_time": "2021-07-27T16:03:25.669570",
     "exception": false,
     "start_time": "2021-07-27T16:03:25.628428",
     "status": "completed"
    },
    "tags": []
   },
   "source": [
    "# EDA"
   ]
  },
  {
   "cell_type": "code",
   "execution_count": 20,
   "id": "404b1cdb",
   "metadata": {
    "execution": {
     "iopub.execute_input": "2021-07-27T16:03:25.754699Z",
     "iopub.status.busy": "2021-07-27T16:03:25.753995Z",
     "iopub.status.idle": "2021-07-27T16:03:25.772927Z",
     "shell.execute_reply": "2021-07-27T16:03:25.773507Z",
     "shell.execute_reply.started": "2021-07-27T15:58:49.883541Z"
    },
    "papermill": {
     "duration": 0.063016,
     "end_time": "2021-07-27T16:03:25.773682",
     "exception": false,
     "start_time": "2021-07-27T16:03:25.710666",
     "status": "completed"
    },
    "tags": []
   },
   "outputs": [
    {
     "data": {
      "text/plain": [
       "1    77\n",
       "2    77\n",
       "3    77\n",
       "4    77\n",
       "Name: Severity, dtype: int64"
      ]
     },
     "execution_count": 20,
     "metadata": {},
     "output_type": "execute_result"
    }
   ],
   "source": [
    "df_class_1 = df[df['Severity'] == 1]\n",
    "df_class_2 = df[df['Severity'] == 2]\n",
    "df_class_3 = df[df['Severity'] == 3]\n",
    "df_class_4 = df[df['Severity'] == 4]\n",
    "df_class_1_under = df_class_1.sample(len(df_class_4))\n",
    "df_class_2_under = df_class_2.sample(len(df_class_4))\n",
    "df_class_3_under = df_class_3.sample(len(df_class_4))\n",
    "df_balanced_under = pd.concat([df_class_1_under, df_class_2_under, df_class_3_under, df_class_4])\n",
    "df_balanced_under['Severity'].value_counts()"
   ]
  },
  {
   "cell_type": "code",
   "execution_count": 21,
   "id": "7efd74af",
   "metadata": {
    "execution": {
     "iopub.execute_input": "2021-07-27T16:03:25.859279Z",
     "iopub.status.busy": "2021-07-27T16:03:25.858639Z",
     "iopub.status.idle": "2021-07-27T16:03:25.891663Z",
     "shell.execute_reply": "2021-07-27T16:03:25.891072Z",
     "shell.execute_reply.started": "2021-07-27T15:58:49.912104Z"
    },
    "papermill": {
     "duration": 0.076846,
     "end_time": "2021-07-27T16:03:25.891803",
     "exception": false,
     "start_time": "2021-07-27T16:03:25.814957",
     "status": "completed"
    },
    "tags": []
   },
   "outputs": [
    {
     "data": {
      "text/plain": [
       "Index(['ID', 'Lat', 'Lng', 'Bump', 'Distance(mi)', 'Crossing', 'Give_Way',\n",
       "       'Junction', 'No_Exit', 'Railway', 'Roundabout', 'Stop', 'Amenity',\n",
       "       'Side', 'Severity', 'timestamp', 'Hour', 'Day', 'DayOfWeek', 'Month',\n",
       "       'Year', 'Weather_Condition', 'Temperature(F)', 'Humidity(%)',\n",
       "       'Wind_Speed(mph)', 'Visibility(mi)'],\n",
       "      dtype='object')"
      ]
     },
     "execution_count": 21,
     "metadata": {},
     "output_type": "execute_result"
    }
   ],
   "source": [
    "X = add_time_cols(df_balanced_under)\n",
    "X = merge_weather(X)\n",
    "X.columns"
   ]
  },
  {
   "cell_type": "code",
   "execution_count": 22,
   "id": "380fc8d6",
   "metadata": {
    "execution": {
     "iopub.execute_input": "2021-07-27T16:03:25.982549Z",
     "iopub.status.busy": "2021-07-27T16:03:25.981837Z",
     "iopub.status.idle": "2021-07-27T16:03:26.783838Z",
     "shell.execute_reply": "2021-07-27T16:03:26.782418Z",
     "shell.execute_reply.started": "2021-07-27T15:58:49.944096Z"
    },
    "papermill": {
     "duration": 0.850249,
     "end_time": "2021-07-27T16:03:26.783993",
     "exception": false,
     "start_time": "2021-07-27T16:03:25.933744",
     "status": "completed"
    },
    "tags": []
   },
   "outputs": [
    {
     "data": {
      "image/png": "[encoded data removed]",
      "text/plain": [
       "<Figure size 1440x720 with 2 Axes>"
      ]
     },
     "metadata": {
      "needs_background": "light"
     },
     "output_type": "display_data"
    }
   ],
   "source": [
    "object_col = [c for c in X.columns if X[c].dtype == 'object']\n",
    "fig, ax = plt.subplots(1,len(object_col), figsize = (20,10))\n",
    "for i, c in enumerate(object_col):\n",
    "    sns.histplot(binwidth=0.5, x=c, hue=\"Severity\", data=X, stat=\"count\", multiple=\"stack\", ax=ax[i])\n",
    "plt.xticks(rotation=90)\n",
    "plt.show()"
   ]
  },
  {
   "cell_type": "code",
   "execution_count": 23,
   "id": "43670db8",
   "metadata": {
    "execution": {
     "iopub.execute_input": "2021-07-27T16:03:26.918527Z",
     "iopub.status.busy": "2021-07-27T16:03:26.902431Z",
     "iopub.status.idle": "2021-07-27T16:03:28.202599Z",
     "shell.execute_reply": "2021-07-27T16:03:28.201517Z",
     "shell.execute_reply.started": "2021-07-27T15:58:50.623119Z"
    },
    "papermill": {
     "duration": 1.375974,
     "end_time": "2021-07-27T16:03:28.202757",
     "exception": false,
     "start_time": "2021-07-27T16:03:26.826783",
     "status": "completed"
    },
    "tags": []
   },
   "outputs": [
    {
     "data": {
      "image/png": "[encoded data removed]",
      "text/plain": [
       "<Figure size 1440x720 with 9 Axes>"
      ]
     },
     "metadata": {
      "needs_background": "light"
     },
     "output_type": "display_data"
    }
   ],
   "source": [
    "bool_col = [c for c in X.columns if X[c].dtype == 'bool']\n",
    "fig, ax = plt.subplots(1, len(bool_col), figsize = (20,10))\n",
    "for i, c in enumerate(bool_col):\n",
    "    sns.countplot(x=c, hue=\"Severity\", data=X,ax=ax[i])\n",
    "plt.xticks(rotation=90)\n",
    "plt.show()"
   ]
  },
  {
   "cell_type": "code",
   "execution_count": 24,
   "id": "d0e4a85a",
   "metadata": {
    "execution": {
     "iopub.execute_input": "2021-07-27T16:03:28.301773Z",
     "iopub.status.busy": "2021-07-27T16:03:28.301078Z",
     "iopub.status.idle": "2021-07-27T16:03:28.467510Z",
     "shell.execute_reply": "2021-07-27T16:03:28.466793Z",
     "shell.execute_reply.started": "2021-07-27T15:58:52.127892Z"
    },
    "papermill": {
     "duration": 0.219378,
     "end_time": "2021-07-27T16:03:28.467653",
     "exception": false,
     "start_time": "2021-07-27T16:03:28.248275",
     "status": "completed"
    },
    "tags": []
   },
   "outputs": [
    {
     "data": {
      "image/png": "[encoded data removed]",
      "text/plain": [
       "<Figure size 432x288 with 1 Axes>"
      ]
     },
     "metadata": {
      "needs_background": "light"
     },
     "output_type": "display_data"
    }
   ],
   "source": [
    "sns.boxplot(x=\"Severity\", y=\"Temperature(F)\", data=X) #,ax=ax[i])\n",
    "plt.xticks(rotation=90)\n",
    "plt.show()"
   ]
  },
  {
   "cell_type": "code",
   "execution_count": 25,
   "id": "5e8a4765",
   "metadata": {
    "execution": {
     "iopub.execute_input": "2021-07-27T16:03:28.573514Z",
     "iopub.status.busy": "2021-07-27T16:03:28.566206Z",
     "iopub.status.idle": "2021-07-27T16:03:28.727447Z",
     "shell.execute_reply": "2021-07-27T16:03:28.726793Z",
     "shell.execute_reply.started": "2021-07-27T15:58:52.311203Z"
    },
    "papermill": {
     "duration": 0.214615,
     "end_time": "2021-07-27T16:03:28.727581",
     "exception": false,
     "start_time": "2021-07-27T16:03:28.512966",
     "status": "completed"
    },
    "tags": []
   },
   "outputs": [
    {
     "data": {
      "image/png": "[encoded data removed]",
      "text/plain": [
       "<Figure size 432x288 with 1 Axes>"
      ]
     },
     "metadata": {
      "needs_background": "light"
     },
     "output_type": "display_data"
    }
   ],
   "source": [
    "sns.boxplot(x=\"Severity\", y='Visibility(mi)', data=X)\n",
    "plt.xticks(rotation=90)\n",
    "plt.show()"
   ]
  },
  {
   "cell_type": "code",
   "execution_count": 26,
   "id": "ab9e1065",
   "metadata": {
    "execution": {
     "iopub.execute_input": "2021-07-27T16:03:28.842475Z",
     "iopub.status.busy": "2021-07-27T16:03:28.834957Z",
     "iopub.status.idle": "2021-07-27T16:03:29.000348Z",
     "shell.execute_reply": "2021-07-27T16:03:29.000832Z",
     "shell.execute_reply.started": "2021-07-27T15:58:52.499070Z"
    },
    "papermill": {
     "duration": 0.228102,
     "end_time": "2021-07-27T16:03:29.001037",
     "exception": false,
     "start_time": "2021-07-27T16:03:28.772935",
     "status": "completed"
    },
    "tags": []
   },
   "outputs": [
    {
     "data": {
      "image/png": "[encoded data removed]",
      "text/plain": [
       "<Figure size 432x288 with 1 Axes>"
      ]
     },
     "metadata": {
      "needs_background": "light"
     },
     "output_type": "display_data"
    }
   ],
   "source": [
    "sns.boxplot(x=\"Severity\", y='Wind_Speed(mph)', data=X) #,ax=ax[i])\n",
    "plt.xticks(rotation=90)\n",
    "plt.show()"
   ]
  },
  {
   "cell_type": "code",
   "execution_count": 27,
   "id": "5c647ba8",
   "metadata": {
    "execution": {
     "iopub.execute_input": "2021-07-27T16:03:29.120694Z",
     "iopub.status.busy": "2021-07-27T16:03:29.119833Z",
     "iopub.status.idle": "2021-07-27T16:03:29.283902Z",
     "shell.execute_reply": "2021-07-27T16:03:29.283279Z",
     "shell.execute_reply.started": "2021-07-27T15:58:52.687228Z"
    },
    "papermill": {
     "duration": 0.236689,
     "end_time": "2021-07-27T16:03:29.284057",
     "exception": false,
     "start_time": "2021-07-27T16:03:29.047368",
     "status": "completed"
    },
    "tags": []
   },
   "outputs": [
    {
     "data": {
      "image/png": "[encoded data removed]",
      "text/plain": [
       "<Figure size 432x288 with 1 Axes>"
      ]
     },
     "metadata": {
      "needs_background": "light"
     },
     "output_type": "display_data"
    }
   ],
   "source": [
    "sns.boxplot(x=\"Severity\", y='Humidity(%)', data=X)\n",
    "plt.xticks(rotation=90)\n",
    "plt.show()"
   ]
  },
  {
   "cell_type": "markdown",
   "id": "8835679f",
   "metadata": {
    "papermill": {
     "duration": 0.046133,
     "end_time": "2021-07-27T16:03:29.376962",
     "exception": false,
     "start_time": "2021-07-27T16:03:29.330829",
     "status": "completed"
    },
    "tags": []
   },
   "source": [
    "# Pipline"
   ]
  },
  {
   "cell_type": "code",
   "execution_count": 28,
   "id": "b64fbf5b",
   "metadata": {
    "execution": {
     "iopub.execute_input": "2021-07-27T16:03:29.478846Z",
     "iopub.status.busy": "2021-07-27T16:03:29.478161Z",
     "iopub.status.idle": "2021-07-27T16:03:29.480168Z",
     "shell.execute_reply": "2021-07-27T16:03:29.480646Z",
     "shell.execute_reply.started": "2021-07-27T15:58:52.882495Z"
    },
    "papermill": {
     "duration": 0.057131,
     "end_time": "2021-07-27T16:03:29.480817",
     "exception": false,
     "start_time": "2021-07-27T16:03:29.423686",
     "status": "completed"
    },
    "tags": []
   },
   "outputs": [],
   "source": [
    "encoder = OneHotEncoder(handle_unknown='ignore')\n",
    "\n",
    "def encode(df, is_train=False):\n",
    "    object_cols = [c for c in df.columns if df[c].dtype == 'object']\n",
    "    if is_train:\n",
    "        encoder.fit(df[object_cols])\n",
    "    X = pd.DataFrame(encoder.transform(df[object_cols]).toarray(), columns=encoder.get_feature_names(object_cols))\n",
    "    df = df.drop(columns=object_cols)\n",
    "    df = pd.concat([df, X], axis=1)\n",
    "    return df\n",
    "\n",
    "def pipline(df, my_list, is_train=False):\n",
    "    df = add_time_cols(df)\n",
    "    df = merge_weather(df)\n",
    "    df = add_is_holiday(df)\n",
    "    df = df[my_list]\n",
    "    df = encode(df, is_train)\n",
    "    return df"
   ]
  },
  {
   "cell_type": "code",
   "execution_count": 29,
   "id": "b31ce01a",
   "metadata": {
    "execution": {
     "iopub.execute_input": "2021-07-27T16:03:29.577798Z",
     "iopub.status.busy": "2021-07-27T16:03:29.577127Z",
     "iopub.status.idle": "2021-07-27T16:03:29.582472Z",
     "shell.execute_reply": "2021-07-27T16:03:29.583046Z",
     "shell.execute_reply.started": "2021-07-27T15:58:52.891957Z"
    },
    "papermill": {
     "duration": 0.055226,
     "end_time": "2021-07-27T16:03:29.583221",
     "exception": false,
     "start_time": "2021-07-27T16:03:29.527995",
     "status": "completed"
    },
    "tags": []
   },
   "outputs": [
    {
     "data": {
      "text/plain": [
       "Index(['ID', 'Lat', 'Lng', 'Bump', 'Distance(mi)', 'Crossing', 'Give_Way',\n",
       "       'Junction', 'No_Exit', 'Railway', 'Roundabout', 'Stop', 'Amenity',\n",
       "       'Side', 'Severity', 'timestamp', 'Hour', 'Day', 'DayOfWeek', 'Month',\n",
       "       'Year', 'Weather_Condition', 'Temperature(F)', 'Humidity(%)',\n",
       "       'Wind_Speed(mph)', 'Visibility(mi)'],\n",
       "      dtype='object')"
      ]
     },
     "execution_count": 29,
     "metadata": {},
     "output_type": "execute_result"
    }
   ],
   "source": [
    "X.columns"
   ]
  },
  {
   "cell_type": "markdown",
   "id": "94e2f38e",
   "metadata": {
    "papermill": {
     "duration": 0.046456,
     "end_time": "2021-07-27T16:03:29.677255",
     "exception": false,
     "start_time": "2021-07-27T16:03:29.630799",
     "status": "completed"
    },
    "tags": []
   },
   "source": [
    "# Model Selection"
   ]
  },
  {
   "cell_type": "code",
   "execution_count": 30,
   "id": "651b4a76",
   "metadata": {
    "execution": {
     "iopub.execute_input": "2021-07-27T16:03:29.774418Z",
     "iopub.status.busy": "2021-07-27T16:03:29.773728Z",
     "iopub.status.idle": "2021-07-27T16:03:29.850606Z",
     "shell.execute_reply": "2021-07-27T16:03:29.849992Z",
     "shell.execute_reply.started": "2021-07-27T15:58:52.908414Z"
    },
    "papermill": {
     "duration": 0.126388,
     "end_time": "2021-07-27T16:03:29.850743",
     "exception": false,
     "start_time": "2021-07-27T16:03:29.724355",
     "status": "completed"
    },
    "tags": []
   },
   "outputs": [],
   "source": [
    "from sklearn.model_selection import train_test_split\n",
    "\n",
    "train_df, val_df = train_test_split(df, test_size=0.2, shuffle =True, random_state=42, stratify=df['Severity'])\n",
    "\n",
    "X_train = train_df.drop(columns=['ID', 'Severity'])\n",
    "y_train = train_df['Severity']\n",
    "\n",
    "X_val = val_df.drop(columns=['ID', 'Severity'])\n",
    "y_val = val_df['Severity']\n"
   ]
  },
  {
   "cell_type": "markdown",
   "id": "77cd8304",
   "metadata": {
    "papermill": {
     "duration": 0.046962,
     "end_time": "2021-07-27T16:03:29.944747",
     "exception": false,
     "start_time": "2021-07-27T16:03:29.897785",
     "status": "completed"
    },
    "tags": []
   },
   "source": [
    "# Model Traning"
   ]
  },
  {
   "cell_type": "code",
   "execution_count": 31,
   "id": "60ec5d2a",
   "metadata": {
    "execution": {
     "iopub.execute_input": "2021-07-27T16:03:30.046153Z",
     "iopub.status.busy": "2021-07-27T16:03:30.045470Z",
     "iopub.status.idle": "2021-07-27T16:03:30.275773Z",
     "shell.execute_reply": "2021-07-27T16:03:30.275218Z",
     "shell.execute_reply.started": "2021-07-27T15:58:52.934743Z"
    },
    "papermill": {
     "duration": 0.282744,
     "end_time": "2021-07-27T16:03:30.275934",
     "exception": false,
     "start_time": "2021-07-27T16:03:29.993190",
     "status": "completed"
    },
    "tags": []
   },
   "outputs": [],
   "source": [
    "from sklearn.ensemble import RandomForestClassifier\n",
    "\n",
    "# Create an instance of the classifier\n",
    "classifier = RandomForestClassifier(max_depth=2, random_state=0)"
   ]
  },
  {
   "cell_type": "code",
   "execution_count": 32,
   "id": "ef013f03",
   "metadata": {
    "execution": {
     "iopub.execute_input": "2021-07-27T16:03:30.393107Z",
     "iopub.status.busy": "2021-07-27T16:03:30.387722Z",
     "iopub.status.idle": "2021-07-27T16:04:42.059117Z",
     "shell.execute_reply": "2021-07-27T16:04:42.059876Z",
     "shell.execute_reply.started": "2021-07-27T16:01:15.576135Z"
    },
    "papermill": {
     "duration": 71.737343,
     "end_time": "2021-07-27T16:04:42.060169",
     "exception": false,
     "start_time": "2021-07-27T16:03:30.322826",
     "status": "completed"
    },
    "tags": []
   },
   "outputs": [
    {
     "name": "stdout",
     "output_type": "stream",
     "text": [
      "The best accuracy of the classifier on the validation set is  0.7480499219968799\n",
      "Features List  ['Lat', 'Lng', 'Distance(mi)', 'Year', 'Hour', 'Wind_Speed(mph)']\n"
     ]
    }
   ],
   "source": [
    "from itertools import combinations\n",
    "from copy import deepcopy\n",
    "\n",
    "cols = ['Crossing', 'Stop', 'Month', 'Year', 'Hour' ,'Humidity(%)', 'Wind_Speed(mph)']\n",
    "\n",
    "max_score = 0\n",
    "best_features = []\n",
    "best_classifier = None\n",
    "x = 1\n",
    "for i in range(len(cols) + 1):\n",
    "    for j in combinations(cols, i):\n",
    "        \n",
    "        my_list = ['Lat', 'Lng', 'Distance(mi)']\n",
    "        my_list += list(j)\n",
    "        \n",
    "        X_train_curr = pipline(X_train, my_list, True)\n",
    "        X_val_curr = pipline(X_val, my_list)\n",
    "        \n",
    "        # Train the classifier\n",
    "        classifier.fit(X_train_curr, y_train)\n",
    "        \n",
    "        score = classifier.score(X_val_curr, y_val)\n",
    "        \n",
    "        if max_score < score:\n",
    "            max_score = score\n",
    "            best_features = my_list\n",
    "            best_classifier = deepcopy(classifier)\n",
    "\n",
    "print(\"The best accuracy of the classifier on the validation set is \", max_score)\n",
    "print(\"Features List \", best_features)"
   ]
  },
  {
   "cell_type": "code",
   "execution_count": 33,
   "id": "e8569b26",
   "metadata": {
    "execution": {
     "iopub.execute_input": "2021-07-27T16:04:42.176512Z",
     "iopub.status.busy": "2021-07-27T16:04:42.175348Z",
     "iopub.status.idle": "2021-07-27T16:04:42.541119Z",
     "shell.execute_reply": "2021-07-27T16:04:42.541594Z",
     "shell.execute_reply.started": "2021-07-27T16:02:43.203266Z"
    },
    "papermill": {
     "duration": 0.433211,
     "end_time": "2021-07-27T16:04:42.541770",
     "exception": false,
     "start_time": "2021-07-27T16:04:42.108559",
     "status": "completed"
    },
    "tags": []
   },
   "outputs": [
    {
     "data": {
      "image/png": "[encoded data removed]",
      "text/plain": [
       "<Figure size 1440x720 with 1 Axes>"
      ]
     },
     "metadata": {
      "needs_background": "light"
     },
     "output_type": "display_data"
    }
   ],
   "source": [
    "plt.figure(figsize = (20,10))\n",
    "importances_rf = pd.Series(best_classifier.feature_importances_, index = pipline(X_train, best_features, encoder).columns) \n",
    "sorted_importances_rf = importances_rf.sort_values() \n",
    "sorted_importances_rf.plot(kind='barh', color='lightgreen')\n",
    "plt.show()"
   ]
  },
  {
   "cell_type": "markdown",
   "id": "ecb6ff15",
   "metadata": {
    "papermill": {
     "duration": 0.047715,
     "end_time": "2021-07-27T16:04:42.637468",
     "exception": false,
     "start_time": "2021-07-27T16:04:42.589753",
     "status": "completed"
    },
    "tags": []
   },
   "source": [
    "# Submission File Generation"
   ]
  },
  {
   "cell_type": "code",
   "execution_count": 34,
   "id": "d3072337",
   "metadata": {
    "execution": {
     "iopub.execute_input": "2021-07-27T16:04:42.737025Z",
     "iopub.status.busy": "2021-07-27T16:04:42.736335Z",
     "iopub.status.idle": "2021-07-27T16:04:42.776268Z",
     "shell.execute_reply": "2021-07-27T16:04:42.775701Z",
     "shell.execute_reply.started": "2021-07-27T16:02:52.218142Z"
    },
    "papermill": {
     "duration": 0.090815,
     "end_time": "2021-07-27T16:04:42.776421",
     "exception": false,
     "start_time": "2021-07-27T16:04:42.685606",
     "status": "completed"
    },
    "tags": []
   },
   "outputs": [
    {
     "data": {
      "text/html": [
       "<div>\n",
       "<style scoped>\n",
       "    .dataframe tbody tr th:only-of-type {\n",
       "        vertical-align: middle;\n",
       "    }\n",
       "\n",
       "    .dataframe tbody tr th {\n",
       "        vertical-align: top;\n",
       "    }\n",
       "\n",
       "    .dataframe thead th {\n",
       "        text-align: right;\n",
       "    }\n",
       "</style>\n",
       "<table border=\"1\" class=\"dataframe\">\n",
       "  <thead>\n",
       "    <tr style=\"text-align: right;\">\n",
       "      <th></th>\n",
       "      <th>ID</th>\n",
       "      <th>Lat</th>\n",
       "      <th>Lng</th>\n",
       "      <th>Bump</th>\n",
       "      <th>Distance(mi)</th>\n",
       "      <th>Crossing</th>\n",
       "      <th>Give_Way</th>\n",
       "      <th>Junction</th>\n",
       "      <th>No_Exit</th>\n",
       "      <th>Railway</th>\n",
       "      <th>Roundabout</th>\n",
       "      <th>Stop</th>\n",
       "      <th>Amenity</th>\n",
       "      <th>Side</th>\n",
       "      <th>timestamp</th>\n",
       "    </tr>\n",
       "  </thead>\n",
       "  <tbody>\n",
       "    <tr>\n",
       "      <th>0</th>\n",
       "      <td>6407</td>\n",
       "      <td>37.786060</td>\n",
       "      <td>-122.390900</td>\n",
       "      <td>False</td>\n",
       "      <td>0.039</td>\n",
       "      <td>False</td>\n",
       "      <td>False</td>\n",
       "      <td>True</td>\n",
       "      <td>False</td>\n",
       "      <td>False</td>\n",
       "      <td>False</td>\n",
       "      <td>False</td>\n",
       "      <td>False</td>\n",
       "      <td>R</td>\n",
       "      <td>2016-04-04 19:20:31</td>\n",
       "    </tr>\n",
       "    <tr>\n",
       "      <th>1</th>\n",
       "      <td>6408</td>\n",
       "      <td>37.769609</td>\n",
       "      <td>-122.415057</td>\n",
       "      <td>False</td>\n",
       "      <td>0.202</td>\n",
       "      <td>False</td>\n",
       "      <td>False</td>\n",
       "      <td>False</td>\n",
       "      <td>False</td>\n",
       "      <td>False</td>\n",
       "      <td>False</td>\n",
       "      <td>False</td>\n",
       "      <td>False</td>\n",
       "      <td>R</td>\n",
       "      <td>2020-10-28 11:51:00</td>\n",
       "    </tr>\n",
       "    <tr>\n",
       "      <th>2</th>\n",
       "      <td>6409</td>\n",
       "      <td>37.807495</td>\n",
       "      <td>-122.476021</td>\n",
       "      <td>False</td>\n",
       "      <td>0.000</td>\n",
       "      <td>False</td>\n",
       "      <td>False</td>\n",
       "      <td>False</td>\n",
       "      <td>False</td>\n",
       "      <td>False</td>\n",
       "      <td>False</td>\n",
       "      <td>False</td>\n",
       "      <td>False</td>\n",
       "      <td>R</td>\n",
       "      <td>2019-09-09 07:36:45</td>\n",
       "    </tr>\n",
       "    <tr>\n",
       "      <th>3</th>\n",
       "      <td>6410</td>\n",
       "      <td>37.761818</td>\n",
       "      <td>-122.405869</td>\n",
       "      <td>False</td>\n",
       "      <td>0.000</td>\n",
       "      <td>False</td>\n",
       "      <td>False</td>\n",
       "      <td>True</td>\n",
       "      <td>False</td>\n",
       "      <td>False</td>\n",
       "      <td>False</td>\n",
       "      <td>False</td>\n",
       "      <td>False</td>\n",
       "      <td>R</td>\n",
       "      <td>2019-08-06 15:46:25</td>\n",
       "    </tr>\n",
       "    <tr>\n",
       "      <th>4</th>\n",
       "      <td>6411</td>\n",
       "      <td>37.732350</td>\n",
       "      <td>-122.414100</td>\n",
       "      <td>False</td>\n",
       "      <td>0.670</td>\n",
       "      <td>False</td>\n",
       "      <td>False</td>\n",
       "      <td>False</td>\n",
       "      <td>False</td>\n",
       "      <td>False</td>\n",
       "      <td>False</td>\n",
       "      <td>False</td>\n",
       "      <td>False</td>\n",
       "      <td>R</td>\n",
       "      <td>2018-10-17 09:54:58</td>\n",
       "    </tr>\n",
       "  </tbody>\n",
       "</table>\n",
       "</div>"
      ],
      "text/plain": [
       "     ID        Lat         Lng   Bump  Distance(mi)  Crossing  Give_Way  \\\n",
       "0  6407  37.786060 -122.390900  False         0.039     False     False   \n",
       "1  6408  37.769609 -122.415057  False         0.202     False     False   \n",
       "2  6409  37.807495 -122.476021  False         0.000     False     False   \n",
       "3  6410  37.761818 -122.405869  False         0.000     False     False   \n",
       "4  6411  37.732350 -122.414100  False         0.670     False     False   \n",
       "\n",
       "   Junction  No_Exit  Railway  Roundabout   Stop  Amenity Side  \\\n",
       "0      True    False    False       False  False    False    R   \n",
       "1     False    False    False       False  False    False    R   \n",
       "2     False    False    False       False  False    False    R   \n",
       "3      True    False    False       False  False    False    R   \n",
       "4     False    False    False       False  False    False    R   \n",
       "\n",
       "             timestamp  \n",
       "0  2016-04-04 19:20:31  \n",
       "1  2020-10-28 11:51:00  \n",
       "2  2019-09-09 07:36:45  \n",
       "3  2019-08-06 15:46:25  \n",
       "4  2018-10-17 09:54:58  "
      ]
     },
     "execution_count": 34,
     "metadata": {},
     "output_type": "execute_result"
    }
   ],
   "source": [
    "test_df = pd.read_csv(os.path.join(dataset_path, 'test.csv'))\n",
    "test_df.head()"
   ]
  },
  {
   "cell_type": "code",
   "execution_count": 35,
   "id": "f0280627",
   "metadata": {
    "execution": {
     "iopub.execute_input": "2021-07-27T16:04:42.906456Z",
     "iopub.status.busy": "2021-07-27T16:04:42.896660Z",
     "iopub.status.idle": "2021-07-27T16:04:42.984669Z",
     "shell.execute_reply": "2021-07-27T16:04:42.984169Z",
     "shell.execute_reply.started": "2021-07-27T16:02:52.598700Z"
    },
    "papermill": {
     "duration": 0.159641,
     "end_time": "2021-07-27T16:04:42.984816",
     "exception": false,
     "start_time": "2021-07-27T16:04:42.825175",
     "status": "completed"
    },
    "tags": []
   },
   "outputs": [
    {
     "data": {
      "text/html": [
       "<div>\n",
       "<style scoped>\n",
       "    .dataframe tbody tr th:only-of-type {\n",
       "        vertical-align: middle;\n",
       "    }\n",
       "\n",
       "    .dataframe tbody tr th {\n",
       "        vertical-align: top;\n",
       "    }\n",
       "\n",
       "    .dataframe thead th {\n",
       "        text-align: right;\n",
       "    }\n",
       "</style>\n",
       "<table border=\"1\" class=\"dataframe\">\n",
       "  <thead>\n",
       "    <tr style=\"text-align: right;\">\n",
       "      <th></th>\n",
       "      <th>ID</th>\n",
       "      <th>Lat</th>\n",
       "      <th>Lng</th>\n",
       "      <th>Bump</th>\n",
       "      <th>Distance(mi)</th>\n",
       "      <th>Crossing</th>\n",
       "      <th>Give_Way</th>\n",
       "      <th>Junction</th>\n",
       "      <th>No_Exit</th>\n",
       "      <th>Railway</th>\n",
       "      <th>Roundabout</th>\n",
       "      <th>Stop</th>\n",
       "      <th>Amenity</th>\n",
       "      <th>Side</th>\n",
       "      <th>timestamp</th>\n",
       "      <th>Severity</th>\n",
       "    </tr>\n",
       "  </thead>\n",
       "  <tbody>\n",
       "    <tr>\n",
       "      <th>0</th>\n",
       "      <td>6407</td>\n",
       "      <td>37.786060</td>\n",
       "      <td>-122.390900</td>\n",
       "      <td>False</td>\n",
       "      <td>0.039</td>\n",
       "      <td>False</td>\n",
       "      <td>False</td>\n",
       "      <td>True</td>\n",
       "      <td>False</td>\n",
       "      <td>False</td>\n",
       "      <td>False</td>\n",
       "      <td>False</td>\n",
       "      <td>False</td>\n",
       "      <td>R</td>\n",
       "      <td>2016-04-04 19:20:31</td>\n",
       "      <td>2</td>\n",
       "    </tr>\n",
       "    <tr>\n",
       "      <th>1</th>\n",
       "      <td>6408</td>\n",
       "      <td>37.769609</td>\n",
       "      <td>-122.415057</td>\n",
       "      <td>False</td>\n",
       "      <td>0.202</td>\n",
       "      <td>False</td>\n",
       "      <td>False</td>\n",
       "      <td>False</td>\n",
       "      <td>False</td>\n",
       "      <td>False</td>\n",
       "      <td>False</td>\n",
       "      <td>False</td>\n",
       "      <td>False</td>\n",
       "      <td>R</td>\n",
       "      <td>2020-10-28 11:51:00</td>\n",
       "      <td>2</td>\n",
       "    </tr>\n",
       "    <tr>\n",
       "      <th>2</th>\n",
       "      <td>6409</td>\n",
       "      <td>37.807495</td>\n",
       "      <td>-122.476021</td>\n",
       "      <td>False</td>\n",
       "      <td>0.000</td>\n",
       "      <td>False</td>\n",
       "      <td>False</td>\n",
       "      <td>False</td>\n",
       "      <td>False</td>\n",
       "      <td>False</td>\n",
       "      <td>False</td>\n",
       "      <td>False</td>\n",
       "      <td>False</td>\n",
       "      <td>R</td>\n",
       "      <td>2019-09-09 07:36:45</td>\n",
       "      <td>2</td>\n",
       "    </tr>\n",
       "    <tr>\n",
       "      <th>3</th>\n",
       "      <td>6410</td>\n",
       "      <td>37.761818</td>\n",
       "      <td>-122.405869</td>\n",
       "      <td>False</td>\n",
       "      <td>0.000</td>\n",
       "      <td>False</td>\n",
       "      <td>False</td>\n",
       "      <td>True</td>\n",
       "      <td>False</td>\n",
       "      <td>False</td>\n",
       "      <td>False</td>\n",
       "      <td>False</td>\n",
       "      <td>False</td>\n",
       "      <td>R</td>\n",
       "      <td>2019-08-06 15:46:25</td>\n",
       "      <td>2</td>\n",
       "    </tr>\n",
       "    <tr>\n",
       "      <th>4</th>\n",
       "      <td>6411</td>\n",
       "      <td>37.732350</td>\n",
       "      <td>-122.414100</td>\n",
       "      <td>False</td>\n",
       "      <td>0.670</td>\n",
       "      <td>False</td>\n",
       "      <td>False</td>\n",
       "      <td>False</td>\n",
       "      <td>False</td>\n",
       "      <td>False</td>\n",
       "      <td>False</td>\n",
       "      <td>False</td>\n",
       "      <td>False</td>\n",
       "      <td>R</td>\n",
       "      <td>2018-10-17 09:54:58</td>\n",
       "      <td>2</td>\n",
       "    </tr>\n",
       "  </tbody>\n",
       "</table>\n",
       "</div>"
      ],
      "text/plain": [
       "     ID        Lat         Lng   Bump  Distance(mi)  Crossing  Give_Way  \\\n",
       "0  6407  37.786060 -122.390900  False         0.039     False     False   \n",
       "1  6408  37.769609 -122.415057  False         0.202     False     False   \n",
       "2  6409  37.807495 -122.476021  False         0.000     False     False   \n",
       "3  6410  37.761818 -122.405869  False         0.000     False     False   \n",
       "4  6411  37.732350 -122.414100  False         0.670     False     False   \n",
       "\n",
       "   Junction  No_Exit  Railway  Roundabout   Stop  Amenity Side  \\\n",
       "0      True    False    False       False  False    False    R   \n",
       "1     False    False    False       False  False    False    R   \n",
       "2     False    False    False       False  False    False    R   \n",
       "3      True    False    False       False  False    False    R   \n",
       "4     False    False    False       False  False    False    R   \n",
       "\n",
       "             timestamp  Severity  \n",
       "0  2016-04-04 19:20:31         2  \n",
       "1  2020-10-28 11:51:00         2  \n",
       "2  2019-09-09 07:36:45         2  \n",
       "3  2019-08-06 15:46:25         2  \n",
       "4  2018-10-17 09:54:58         2  "
      ]
     },
     "execution_count": 35,
     "metadata": {},
     "output_type": "execute_result"
    }
   ],
   "source": [
    "X_test = test_df.drop(columns=['ID'])\n",
    "\n",
    "X_test = pipline(X_test, best_features)\n",
    "\n",
    "y_test_predicted = best_classifier.predict(X_test)\n",
    "\n",
    "test_df['Severity'] = y_test_predicted\n",
    "\n",
    "test_df.head()"
   ]
  },
  {
   "cell_type": "code",
   "execution_count": 36,
   "id": "0cbced00",
   "metadata": {
    "execution": {
     "iopub.execute_input": "2021-07-27T16:04:43.089364Z",
     "iopub.status.busy": "2021-07-27T16:04:43.088699Z",
     "iopub.status.idle": "2021-07-27T16:04:43.098029Z",
     "shell.execute_reply": "2021-07-27T16:04:43.097360Z",
     "shell.execute_reply.started": "2021-07-27T16:02:52.970012Z"
    },
    "papermill": {
     "duration": 0.064207,
     "end_time": "2021-07-27T16:04:43.098169",
     "exception": false,
     "start_time": "2021-07-27T16:04:43.033962",
     "status": "completed"
    },
    "tags": []
   },
   "outputs": [],
   "source": [
    "test_df[['ID', 'Severity']].to_csv('/kaggle/working/submission.csv', index=False)"
   ]
  },
  {
   "cell_type": "code",
   "execution_count": null,
   "id": "1cef1575",
   "metadata": {
    "papermill": {
     "duration": 0.048454,
     "end_time": "2021-07-27T16:04:43.195825",
     "exception": false,
     "start_time": "2021-07-27T16:04:43.147371",
     "status": "completed"
    },
    "tags": []
   },
   "outputs": [],
   "source": []
  }
 ],
 "metadata": {
  "kernelspec": {
   "display_name": "Python 3",
   "language": "python",
   "name": "python3"
  },
  "language_info": {
   "codemirror_mode": {
    "name": "ipython",
    "version": 3
   },
   "file_extension": ".py",
   "mimetype": "text/x-python",
   "name": "python",
   "nbconvert_exporter": "python",
   "pygments_lexer": "ipython3",
   "version": "3.7.10"
  },
  "papermill": {
   "default_parameters": {},
   "duration": 90.804454,
   "end_time": "2021-07-27T16:04:44.056547",
   "environment_variables": {},
   "exception": null,
   "input_path": "__notebook__.ipynb",
   "output_path": "__notebook__.ipynb",
   "parameters": {},
   "start_time": "2021-07-27T16:03:13.252093",
   "version": "2.3.3"
  }
 },
 "nbformat": 4,
 "nbformat_minor": 5
}
