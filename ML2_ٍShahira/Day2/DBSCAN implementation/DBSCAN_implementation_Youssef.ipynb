{
 "cells": [
  {
   "cell_type": "code",
   "execution_count": 1,
   "metadata": {},
   "outputs": [],
   "source": [
    "import matplotlib.pyplot as plt\n",
    "from matplotlib import *\n",
    "import pandas as pd\n",
    "import numpy as np"
   ]
  },
  {
   "cell_type": "markdown",
   "metadata": {},
   "source": [
    "## Loading data"
   ]
  },
  {
   "cell_type": "code",
   "execution_count": 8,
   "metadata": {},
   "outputs": [
    {
     "data": {
      "text/plain": [
       "array([[1. , 2. ],\n",
       "       [3. , 4. ],\n",
       "       [2.5, 4. ],\n",
       "       [1.5, 2.5],\n",
       "       [3. , 5. ],\n",
       "       [2.8, 4.5],\n",
       "       [2.5, 4.5],\n",
       "       [1.2, 2.5],\n",
       "       [1. , 3. ],\n",
       "       [1. , 5. ],\n",
       "       [1. , 2.5],\n",
       "       [5. , 6. ],\n",
       "       [4. , 3. ]])"
      ]
     },
     "execution_count": 8,
     "metadata": {},
     "output_type": "execute_result"
    }
   ],
   "source": [
    "data = np.array([[1,2],[3,4],[2.5,4],[1.5,2.5],[3,5],[2.8,4.5],[2.5,4.5],[1.2,2.5],[1,3],[1,5],[1,2.5],[5,6],[4,3]])\n",
    "data"
   ]
  },
  {
   "cell_type": "code",
   "execution_count": 3,
   "metadata": {},
   "outputs": [
    {
     "data": {
      "text/html": [
       "<div>\n",
       "<style scoped>\n",
       "    .dataframe tbody tr th:only-of-type {\n",
       "        vertical-align: middle;\n",
       "    }\n",
       "\n",
       "    .dataframe tbody tr th {\n",
       "        vertical-align: top;\n",
       "    }\n",
       "\n",
       "    .dataframe thead th {\n",
       "        text-align: right;\n",
       "    }\n",
       "</style>\n",
       "<table border=\"1\" class=\"dataframe\">\n",
       "  <thead>\n",
       "    <tr style=\"text-align: right;\">\n",
       "      <th></th>\n",
       "      <th>x</th>\n",
       "      <th>y</th>\n",
       "    </tr>\n",
       "  </thead>\n",
       "  <tbody>\n",
       "    <tr>\n",
       "      <th>0</th>\n",
       "      <td>1.0</td>\n",
       "      <td>2.0</td>\n",
       "    </tr>\n",
       "    <tr>\n",
       "      <th>1</th>\n",
       "      <td>3.0</td>\n",
       "      <td>4.0</td>\n",
       "    </tr>\n",
       "    <tr>\n",
       "      <th>2</th>\n",
       "      <td>2.5</td>\n",
       "      <td>4.0</td>\n",
       "    </tr>\n",
       "    <tr>\n",
       "      <th>3</th>\n",
       "      <td>1.5</td>\n",
       "      <td>2.5</td>\n",
       "    </tr>\n",
       "    <tr>\n",
       "      <th>4</th>\n",
       "      <td>3.0</td>\n",
       "      <td>5.0</td>\n",
       "    </tr>\n",
       "    <tr>\n",
       "      <th>5</th>\n",
       "      <td>2.8</td>\n",
       "      <td>4.5</td>\n",
       "    </tr>\n",
       "    <tr>\n",
       "      <th>6</th>\n",
       "      <td>2.5</td>\n",
       "      <td>4.5</td>\n",
       "    </tr>\n",
       "    <tr>\n",
       "      <th>7</th>\n",
       "      <td>1.2</td>\n",
       "      <td>2.5</td>\n",
       "    </tr>\n",
       "    <tr>\n",
       "      <th>8</th>\n",
       "      <td>1.0</td>\n",
       "      <td>3.0</td>\n",
       "    </tr>\n",
       "    <tr>\n",
       "      <th>9</th>\n",
       "      <td>1.0</td>\n",
       "      <td>5.0</td>\n",
       "    </tr>\n",
       "    <tr>\n",
       "      <th>10</th>\n",
       "      <td>1.0</td>\n",
       "      <td>2.5</td>\n",
       "    </tr>\n",
       "    <tr>\n",
       "      <th>11</th>\n",
       "      <td>5.0</td>\n",
       "      <td>6.0</td>\n",
       "    </tr>\n",
       "    <tr>\n",
       "      <th>12</th>\n",
       "      <td>4.0</td>\n",
       "      <td>3.0</td>\n",
       "    </tr>\n",
       "  </tbody>\n",
       "</table>\n",
       "</div>"
      ],
      "text/plain": [
       "      x    y\n",
       "0   1.0  2.0\n",
       "1   3.0  4.0\n",
       "2   2.5  4.0\n",
       "3   1.5  2.5\n",
       "4   3.0  5.0\n",
       "5   2.8  4.5\n",
       "6   2.5  4.5\n",
       "7   1.2  2.5\n",
       "8   1.0  3.0\n",
       "9   1.0  5.0\n",
       "10  1.0  2.5\n",
       "11  5.0  6.0\n",
       "12  4.0  3.0"
      ]
     },
     "execution_count": 3,
     "metadata": {},
     "output_type": "execute_result"
    }
   ],
   "source": [
    "df = pd.DataFrame(x, columns=['x', 'y'])\n",
    "df"
   ]
  },
  {
   "cell_type": "code",
   "execution_count": 4,
   "metadata": {},
   "outputs": [
    {
     "data": {
      "image/png": "[encoded data removed]",
      "text/plain": [
       "<Figure size 720x576 with 1 Axes>"
      ]
     },
     "metadata": {
      "needs_background": "light"
     },
     "output_type": "display_data"
    }
   ],
   "source": [
    "plt.figure(figsize=(10,8))\n",
    "plt.scatter(df[\"x\"],df[\"y\"],s=50,color='b')\n",
    "plt.title('Dataset',fontsize=20)\n",
    "plt.xlabel('Feature 1',fontsize=14)\n",
    "plt.ylabel('Feature 2',fontsize=14)\n",
    "plt.show()"
   ]
  },
  {
   "cell_type": "markdown",
   "metadata": {},
   "source": [
    "## My DBSCAN_implementation"
   ]
  },
  {
   "cell_type": "code",
   "execution_count": 5,
   "metadata": {},
   "outputs": [],
   "source": [
    "# class DBSCAN():\n",
    "#     \"\"\"A density based clustering method that expands clusters from \n",
    "#     samples that have more neighbors within a radius specified by eps\n",
    "#     than the value min_samples.\n",
    "#     Parameters:\n",
    "    \n",
    "#     eps: float\n",
    "#         The radius within which samples are considered neighbors\n",
    "#     min_samples: int\n",
    "#         The number of neighbors required for the sample to be a core point. \n",
    "#     \"\"\"\n",
    "    \n",
    "#     def __init__(self, eps=1, min_samples=5):\n",
    "#         self.eps = eps\n",
    "#         self.min_samples = min_samples\n",
    "\n",
    "#     def _get_neighbors(self, sample_i):\n",
    "#         \"\"\" Return a list of indexes of neighboring samples\n",
    "#         A sample_2 is considered a neighbor of sample_1 if the distance between\n",
    "#         them is smaller than epsilon \"\"\"\n",
    "#         neighbors = []\n",
    "#         idxs = np.arange(len(self.X))\n",
    "#         for i, _sample in enumerate(self.X[idxs != sample_i]):\n",
    "#             distance = euclidean_distance(self.X[sample_i], _sample)\n",
    "#             if distance < self.eps:\n",
    "#                 neighbors.append(i)\n",
    "#         return np.array(neighbors)\n",
    "\n",
    "#     def _expand_cluster(self, sample_i, neighbors):\n",
    "#         \"\"\" Recursive method which expands the cluster until we have reached the border\n",
    "#         of the dense area (density determined by eps and min_samples) \"\"\"\n",
    "#         cluster = [sample_i]\n",
    "#         # Iterate through neighbors\n",
    "#         for neighbor_i in neighbors:\n",
    "#             if not neighbor_i in self.visited_samples:\n",
    "#                 self.visited_samples.append(neighbor_i)\n",
    "#                 # Fetch the sample's distant neighbors (neighbors of neighbor)\n",
    "#                 self.neighbors[neighbor_i] = self._get_neighbors(neighbor_i)\n",
    "#                 # Make sure the neighbor's neighbors are more than min_samples\n",
    "#                 # (If this is true the neighbor is a core point)\n",
    "#                 if len(self.neighbors[neighbor_i]) >= self.min_samples:\n",
    "#                     # Expand the cluster from the neighbor\n",
    "#                     expanded_cluster = self._expand_cluster(\n",
    "#                         neighbor_i, self.neighbors[neighbor_i])\n",
    "#                     # Add expanded cluster to this cluster\n",
    "#                     cluster = cluster + expanded_cluster\n",
    "#                 else:\n",
    "#                     # If the neighbor is not a core point we only add the neighbor point\n",
    "#                     cluster.append(neighbor_i)\n",
    "#         return cluster\n",
    "\n",
    "#     def _get_cluster_labels(self):\n",
    "#         #Return the samples labels as the index of the cluster in which they are contained\n",
    "#         # Set default value to number of clusters\n",
    "#         # Will make sure all outliers have same cluster label\n",
    "#         labels = np.full(shape=self.X.shape[0], fill_value=len(self.clusters))\n",
    "#         for cluster_i, cluster in enumerate(self.clusters):\n",
    "#             for sample_i in cluster:\n",
    "#                 labels[sample_i] = cluster_i\n",
    "#         return labels\n",
    "\n",
    "#     # DBSCAN prediction\n",
    "#     def predict(self, X):\n",
    "#         self.X = X\n",
    "#         self.clusters = []\n",
    "#         self.visited_samples = []\n",
    "#         self.neighbors = {}\n",
    "#         n_samples = np.shape(self.X)[0]\n",
    "#         # Iterate through samples and expand clusters from them\n",
    "#         # if they have more neighbors than self.min_samples\n",
    "#         for sample_i in range(n_samples):\n",
    "#             if sample_i in self.visited_samples:\n",
    "#                 continue\n",
    "#             self.neighbors[sample_i] = self._get_neighbors(sample_i)\n",
    "#             if len(self.neighbors[sample_i]) >= self.min_samples:\n",
    "#                 # If core point => mark as visited\n",
    "#                 self.visited_samples.append(sample_i)\n",
    "#                 # Sample has more neighbors than self.min_samples => expand\n",
    "#                 # cluster from sample\n",
    "#                 new_cluster = self._expand_cluster(\n",
    "#                     sample_i, self.neighbors[sample_i])\n",
    "#                 # Add cluster to list of clusters\n",
    "#                 self.clusters.append(new_cluster)\n",
    "\n",
    "#         # Get the resulting cluster labels\n",
    "#         cluster_labels = self._get_cluster_labels()\n",
    "#         return cluster_labels"
   ]
  },
  {
   "cell_type": "code",
   "execution_count": 23,
   "metadata": {},
   "outputs": [
    {
     "name": "stdout",
     "output_type": "stream",
     "text": [
      "Set eps = 0.8, Minpoints = 5\n"
     ]
    },
    {
     "data": {
      "image/png": "[encoded data removed]",
      "text/plain": [
       "<Figure size 432x288 with 1 Axes>"
      ]
     },
     "metadata": {
      "needs_background": "light"
     },
     "output_type": "display_data"
    },
    {
     "name": "stdout",
     "output_type": "stream",
     "text": [
      "number of cluster found: 2\n",
      "Counter({1: 5, 2: 5, 0: 3})\n",
      "numbrer of outliers found: 3\n",
      "\n"
     ]
    }
   ],
   "source": [
    "import numpy as np\n",
    "import collections\n",
    "import matplotlib.pyplot as plt\n",
    "import queue\n",
    "import scipy.io as spio\n",
    "\n",
    "#Define label for differnt point group\n",
    "NOISE = 0\n",
    "UNASSIGNED = 0\n",
    "core=-1\n",
    "edge=-2\n",
    "\n",
    "\n",
    "\n",
    "#function to find all neigbor points in radius\n",
    "def neighbor_points(data, pointId, radius):\n",
    "    points = []\n",
    "    for i in range(len(data)):\n",
    "        #Euclidian distance using L2 Norm\n",
    "        if np.linalg.norm(data[i] - data[pointId]) <= radius:\n",
    "            points.append(i)\n",
    "    return points\n",
    "\n",
    "#DB Scan algorithom\n",
    "def dbscan(data, Eps, MinPt):\n",
    "    \n",
    "    #initilize all pointlable to unassign\n",
    "    pointlabel  = [UNASSIGNED] * len(data)\n",
    "    pointcount = []\n",
    "    \n",
    "    #initilize list for core/noncore point\n",
    "    corepoint=[]\n",
    "    noncore=[]\n",
    "    \n",
    "    #Find all neigbor for all point\n",
    "    for i in range(len(data)):\n",
    "        pointcount.append(neighbor_points(data,i,Eps))\n",
    "    \n",
    "    #Find all core point, border and noise\n",
    "    for i in range(len(pointcount)):\n",
    "        if (len(pointcount[i])>=MinPt):\n",
    "            pointlabel[i]=core\n",
    "            corepoint.append(i)\n",
    "        else:\n",
    "            noncore.append(i)\n",
    "\n",
    "    #To reduce core points          \n",
    "    for i in noncore:  \n",
    "        for j in pointcount[i]:\n",
    "            if j in corepoint:\n",
    "                pointlabel[i]=edge\n",
    "                break\n",
    "            \n",
    "    #start assigning point to luster\n",
    "    cl = 1\n",
    "    \n",
    "    #Using a Queue to put all neigbor core point in queue and find neigboir's neigbor\n",
    "    for i in range(len(pointlabel)):\n",
    "        q = queue.Queue()\n",
    "        if (pointlabel[i] == core):\n",
    "            pointlabel[i] = cl\n",
    "            for x in pointcount[i]:\n",
    "                if(pointlabel[x]==core):\n",
    "                    q.put(x)\n",
    "                    pointlabel[x]=cl\n",
    "                elif(pointlabel[x]==edge):\n",
    "                    pointlabel[x]=cl\n",
    "            #Stop when all point in Queue has been checked   \n",
    "            while not q.empty():\n",
    "                neighbors = pointcount[q.get()]\n",
    "                for y in neighbors:\n",
    "                    if (pointlabel[y]==core):\n",
    "                        pointlabel[y]=cl\n",
    "                        q.put(y)\n",
    "                    if (pointlabel[y]==edge):\n",
    "                        pointlabel[y]=cl            \n",
    "            cl=cl+1 #move to next cluster\n",
    "    return pointlabel,cl\n",
    "    \n",
    "#Function to plot final result \n",
    "def plotRes(data, clusterRes, clusterNum):\n",
    "    nPoints = len(data)\n",
    "    scatterColors = ['black', 'green', 'brown', 'red', 'purple', 'orange', 'yellow']\n",
    "    for i in range(clusterNum):\n",
    "        if (i==0):\n",
    "            #Plot all noise point as blue\n",
    "            color='blue'\n",
    "        else:\n",
    "            color = scatterColors[i % len(scatterColors)]\n",
    "        x1 = [];  y1 = []\n",
    "        for j in range(nPoints):\n",
    "            if clusterRes[j] == i:\n",
    "                x1.append(data[j, 0])\n",
    "                y1.append(data[j, 1])\n",
    "        plt.scatter(x1, y1, c=color, alpha=1, marker='.', s=70)\n",
    "\n",
    "\n",
    "        \n",
    "#Set EPS and Minpoint\n",
    "eps = 0.8\n",
    "minpts = 5\n",
    "# Find ALl cluster, outliers in different setting and print resultsw\n",
    "\n",
    "print('Set eps = ' +str(eps)+ ', Minpoints = '+str(minpts))\n",
    "pointlabel,cl = dbscan(data,eps,minpts)\n",
    "plotRes(data, pointlabel, cl)\n",
    "plt.show()\n",
    "print('number of cluster found: ' + str(cl-1))\n",
    "counter=collections.Counter(pointlabel)\n",
    "print(counter)\n",
    "outliers  = pointlabel.count(0)\n",
    "print('numbrer of outliers found: '+str(outliers) +'\\n')"
   ]
  },
  {
   "cell_type": "markdown",
   "metadata": {},
   "source": [
    "## compare the code with the DBSCAN from the SKLearn.cluster"
   ]
  },
  {
   "cell_type": "code",
   "execution_count": 16,
   "metadata": {},
   "outputs": [],
   "source": [
    "from sklearn.cluster import DBSCAN\n"
   ]
  },
  {
   "cell_type": "code",
   "execution_count": 17,
   "metadata": {},
   "outputs": [
    {
     "data": {
      "text/plain": [
       "array([ 0,  1,  1,  0,  1,  1,  1,  0,  0, -1,  0, -1, -1], dtype=int64)"
      ]
     },
     "execution_count": 17,
     "metadata": {},
     "output_type": "execute_result"
    }
   ],
   "source": [
    "dbscan.labels_"
   ]
  },
  {
   "cell_type": "code",
   "execution_count": 19,
   "metadata": {
    "scrolled": true
   },
   "outputs": [
    {
     "name": "stderr",
     "output_type": "stream",
     "text": [
      "C:\\Users\\Youssef\\Anaconda3\\lib\\site-packages\\ipykernel_launcher.py:8: UserWarning: Matplotlib is currently using module://ipykernel.pylab.backend_inline, which is a non-GUI backend, so cannot show the figure.\n",
      "  \n"
     ]
    },
    {
     "data": {
      "image/png": "[encoded data removed]",
      "text/plain": [
       "<Figure size 432x288 with 2 Axes>"
      ]
     },
     "metadata": {
      "needs_background": "light"
     },
     "output_type": "display_data"
    }
   ],
   "source": [
    "dbscan = DBSCAN(eps=0.8, min_samples=5).fit(df)\n",
    "fig = plt.figure()\n",
    "ax = fig.add_subplot(111)\n",
    "scatter = ax.scatter(df.x, df.y, c=dbscan.labels_, s=70)\n",
    "ax.set_xlabel('x')\n",
    "ax.set_ylabel('y')\n",
    "plt.colorbar(scatter)\n",
    "fig.show()"
   ]
  },
  {
   "cell_type": "markdown",
   "metadata": {},
   "source": [
    "## Resources\n"
   ]
  },
  {
   "cell_type": "markdown",
   "metadata": {},
   "source": [
    "http://madhugnadig.com/articles/machine-learning/2017/09/13/implementing-dbscan-from-scratch-in-python-machine-learning.html\n",
    "    \n",
    "https://www.mikioharman.com/2020-08-24-dbscan/\n",
    "    \n",
    "https://radiant-brushlands-42789.herokuapp.com/towardsdatascience.com/understanding-dbscan-algorithm-and-implementation-from-scratch-c256289479c5\n",
    "    \n",
    "https://towardsdatascience.com/understanding-dbscan-algorithm-and-implementation-from-scratch-c256289479c5    "
   ]
  }
 ],
 "metadata": {
  "kernelspec": {
   "display_name": "Python 3",
   "language": "python",
   "name": "python3"
  },
  "language_info": {
   "codemirror_mode": {
    "name": "ipython",
    "version": 3
   },
   "file_extension": ".py",
   "mimetype": "text/x-python",
   "name": "python",
   "nbconvert_exporter": "python",
   "pygments_lexer": "ipython3",
   "version": "3.7.4"
  }
 },
 "nbformat": 4,
 "nbformat_minor": 5
}
